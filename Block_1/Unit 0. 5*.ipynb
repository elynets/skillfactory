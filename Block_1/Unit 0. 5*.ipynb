{
 "cells": [
  {
   "cell_type": "code",
   "execution_count": 2,
   "id": "18e50f8e",
   "metadata": {},
   "outputs": [
    {
     "name": "stdout",
     "output_type": "stream",
     "text": [
      "set()\n"
     ]
    }
   ],
   "source": [
    "s1 = set()\n",
    "print(s1)"
   ]
  },
  {
   "cell_type": "code",
   "execution_count": 7,
   "id": "05dba7bb",
   "metadata": {},
   "outputs": [
    {
     "name": "stdout",
     "output_type": "stream",
     "text": [
      "{2, 3, 5, 10, 11}\n"
     ]
    }
   ],
   "source": [
    "s2 = {5, 10, 3, 2, 11}\n",
    "print(s1)"
   ]
  },
  {
   "cell_type": "code",
   "execution_count": 10,
   "id": "4fcce1ed",
   "metadata": {},
   "outputs": [
    {
     "name": "stdout",
     "output_type": "stream",
     "text": [
      "{'s', 'c', 'w', 't', 'l', 'a', ' ', 'o', 'h'}\n"
     ]
    }
   ],
   "source": [
    "s3 = set(\"wow thats cool\")\n",
    "print(s3)"
   ]
  },
  {
   "cell_type": "code",
   "execution_count": 13,
   "id": "a5d7cf63",
   "metadata": {},
   "outputs": [
    {
     "name": "stdout",
     "output_type": "stream",
     "text": [
      "{'c', 'hello', 'a', 'e', 'd', 'b'}\n"
     ]
    }
   ],
   "source": [
    "s1 = {'a','b','c','d','e'}\n",
    "s1.add('hello')\n",
    "print(s1)"
   ]
  },
  {
   "cell_type": "code",
   "execution_count": 14,
   "id": "46722a64",
   "metadata": {},
   "outputs": [
    {
     "name": "stdout",
     "output_type": "stream",
     "text": [
      "{'c', 'a', 'e', 'b'}\n"
     ]
    }
   ],
   "source": [
    "s1 = {'a','b','c','d','e'}\n",
    "s1.remove('d')\n",
    "print(s1)"
   ]
  },
  {
   "cell_type": "code",
   "execution_count": 18,
   "id": "1f01de72",
   "metadata": {},
   "outputs": [
    {
     "name": "stdout",
     "output_type": "stream",
     "text": [
      "{'c', 'a', 'e', 'd', 'b'}\n"
     ]
    }
   ],
   "source": [
    "s1 = {'a','b','c','d','e','f'}\n",
    "s1.discard('f')\n",
    "print(s1)"
   ]
  },
  {
   "cell_type": "code",
   "execution_count": 20,
   "id": "6ffc899c",
   "metadata": {},
   "outputs": [
    {
     "name": "stdout",
     "output_type": "stream",
     "text": [
      "{'c', 'a', 'e', 'd', 'b'}\n"
     ]
    }
   ],
   "source": [
    "s1 = {'a','b','c','d','e','f'}\n",
    "s1.remove('f')\n",
    "print(s1)"
   ]
  },
  {
   "cell_type": "code",
   "execution_count": 29,
   "id": "8669df54",
   "metadata": {},
   "outputs": [
    {
     "name": "stdout",
     "output_type": "stream",
     "text": [
      "{'c', 'a', 'e', 'd', 'b'}\n",
      "{'a', ' ', 'o', 'y', 'd', 'b'}\n",
      "{'c', 'a', ' ', 'e', 'o', 'y', 'd', 'b'}\n"
     ]
    }
   ],
   "source": [
    "alpha_set = {'a','b','c','d','e'}\n",
    "print(alpha_set)\n",
    "name = set('bad boy')\n",
    "print(name)\n",
    "new_union = alpha_set.union(name)\n",
    "print(new_union)"
   ]
  },
  {
   "cell_type": "code",
   "execution_count": 32,
   "id": "3946cbc0",
   "metadata": {},
   "outputs": [
    {
     "name": "stdout",
     "output_type": "stream",
     "text": [
      "{0, 1, 2, 3, 4, 5, 6, 7, 8, 9, 10}\n",
      "{8, 1, 4, 9}\n",
      "{0, 1, 2, 3, 4, 5, 6, 7, 8, 9, 10}\n"
     ]
    }
   ],
   "source": [
    "num_set = {0,1,2,3,4,5,6,7,8,9,10}\n",
    "print(num_set)\n",
    "num_list = [1,9,4,8]\n",
    "date_set = set(num_list)\n",
    "print(date_set)\n",
    "result = num_set.union(num_list)\n",
    "print(result)"
   ]
  },
  {
   "cell_type": "code",
   "execution_count": 34,
   "id": "6a7571ef",
   "metadata": {},
   "outputs": [
    {
     "name": "stdout",
     "output_type": "stream",
     "text": [
      "{'c', 'a', 'e', 'd', 'b'}\n",
      "{'a', ' ', 'o', 'y', 'd', 'b'}\n",
      "{'b', 'a', 'd'}\n"
     ]
    }
   ],
   "source": [
    "alpha_set = {'a','b','c','d','e'}\n",
    "print(alpha_set)\n",
    "name = set('bad boy')\n",
    "print(name)\n",
    "result = alpha_set.intersection(name)\n",
    "print(result)"
   ]
  },
  {
   "cell_type": "code",
   "execution_count": 36,
   "id": "743d8be5",
   "metadata": {},
   "outputs": [
    {
     "name": "stdout",
     "output_type": "stream",
     "text": [
      "{0, 1, 2, 3, 4, 5, 6, 7, 8, 9, 10}\n",
      "{8, 1, 4, 9}\n",
      "{8, 1, 4, 9}\n"
     ]
    }
   ],
   "source": [
    "num_set = {0,1,2,3,4,5,6,7,8,9,10}\n",
    "print(num_set)\n",
    "num_list = [1,9,4,8]\n",
    "date_set = set(num_list)\n",
    "print(date_set)\n",
    "result = num_set.intersection(num_list)\n",
    "print(result)"
   ]
  },
  {
   "cell_type": "code",
   "execution_count": 38,
   "id": "e4eca46d",
   "metadata": {},
   "outputs": [
    {
     "name": "stdout",
     "output_type": "stream",
     "text": [
      "{'c', 'a', 'e', 'd', 'b'}\n",
      "{'a', ' ', 'o', 'y', 'd', 'b'}\n",
      "{'c', 'e'}\n"
     ]
    }
   ],
   "source": [
    "alpha_set = {'a','b','c','d','e'}\n",
    "print(alpha_set)\n",
    "name = set('bad boy')\n",
    "print(name)\n",
    "result = alpha_set.difference(name)\n",
    "print(result)"
   ]
  },
  {
   "cell_type": "code",
   "execution_count": 39,
   "id": "e45f3502",
   "metadata": {},
   "outputs": [
    {
     "name": "stdout",
     "output_type": "stream",
     "text": [
      "{0, 1, 2, 3, 4, 5, 6, 7, 8, 9, 10}\n",
      "{8, 1, 4, 9}\n",
      "{0, 2, 3, 5, 6, 7, 10}\n"
     ]
    }
   ],
   "source": [
    "num_set = {0,1,2,3,4,5,6,7,8,9,10}\n",
    "print(num_set)\n",
    "num_list = [1,9,4,8]\n",
    "date_set = set(num_list)\n",
    "print(date_set)\n",
    "result = num_set.difference(num_list)\n",
    "print(result)"
   ]
  }
 ],
 "metadata": {
  "kernelspec": {
   "display_name": "Python 3",
   "language": "python",
   "name": "python3"
  },
  "language_info": {
   "codemirror_mode": {
    "name": "ipython",
    "version": 3
   },
   "file_extension": ".py",
   "mimetype": "text/x-python",
   "name": "python",
   "nbconvert_exporter": "python",
   "pygments_lexer": "ipython3",
   "version": "3.8.8"
  }
 },
 "nbformat": 4,
 "nbformat_minor": 5
}

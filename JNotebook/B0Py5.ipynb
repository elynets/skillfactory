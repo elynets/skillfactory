{
 "cells": [
  {
   "cell_type": "markdown",
   "metadata": {},
   "source": [
    "# Inner Functions\n"
   ]
  },
  {
   "cell_type": "code",
   "execution_count": 11,
   "metadata": {},
   "outputs": [
    {
     "ename": "TypeError",
     "evalue": "saver() missing 1 required positional argument: 'num'",
     "output_type": "error",
     "traceback": [
      "\u001b[0;31m---------------------------------------------------------------------------\u001b[0m",
      "\u001b[0;31mTypeError\u001b[0m                                 Traceback (most recent call last)",
      "\u001b[1;32m/home/lynetsea/Documents/PythonEdu/skillfactory/JNotebook/B0Py5.ipynb Cell 2'\u001b[0m in \u001b[0;36m<module>\u001b[0;34m\u001b[0m\n\u001b[1;32m     <a href='vscode-notebook-cell:/home/lynetsea/Documents/PythonEdu/skillfactory/JNotebook/B0Py5.ipynb#ch0000002?line=10'>11</a>\u001b[0m     \u001b[39mreturn\u001b[39;00m total\n\u001b[1;32m     <a href='vscode-notebook-cell:/home/lynetsea/Documents/PythonEdu/skillfactory/JNotebook/B0Py5.ipynb#ch0000002?line=11'>12</a>\u001b[0m   \u001b[39mreturn\u001b[39;00m adder(num)\n\u001b[0;32m---> <a href='vscode-notebook-cell:/home/lynetsea/Documents/PythonEdu/skillfactory/JNotebook/B0Py5.ipynb#ch0000002?line=13'>14</a>\u001b[0m pig \u001b[39m=\u001b[39m saver()\n\u001b[1;32m     <a href='vscode-notebook-cell:/home/lynetsea/Documents/PythonEdu/skillfactory/JNotebook/B0Py5.ipynb#ch0000002?line=14'>15</a>\u001b[0m \u001b[39mprint\u001b[39m(pig(\u001b[39m25\u001b[39m))\n\u001b[1;32m     <a href='vscode-notebook-cell:/home/lynetsea/Documents/PythonEdu/skillfactory/JNotebook/B0Py5.ipynb#ch0000002?line=15'>16</a>\u001b[0m \u001b[39mprint\u001b[39m(pig(\u001b[39m100\u001b[39m))\n",
      "\u001b[0;31mTypeError\u001b[0m: saver() missing 1 required positional argument: 'num'"
     ]
    }
   ],
   "source": [
    "#Напишите функцию-копилку с названием saver(), которая не принимает никаких аргументов. \n",
    "#Она должна возвращать внутреннюю функцию adder(), которая принимает на вход одно число и возвращает сумму в копилке после прибавления числа.\n",
    "#Изначально в новой копилке хранится 0\n",
    "\n",
    "def saver():\n",
    "  # Вместо pass напишите тело функции\n",
    "  total = 0\n",
    "  def adder():\n",
    "    nonlocal total \n",
    "    total +=num\n",
    "    return total\n",
    "  return adder()\n",
    "\n",
    "pig = saver()\n",
    "print(pig(25))\n",
    "print(pig(100))\n",
    "print(pig(19))\n"
   ]
  }
 ],
 "metadata": {
  "interpreter": {
   "hash": "e7370f93d1d0cde622a1f8e1c04877d8463912d04d973331ad4851f04de6915a"
  },
  "kernelspec": {
   "display_name": "Python 3.10.2 64-bit",
   "language": "python",
   "name": "python3"
  },
  "language_info": {
   "codemirror_mode": {
    "name": "ipython",
    "version": 3
   },
   "file_extension": ".py",
   "mimetype": "text/x-python",
   "name": "python",
   "nbconvert_exporter": "python",
   "pygments_lexer": "ipython3",
   "version": "3.10.2"
  },
  "orig_nbformat": 4
 },
 "nbformat": 4,
 "nbformat_minor": 2
}

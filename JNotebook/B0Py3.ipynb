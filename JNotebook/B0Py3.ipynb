{
 "cells": [
  {
   "cell_type": "markdown",
   "metadata": {},
   "source": [
    "# Operators"
   ]
  },
  {
   "cell_type": "code",
   "execution_count": null,
   "metadata": {},
   "outputs": [
    {
     "name": "stdout",
     "output_type": "stream",
     "text": [
      "[1, 2]\n",
      "True\n"
     ]
    }
   ],
   "source": [
    "list_1 = [1, 2]\n",
    "\n",
    "list_2 = [1, 2, 3]\n",
    "val = list_2.pop()\n",
    "print(list_2)\n",
    "print(list_1 == list_2)\n"
   ]
  },
  {
   "cell_type": "code",
   "execution_count": null,
   "metadata": {},
   "outputs": [
    {
     "name": "stdout",
     "output_type": "stream",
     "text": [
      "False\n"
     ]
    }
   ],
   "source": [
    "list_1 = [1, 2]\n",
    "\n",
    "list_2 = [1, 2, 3]\n",
    "val = list_2.pop()\n",
    "\n",
    "print(id(list_1) == id(list_2))\n"
   ]
  },
  {
   "cell_type": "code",
   "execution_count": null,
   "metadata": {},
   "outputs": [
    {
     "name": "stdout",
     "output_type": "stream",
     "text": [
      "17\n"
     ]
    }
   ],
   "source": [
    "my_list = list(range(0, 100, 3))\n",
    "counter=0\n",
    "for i in my_list:\n",
    "  if i%2 == 0:\n",
    "    counter +=1\n",
    "    \n",
    "print(counter)"
   ]
  },
  {
   "cell_type": "code",
   "execution_count": null,
   "metadata": {},
   "outputs": [
    {
     "name": "stdout",
     "output_type": "stream",
     "text": [
      "2\n",
      "3\n",
      "4\n"
     ]
    }
   ],
   "source": [
    "n = 10\n",
    "i = 1\n",
    "while i ** 2 < n:\n",
    "  i += 1\n",
    "  print(i)\n"
   ]
  },
  {
   "cell_type": "code",
   "execution_count": 6,
   "metadata": {},
   "outputs": [
    {
     "name": "stdout",
     "output_type": "stream",
     "text": [
      "1 i= 1\n",
      "2 i= 2\n",
      "3 i= 6\n",
      "4 i= 24\n",
      "5 i= 120\n",
      "6 i= 720\n",
      "7 i= 5040\n"
     ]
    }
   ],
   "source": [
    "count = 0\n",
    "i = 1\n",
    "while i<=1000:\n",
    "  count += 1\n",
    "  #print(count, \" => \")\n",
    "  i *=count\n",
    "  print(count,\"i=\",i)\n"
   ]
  },
  {
   "cell_type": "code",
   "execution_count": 1,
   "metadata": {},
   "outputs": [
    {
     "name": "stdout",
     "output_type": "stream",
     "text": [
      "3^ 0 => 1\n",
      "3^ 1 => 3\n",
      "3^ 2 => 9\n",
      "3^ 3 => 27\n",
      "3^ 4 => 81\n",
      "3^ 5 => 243\n",
      "3^ 6 => 729\n",
      "3^ 7 => 2187\n",
      "Искомая степень 7\n"
     ]
    }
   ],
   "source": [
    "n = 0\n",
    "limit = int(input(\"Limit:\"))\n",
    "while True:\n",
    "    print(\"3^\", n, \"=>\",  3**n)\n",
    "    if 3**n > 1000:\n",
    "        print(\"Искомая степень\", n)\n",
    "        break\n",
    "    n += 1\n"
   ]
  },
  {
   "cell_type": "code",
   "execution_count": 7,
   "metadata": {},
   "outputs": [
    {
     "name": "stdout",
     "output_type": "stream",
     "text": [
      "1 Sum= 1080.0\n",
      "2 Sum= 1166.4\n",
      "3 Sum= 1259.712\n",
      "4 Sum= 1360.48896\n",
      "5 Sum= 1469.3280768\n",
      "6 Sum= 1586.874322944\n",
      "7 Sum= 1713.82426877952\n",
      "8 Sum= 1850.9302102818817\n",
      "9 Sum= 1999.0046271044323\n",
      "10 Sum= 2158.924997272787\n",
      "11 Sum= 2331.63899705461\n",
      "12 Sum= 2518.170116818979\n",
      "13 Sum= 2719.6237261644974\n",
      "14 Sum= 2937.193624257657\n",
      "15 Sum= 3172.1691141982697\n"
     ]
    }
   ],
   "source": [
    "year = 0\n",
    "percent = 0.08\n",
    "sum_start = 1000\n",
    "while sum_start <= 3000:\n",
    "  year += 1\n",
    "  #print(count, \" => \")\n",
    "  sum_start += sum_start*percent\n",
    "  print(year, \"Sum=\", sum_start)\n"
   ]
  },
  {
   "cell_type": "code",
   "execution_count": 9,
   "metadata": {},
   "outputs": [
    {
     "name": "stdout",
     "output_type": "stream",
     "text": [
      "There are 2 people in the room\n",
      "There are 3 people in the room\n",
      "There are 4 people in the room\n",
      "There are 5 people in the room\n"
     ]
    }
   ],
   "source": [
    "max_people = 5\n",
    "i = 1\n",
    "while i < max_people:\n",
    "    i +=1\n",
    "    print('There are', i, 'people in the room')  # В помещении i человек\n"
   ]
  },
  {
   "cell_type": "code",
   "execution_count": null,
   "metadata": {},
   "outputs": [],
   "source": []
  },
  {
   "cell_type": "markdown",
   "metadata": {},
   "source": [
    "# LAMBDA"
   ]
  },
  {
   "cell_type": "code",
   "execution_count": 4,
   "metadata": {},
   "outputs": [
    {
     "name": "stdout",
     "output_type": "stream",
     "text": [
      "[(3, 4), (1, 2), (10, 10)]\n"
     ]
    }
   ],
   "source": [
    "def sort_sides(l_in):\n",
    "    # Вместо pass напишите свою функцию\n",
    "    \n",
    "    l_in.sort(key=lambda l_in: (l_in[0]**2+l_in[1]**2)**(1/2))\n",
    "    return l_in\n",
    "\n",
    "\n",
    "print(sort_sides([(3, 4), (1, 2), (10, 10)]))\n",
    "# [(1, 2), (3, 4), (10, 10)]\n"
   ]
  },
  {
   "cell_type": "code",
   "execution_count": 8,
   "metadata": {},
   "outputs": [
    {
     "name": "stdout",
     "output_type": "stream",
     "text": [
      "12 34 5678\n"
     ]
    }
   ],
   "source": [
    "date = \"12345678\"\n",
    "print(date[0:2],date[2:4],date[4:8])"
   ]
  },
  {
   "cell_type": "code",
   "execution_count": 17,
   "metadata": {},
   "outputs": [
    {
     "name": "stdout",
     "output_type": "stream",
     "text": [
      "False\n",
      "10  /  2  =  2\n",
      "10  /  5  =  5\n",
      "False\n",
      "True\n"
     ]
    }
   ],
   "source": [
    "def is_prime(num):\n",
    "    # Вместо pass напишите тело функции\n",
    "    count = 0\n",
    "    if num == 1:\n",
    "      return False\n",
    "    \n",
    "    for i in range(2,num):\n",
    "      if num%i == 0:\n",
    "          count +=1\n",
    "    \n",
    "    if count==0:\n",
    "      return True\n",
    "    else:\n",
    "      return False\n",
    "\n",
    "\n",
    "print(is_prime(1))\n",
    "print(is_prime(10))\n",
    "print(is_prime(13))\n",
    "# False\n",
    "# False\n",
    "# True\n"
   ]
  },
  {
   "cell_type": "code",
   "execution_count": 36,
   "metadata": {},
   "outputs": [
    {
     "name": "stdout",
     "output_type": "stream",
     "text": [
      "Mike\n",
      "Tom\n",
      "Jerry\n"
     ]
    }
   ],
   "source": [
    "def best_student(**students):\n",
    "    return sorted(students.items(), key=lambda x: x[1])[0][0]\n",
    "\n",
    "print(best_student(Tom=12, Mike=3))\n",
    "print(best_student(Tom=12))\n",
    "print(best_student(Tom=12, Jerry=1, Jane=2))\n",
    "# Mike\n",
    "# Tom\n",
    "# Jerry\n"
   ]
  },
  {
   "cell_type": "code",
   "execution_count": 39,
   "metadata": {},
   "outputs": [
    {
     "name": "stdout",
     "output_type": "stream",
     "text": [
      "no\n",
      "yes\n"
     ]
    }
   ],
   "source": [
    "is_palindrom = lambda x: 'yes' if x==x[::-1] else 'no'\n",
    "print(is_palindrom('1234'))\n",
    "print(is_palindrom('12321'))\n"
   ]
  },
  {
   "cell_type": "code",
   "execution_count": 47,
   "metadata": {},
   "outputs": [
    {
     "name": "stdout",
     "output_type": "stream",
     "text": [
      "85.0\n",
      "8500\n",
      "11.764705882352942\n"
     ]
    },
    {
     "ename": "ValueError",
     "evalue": "Too many arguments",
     "output_type": "error",
     "traceback": [
      "\u001b[0;31m---------------------------------------------------------------------------\u001b[0m",
      "\u001b[0;31mValueError\u001b[0m                                Traceback (most recent call last)",
      "\u001b[0;32m<ipython-input-47-5b6defe41ade>\u001b[0m in \u001b[0;36m<module>\u001b[0;34m\u001b[0m\n\u001b[1;32m     25\u001b[0m \u001b[0;31m# 8500\u001b[0m\u001b[0;34m\u001b[0m\u001b[0;34m\u001b[0m\u001b[0;34m\u001b[0m\u001b[0m\n\u001b[1;32m     26\u001b[0m \u001b[0;31m# 11.764705882352942\u001b[0m\u001b[0;34m\u001b[0m\u001b[0;34m\u001b[0m\u001b[0;34m\u001b[0m\u001b[0m\n\u001b[0;32m---> 27\u001b[0;31m \u001b[0mprint\u001b[0m\u001b[0;34m(\u001b[0m\u001b[0mexchange\u001b[0m\u001b[0;34m(\u001b[0m\u001b[0mrub\u001b[0m\u001b[0;34m=\u001b[0m\u001b[0;36m1000\u001b[0m\u001b[0;34m,\u001b[0m \u001b[0mrate\u001b[0m\u001b[0;34m=\u001b[0m\u001b[0;36m85\u001b[0m\u001b[0;34m,\u001b[0m \u001b[0musd\u001b[0m\u001b[0;34m=\u001b[0m\u001b[0;36m90\u001b[0m\u001b[0;34m)\u001b[0m\u001b[0;34m)\u001b[0m\u001b[0;34m\u001b[0m\u001b[0;34m\u001b[0m\u001b[0m\n\u001b[0m\u001b[1;32m     28\u001b[0m \u001b[0;31m# ValueError: Too many arguments\u001b[0m\u001b[0;34m\u001b[0m\u001b[0;34m\u001b[0m\u001b[0;34m\u001b[0m\u001b[0m\n\u001b[1;32m     29\u001b[0m \u001b[0mprint\u001b[0m\u001b[0;34m(\u001b[0m\u001b[0mexchange\u001b[0m\u001b[0;34m(\u001b[0m\u001b[0mrub\u001b[0m\u001b[0;34m=\u001b[0m\u001b[0;36m1000\u001b[0m\u001b[0;34m)\u001b[0m\u001b[0;34m)\u001b[0m\u001b[0;34m\u001b[0m\u001b[0;34m\u001b[0m\u001b[0m\n",
      "\u001b[0;32m<ipython-input-47-5b6defe41ade>\u001b[0m in \u001b[0;36mexchange\u001b[0;34m(**kwargs)\u001b[0m\n\u001b[1;32m      1\u001b[0m \u001b[0;32mdef\u001b[0m \u001b[0mexchange\u001b[0m\u001b[0;34m(\u001b[0m\u001b[0;34m**\u001b[0m\u001b[0mkwargs\u001b[0m\u001b[0;34m)\u001b[0m\u001b[0;34m:\u001b[0m\u001b[0;34m\u001b[0m\u001b[0;34m\u001b[0m\u001b[0m\n\u001b[1;32m      2\u001b[0m   \u001b[0;32mif\u001b[0m \u001b[0mlen\u001b[0m\u001b[0;34m(\u001b[0m\u001b[0mkwargs\u001b[0m\u001b[0;34m)\u001b[0m \u001b[0;34m>\u001b[0m \u001b[0;36m2\u001b[0m\u001b[0;34m:\u001b[0m\u001b[0;34m\u001b[0m\u001b[0;34m\u001b[0m\u001b[0m\n\u001b[0;32m----> 3\u001b[0;31m     \u001b[0;32mraise\u001b[0m \u001b[0mValueError\u001b[0m\u001b[0;34m(\u001b[0m\u001b[0;34m\"Too many arguments\"\u001b[0m\u001b[0;34m)\u001b[0m\u001b[0;34m\u001b[0m\u001b[0;34m\u001b[0m\u001b[0m\n\u001b[0m\u001b[1;32m      4\u001b[0m   \u001b[0;32melif\u001b[0m \u001b[0mlen\u001b[0m\u001b[0;34m(\u001b[0m\u001b[0mkwargs\u001b[0m\u001b[0;34m)\u001b[0m \u001b[0;34m<\u001b[0m \u001b[0;36m2\u001b[0m\u001b[0;34m:\u001b[0m\u001b[0;34m\u001b[0m\u001b[0;34m\u001b[0m\u001b[0m\n\u001b[1;32m      5\u001b[0m     \u001b[0;32mraise\u001b[0m \u001b[0mValueError\u001b[0m\u001b[0;34m(\u001b[0m\u001b[0;34m\"Not enough arguments\"\u001b[0m\u001b[0;34m)\u001b[0m\u001b[0;34m\u001b[0m\u001b[0;34m\u001b[0m\u001b[0m\n",
      "\u001b[0;31mValueError\u001b[0m: Too many arguments"
     ]
    }
   ],
   "source": [
    "def exchange(usd, rub, rate):\n",
    "#def exchange(**kwargs):\n",
    "  usd = 0\n",
    "  rub = 0\n",
    "  rate = 0\n",
    "  \n",
    "  if usd == 0 and rub == 0 and rate == 0:\n",
    "    raise ValueError(\"Not enough arguments\")\n",
    "  elif:\n",
    "    \n",
    "  \n",
    "  \n",
    "  if len(kwargs) > 2:\n",
    "    raise ValueError(\"Too many arguments\")\n",
    "  elif len(kwargs) < 2:\n",
    "    raise ValueError(\"Not enough arguments\")\n",
    "  else:\n",
    "    rate = kwargs.get('rate', 0)\n",
    "    usd = kwargs.get('usd', 0)\n",
    "    rub = kwargs.get('rub', 0)\n",
    "    if rate == 0:\n",
    "      if usd != 0 and rub != 0:\n",
    "        return rub/usd\n",
    "    else:\n",
    "      if usd != 0:\n",
    "        return usd*rate\n",
    "      else:\n",
    "        return rub/rate\n",
    "\n",
    "      \n",
    "      \n",
    "print(exchange(usd=100, rub=8500))\n",
    "print(exchange(usd=100, rate=85))\n",
    "print(exchange(rub=1000, rate=85))\n",
    "# 85.0\n",
    "# 8500\n",
    "# 11.764705882352942\n",
    "print(exchange(rub=1000, rate=85, usd=90))\n",
    "# ValueError: Too many arguments\n",
    "print(exchange(rub=1000))\n",
    "# ValueError: Not enough arguments\n"
   ]
  }
 ],
 "metadata": {
  "interpreter": {
   "hash": "e7370f93d1d0cde622a1f8e1c04877d8463912d04d973331ad4851f04de6915a"
  },
  "kernelspec": {
   "display_name": "Python 3.10.2 64-bit",
   "language": "python",
   "name": "python3"
  },
  "language_info": {
   "codemirror_mode": {
    "name": "ipython",
    "version": 3
   },
   "file_extension": ".py",
   "mimetype": "text/x-python",
   "name": "python",
   "nbconvert_exporter": "python",
   "pygments_lexer": "ipython3",
   "version": "3.8.8"
  },
  "orig_nbformat": 4
 },
 "nbformat": 4,
 "nbformat_minor": 2
}

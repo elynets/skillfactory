{
 "cells": [
  {
   "cell_type": "markdown",
   "metadata": {},
   "source": [
    "# Operators"
   ]
  },
  {
   "cell_type": "code",
   "execution_count": null,
   "metadata": {},
   "outputs": [
    {
     "name": "stdout",
     "output_type": "stream",
     "text": [
      "[1, 2]\n",
      "True\n"
     ]
    }
   ],
   "source": [
    "list_1 = [1, 2]\n",
    "\n",
    "list_2 = [1, 2, 3]\n",
    "val = list_2.pop()\n",
    "print(list_2)\n",
    "print(list_1 == list_2)\n"
   ]
  },
  {
   "cell_type": "code",
   "execution_count": null,
   "metadata": {},
   "outputs": [
    {
     "name": "stdout",
     "output_type": "stream",
     "text": [
      "False\n"
     ]
    }
   ],
   "source": [
    "list_1 = [1, 2]\n",
    "\n",
    "list_2 = [1, 2, 3]\n",
    "val = list_2.pop()\n",
    "\n",
    "print(id(list_1) == id(list_2))\n"
   ]
  },
  {
   "cell_type": "code",
   "execution_count": null,
   "metadata": {},
   "outputs": [
    {
     "name": "stdout",
     "output_type": "stream",
     "text": [
      "17\n"
     ]
    }
   ],
   "source": [
    "my_list = list(range(0, 100, 3))\n",
    "counter=0\n",
    "for i in my_list:\n",
    "  if i%2 == 0:\n",
    "    counter +=1\n",
    "    \n",
    "print(counter)"
   ]
  },
  {
   "cell_type": "code",
   "execution_count": null,
   "metadata": {},
   "outputs": [
    {
     "name": "stdout",
     "output_type": "stream",
     "text": [
      "2\n",
      "3\n",
      "4\n"
     ]
    }
   ],
   "source": [
    "n = 10\n",
    "i = 1\n",
    "while i ** 2 < n:\n",
    "  i += 1\n",
    "  print(i)\n"
   ]
  },
  {
   "cell_type": "code",
   "execution_count": 6,
   "metadata": {},
   "outputs": [
    {
     "name": "stdout",
     "output_type": "stream",
     "text": [
      "1 i= 1\n",
      "2 i= 2\n",
      "3 i= 6\n",
      "4 i= 24\n",
      "5 i= 120\n",
      "6 i= 720\n",
      "7 i= 5040\n"
     ]
    }
   ],
   "source": [
    "count = 0\n",
    "i = 1\n",
    "while i<=1000:\n",
    "  count += 1\n",
    "  #print(count, \" => \")\n",
    "  i *=count\n",
    "  print(count,\"i=\",i)\n"
   ]
  },
  {
   "cell_type": "code",
   "execution_count": 1,
   "metadata": {},
   "outputs": [
    {
     "name": "stdout",
     "output_type": "stream",
     "text": [
      "3^ 0 => 1\n",
      "3^ 1 => 3\n",
      "3^ 2 => 9\n",
      "3^ 3 => 27\n",
      "3^ 4 => 81\n",
      "3^ 5 => 243\n",
      "3^ 6 => 729\n",
      "3^ 7 => 2187\n",
      "Искомая степень 7\n"
     ]
    }
   ],
   "source": [
    "n = 0\n",
    "limit = int(input(\"Limit:\"))\n",
    "while True:\n",
    "    print(\"3^\", n, \"=>\",  3**n)\n",
    "    if 3**n > 1000:\n",
    "        print(\"Искомая степень\", n)\n",
    "        break\n",
    "    n += 1\n"
   ]
  },
  {
   "cell_type": "code",
   "execution_count": 7,
   "metadata": {},
   "outputs": [
    {
     "name": "stdout",
     "output_type": "stream",
     "text": [
      "1 Sum= 1080.0\n",
      "2 Sum= 1166.4\n",
      "3 Sum= 1259.712\n",
      "4 Sum= 1360.48896\n",
      "5 Sum= 1469.3280768\n",
      "6 Sum= 1586.874322944\n",
      "7 Sum= 1713.82426877952\n",
      "8 Sum= 1850.9302102818817\n",
      "9 Sum= 1999.0046271044323\n",
      "10 Sum= 2158.924997272787\n",
      "11 Sum= 2331.63899705461\n",
      "12 Sum= 2518.170116818979\n",
      "13 Sum= 2719.6237261644974\n",
      "14 Sum= 2937.193624257657\n",
      "15 Sum= 3172.1691141982697\n"
     ]
    }
   ],
   "source": [
    "year = 0\n",
    "percent = 0.08\n",
    "sum_start = 1000\n",
    "while sum_start <= 3000:\n",
    "  year += 1\n",
    "  #print(count, \" => \")\n",
    "  sum_start += sum_start*percent\n",
    "  print(year, \"Sum=\", sum_start)\n"
   ]
  },
  {
   "cell_type": "code",
   "execution_count": 9,
   "metadata": {},
   "outputs": [
    {
     "name": "stdout",
     "output_type": "stream",
     "text": [
      "There are 2 people in the room\n",
      "There are 3 people in the room\n",
      "There are 4 people in the room\n",
      "There are 5 people in the room\n"
     ]
    }
   ],
   "source": [
    "max_people = 5\n",
    "i = 1\n",
    "while i < max_people:\n",
    "    i +=1\n",
    "    print('There are', i, 'people in the room')  # В помещении i человек\n"
   ]
  }
 ],
 "metadata": {
  "interpreter": {
   "hash": "e7370f93d1d0cde622a1f8e1c04877d8463912d04d973331ad4851f04de6915a"
  },
  "kernelspec": {
   "display_name": "Python 3.10.2 64-bit",
   "language": "python",
   "name": "python3"
  },
  "language_info": {
   "codemirror_mode": {
    "name": "ipython",
    "version": 3
   },
   "file_extension": ".py",
   "mimetype": "text/x-python",
   "name": "python",
   "nbconvert_exporter": "python",
   "pygments_lexer": "ipython3",
   "version": "3.8.8"
  },
  "orig_nbformat": 4
 },
 "nbformat": 4,
 "nbformat_minor": 2
}

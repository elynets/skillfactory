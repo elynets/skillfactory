{
 "cells": [
  {
   "cell_type": "code",
   "execution_count": 1,
   "id": "0688e94b",
   "metadata": {},
   "outputs": [
    {
     "data": {
      "text/plain": [
       "12.469999999999999"
      ]
     },
     "execution_count": 1,
     "metadata": {},
     "output_type": "execute_result"
    }
   ],
   "source": [
    "import pandas as pd\n",
    "\n",
    "df = pd.DataFrame({\n",
    "    'men': [80.2, 80.8, 57.5, 98, 50.5, 73.8, 77.4, 59.7, 77.9, 52.6],\n",
    "    'women': [57.9, 57.3, 72.8, 48.2, 59.5, 48.3, 61.2, 53.9, 53.9, 70.7]\n",
    "})\n",
    "df['men'].mean()-df['women'].mean()"
   ]
  },
  {
   "cell_type": "code",
   "execution_count": 2,
   "id": "8a64aa35",
   "metadata": {},
   "outputs": [
    {
     "name": "stdout",
     "output_type": "stream",
     "text": [
      "   col1\n",
      "0     2\n",
      "1     7\n",
      "2     4\n",
      "3     3\n",
      "4     6\n",
      "5     4\n",
      "6     1\n",
      "7     2\n",
      "3.5\n",
      "   col1\n",
      "0     5\n",
      "1     2\n",
      "2     4\n",
      "3     8\n",
      "4     1\n",
      "5     6\n",
      "6     7\n",
      "5.0\n"
     ]
    }
   ],
   "source": [
    "import pandas as pd\n",
    "\n",
    "df = pd.DataFrame({'col1': [2, 7, 4, 3, 6, 4, 1, 2]})\n",
    "print(df)\n",
    "print(df.col1.median())\n",
    "\n",
    "df = pd.DataFrame({'col1': [5, 2, 4, 8, 1, 6, 7]})\n",
    "\n",
    "print(df)\n",
    "print(df.col1.median())"
   ]
  },
  {
   "cell_type": "code",
   "execution_count": 3,
   "id": "e7ecbaf3",
   "metadata": {},
   "outputs": [
    {
     "ename": "NameError",
     "evalue": "name 'df2' is not defined",
     "output_type": "error",
     "traceback": [
      "\u001b[0;31m---------------------------------------------------------------------------\u001b[0m",
      "\u001b[0;31mNameError\u001b[0m                                 Traceback (most recent call last)",
      "\u001b[0;32m<ipython-input-3-60df90743678>\u001b[0m in \u001b[0;36m<module>\u001b[0;34m\u001b[0m\n\u001b[1;32m      4\u001b[0m })\n\u001b[1;32m      5\u001b[0m \u001b[0;34m\u001b[0m\u001b[0m\n\u001b[0;32m----> 6\u001b[0;31m \u001b[0mdf2\u001b[0m\u001b[0;34m[\u001b[0m\u001b[0;34m'all'\u001b[0m\u001b[0;34m]\u001b[0m \u001b[0;34m=\u001b[0m \u001b[0mpd\u001b[0m\u001b[0;34m.\u001b[0m\u001b[0mconcat\u001b[0m\u001b[0;34m(\u001b[0m\u001b[0;34m[\u001b[0m\u001b[0mdf\u001b[0m\u001b[0;34m[\u001b[0m\u001b[0;34m'men'\u001b[0m\u001b[0;34m]\u001b[0m\u001b[0;34m,\u001b[0m \u001b[0mdf\u001b[0m\u001b[0;34m[\u001b[0m\u001b[0;34m'women'\u001b[0m\u001b[0;34m]\u001b[0m\u001b[0;34m]\u001b[0m\u001b[0;34m)\u001b[0m\u001b[0;34m\u001b[0m\u001b[0;34m\u001b[0m\u001b[0m\n\u001b[0m\u001b[1;32m      7\u001b[0m \u001b[0mprint\u001b[0m\u001b[0;34m(\u001b[0m\u001b[0mdf\u001b[0m\u001b[0;34m[\u001b[0m\u001b[0;34m'men'\u001b[0m\u001b[0;34m]\u001b[0m\u001b[0;34m.\u001b[0m\u001b[0mmedian\u001b[0m\u001b[0;34m(\u001b[0m\u001b[0;34m)\u001b[0m\u001b[0;34m)\u001b[0m\u001b[0;34m\u001b[0m\u001b[0;34m\u001b[0m\u001b[0m\n\u001b[1;32m      8\u001b[0m \u001b[0mprint\u001b[0m\u001b[0;34m(\u001b[0m\u001b[0mdf\u001b[0m\u001b[0;34m[\u001b[0m\u001b[0;34m'women'\u001b[0m\u001b[0;34m]\u001b[0m\u001b[0;34m.\u001b[0m\u001b[0mmedian\u001b[0m\u001b[0;34m(\u001b[0m\u001b[0;34m)\u001b[0m\u001b[0;34m)\u001b[0m\u001b[0;34m\u001b[0m\u001b[0;34m\u001b[0m\u001b[0m\n",
      "\u001b[0;31mNameError\u001b[0m: name 'df2' is not defined"
     ]
    }
   ],
   "source": [
    "df = pd.DataFrame({\n",
    "    'men': [80.2, 80.8, 57.5, 98, 50.5, 73.8, 77.4, 59.7, 77.9, 52.6],\n",
    "    'women': [57.9, 57.3, 72.8, 48.2, 59.5, 48.3, 61.2, 53.9, 53.9, 70.7]\n",
    "})\n",
    "\n",
    "df2['all'] = pd.concat([df['men'], df['women']])\n",
    "print(df['men'].median())\n",
    "print(df['women'].median())\n",
    "print(df2['all'].median())"
   ]
  },
  {
   "cell_type": "code",
   "execution_count": null,
   "id": "f9b087be",
   "metadata": {},
   "outputs": [],
   "source": [
    "import pandas as pd\n",
    "\n",
    "df1 = pd.DataFrame({'col1': [2, 7, 4, 3, 6, 4, 1, 2]})\n",
    "df2 = pd.DataFrame({'col1': [5, 2, 4, 8, 1, 6, 7]})\n",
    "interpolation = 'midpoint'\n",
    "print('Q1:')\n",
    "print(df1.col1.quantile(q=0.25,interpolation=interpolation))\n",
    "print(df2.col1.quantile(q=0.25,interpolation=interpolation))\n",
    "print('Q2:')\n",
    "print(df1.col1.quantile(q=0.5,interpolation=interpolation))\n",
    "print(df2.col1.quantile(q=0.5,interpolation=interpolation))\n",
    "print('Q3:')\n",
    "print(df1.col1.quantile(q=0.75,interpolation=interpolation))\n",
    "print(df2.col1.quantile(q=0.75,interpolation=interpolation))\n"
   ]
  },
  {
   "cell_type": "code",
   "execution_count": null,
   "id": "cbb6fdf1",
   "metadata": {},
   "outputs": [],
   "source": [
    "df = pd.DataFrame({\n",
    "    'men': [80, 80.8, 57.5, 98, 50.5, 73.8, 77.4, 59.7, 77.9, 52.6],\n",
    "    'women': [57.9, 57.3, 72.8, 48.2, 59.5, 48.3, 61.2, 53.9, 53.9, 70.7]\n",
    "})\n",
    "interpolation = 'midpoint'\n",
    "print('Q1:')\n",
    "print(df.men.quantile(q=0.25,interpolation=interpolation))\n",
    "print(df.women.quantile(q=0.25,interpolation=interpolation))\n",
    "\n",
    "\n",
    "print('Q3:')\n",
    "print(round(df.men.quantile(q=0.75,interpolation=interpolation), 1))\n",
    "print(round(df.women.quantile(q=0.75,interpolation=interpolation), 1))"
   ]
  },
  {
   "cell_type": "code",
   "execution_count": null,
   "id": "b9016e55",
   "metadata": {},
   "outputs": [],
   "source": [
    "df = pd.DataFrame({\n",
    "    'men': [80, 80.8, 57.5, 98, 50.5, 73.8, 77.4, 59.7, 77.9, 52.6],\n",
    "    'women': [57.9, 57.3, 72.8, 48.2, 59.5, 48.3, 61.2, 53.9, 53.9, 70.7]\n",
    "})\n",
    "interpolation = 'midpoint'\n",
    "print('Men:')\n",
    "print('Q1:')\n",
    "print(round(df.men.quantile(q=0.25,interpolation=interpolation),1))\n",
    "print('Q3:')\n",
    "print(round(df.men.quantile(q=0.75,interpolation=interpolation), 1))\n",
    "print('Range:')\n",
    "print(round(df.men.max()-df.men.min(), 1))\n",
    "print('IQR:')\n",
    "print(round(df.men.quantile(q=0.75,interpolation=interpolation)\n",
    "            -df.men.quantile(q=0.25,interpolation=interpolation), 1))\n",
    "print('STD:')\n",
    "print(round(df.men.std(), 1))\n",
    "print('VAR:')\n",
    "print(round(df.men.var(), 1))\n",
    "\n",
    "\n",
    "print('---')\n",
    "print('Women:')\n",
    "print('Q1:')\n",
    "print(round(df.women.quantile(q=0.25,interpolation=interpolation),1))\n",
    "print('Q3:')\n",
    "print(round(df.women.quantile(q=0.75,interpolation=interpolation), 1))\n",
    "print('Range:')\n",
    "print(round(df.women.max()-df.women.min(), 1))\n",
    "print('IQR:')\n",
    "print(round(df.women.quantile(q=0.75,interpolation=interpolation)\n",
    "            -df.women.quantile(q=0.25,interpolation=interpolation), 1))\n",
    "print('STD:')\n",
    "print(round(df.women.std(), 1))\n",
    "print('VAR:')\n",
    "print(round(df.women.var(), 1))\n"
   ]
  },
  {
   "cell_type": "code",
   "execution_count": null,
   "id": "46e70d9a",
   "metadata": {},
   "outputs": [],
   "source": [
    "df = pd.DataFrame({\n",
    "    'men': [80, 80.8, 57.5, 98, 50.5, 73.8, 77.4, 59.7, 77.9, 52.6],\n",
    "    'women': [57.9, 57.3, 72.8, 48.2, 59.5, 48.3, 61.2, 53.9, 53.9, 70.7]\n",
    "})\n",
    "interpolation = 'midpoint'\n",
    "\n",
    "print('Men:')\n",
    "q1=df.men.quantile(q=0.25,interpolation=interpolation)\n",
    "q3=df.men.quantile(q=0.75,interpolation=interpolation)\n",
    "iqr=q3-q1\n",
    "out_min_margin=q1-1.5*iqr\n",
    "out_max_margin=q3+1.5*iqr\n",
    "\n",
    "\n",
    "print(df.men[(df.men<out_min_margin)])\n",
    "print(df.men[(df.men>out_max_margin)])\n",
    "\n",
    "print('---')\n",
    "print('Women:')\n",
    "q1=df.women.quantile(q=0.25,interpolation=interpolation)\n",
    "q3=df.women.quantile(q=0.75,interpolation=interpolation)\n",
    "iqr=q3-q1\n",
    "out_min_margin=q1-1.5*iqr\n",
    "out_max_margin=q3+1.5*iqr\n",
    "\n",
    "print(df.women[(df.women<out_min_margin)])\n",
    "print(df.women[(df.women>out_max_margin)])\n",
    "\n",
    "\n"
   ]
  },
  {
   "cell_type": "code",
   "execution_count": null,
   "id": "e4b760dc",
   "metadata": {},
   "outputs": [],
   "source": [
    "df = pd.DataFrame({\n",
    "    'year': [2007, 2008, 2009, 2010, 2011, 2012, 2013, 2014, 2015, 2016, 2017, 2018],\n",
    "    'temp': [-4.7, -6.1, -5.5, -3.3, -7.1, -3.1, -5.2, -7.3, -12.1, -6.6, -5.9, -6.3]\n",
    "})\n",
    "\n",
    "q1=df.temp.quantile(q=0.25,interpolation=interpolation)\n",
    "q3=df.temp.quantile(q=0.75,interpolation=interpolation)\n",
    "iqr=q3-q1\n",
    "out_min_margin=q1-1.5*iqr\n",
    "out_max_margin=q3+1.5*iqr\n",
    "\n",
    "print('Temp:')\n",
    "print('Mean:')\n",
    "print(round(df.temp.mean(),1))\n",
    "print('Median:')\n",
    "print(round(df.temp.median(),1))\n",
    "print('Q1:')\n",
    "print(round(q1,1))\n",
    "print('Q3:')\n",
    "print(round(q3, 1))\n",
    "print('Range:')\n",
    "print(round(df.temp.max()-df.temp.min(), 1))\n",
    "print('IQR:')\n",
    "print(round(q3-q1, 1))\n",
    "print('STD:')\n",
    "print(round(df.temp.std(), 1))\n",
    "print('VAR:')\n",
    "print(round(df.temp.var(), 1))\n",
    "\n",
    "print('Year out min:')\n",
    "print(df.year[(df.temp<out_min_margin)])\n",
    "print('Year out max:')\n",
    "print(df.year[(df.temp>out_max_margin)])"
   ]
  },
  {
   "cell_type": "code",
   "execution_count": null,
   "id": "811396e3",
   "metadata": {},
   "outputs": [],
   "source": [
    "import pandas as pd\n",
    "df = pd.DataFrame({\n",
    "    'city_a': [240, 440, 455, 475, 475, 490, 490, 500, 500, 500, 530, 550, 578, 580, 620, 687, 694, 703, 859],\n",
    "    'city_b': [500, 564, 590, 600, 600, 600, 645, 650, 660, 667, 689, 692, 700, 700, 705, 735, 760, 764, 805]\n",
    "})\n",
    "boxplot = df.boxplot(column=['city_a', 'city_b'], fontsize=15)"
   ]
  },
  {
   "cell_type": "code",
   "execution_count": 4,
   "id": "ca9ddde6",
   "metadata": {},
   "outputs": [
    {
     "name": "stdout",
     "output_type": "stream",
     "text": [
      "value    38.0\n",
      "dtype: float64\n"
     ]
    },
    {
     "data": {
      "image/png": "[encoded data removed]",
      "text/plain": [
       "<Figure size 432x288 with 1 Axes>"
      ]
     },
     "metadata": {
      "needs_background": "light"
     },
     "output_type": "display_data"
    }
   ],
   "source": [
    "data = pd.DataFrame({\n",
    "  'value': [48, 44, 42.5, 40.5, 40.5, 39, 39, 38, 38, 38, 35, 33, 30.2, 30, 26, 19.3, 27, 21]\n",
    "})\n",
    "print(data.median(axis=0))\n",
    "boxplot = data.boxplot()"
   ]
  },
  {
   "cell_type": "code",
   "execution_count": 5,
   "id": "ee649d65",
   "metadata": {},
   "outputs": [
    {
     "data": {
      "image/png": "[encoded data removed]",
      "text/plain": [
       "<Figure size 432x288 with 1 Axes>"
      ]
     },
     "metadata": {
      "needs_background": "light"
     },
     "output_type": "display_data"
    }
   ],
   "source": [
    "import pandas as pd\n",
    "df = pd.DataFrame({\n",
    "    'group_a': [72, 66, 63.75, 60.75, 60.75, 58.5, 58.5, 57, 57, 57, 52.5, 49.5, 45.3, 45, 39, 28.95, 40.5, 31.5, 49],\n",
    "    'group_b': [71, 72, 60, 50, 57, 77, 81, 58, 62, 61, 73, 74, 76, 65, 66, 67, 67, 67, 69]\n",
    "})\n",
    "boxplot = df.boxplot()"
   ]
  }
 ],
 "metadata": {
  "kernelspec": {
   "display_name": "Python 3",
   "language": "python",
   "name": "python3"
  },
  "language_info": {
   "codemirror_mode": {
    "name": "ipython",
    "version": 3
   },
   "file_extension": ".py",
   "mimetype": "text/x-python",
   "name": "python",
   "nbconvert_exporter": "python",
   "pygments_lexer": "ipython3",
   "version": "3.8.8"
  }
 },
 "nbformat": 4,
 "nbformat_minor": 5
}

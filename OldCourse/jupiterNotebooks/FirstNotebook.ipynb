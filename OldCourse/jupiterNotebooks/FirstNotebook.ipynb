{
 "cells": [
  {
   "cell_type": "code",
   "execution_count": 33,
   "id": "e52e8051",
   "metadata": {},
   "outputs": [
    {
     "name": "stdout",
     "output_type": "stream",
     "text": [
      "Enter the year:2004\n"
     ]
    },
    {
     "data": {
      "text/plain": [
       "True"
      ]
     },
     "execution_count": 33,
     "metadata": {},
     "output_type": "execute_result"
    }
   ],
   "source": [
    "x = int(input(\"Enter the year:\"))\n",
    "def is_leap_year(x):\n",
    "    result = False\n",
    "    if (x % 4) == 0:\n",
    "        if (x % 100) == 0:\n",
    "            if (x % 400) == 0:\n",
    "                result = True\n",
    "            else:\n",
    "                result = False \n",
    "        else:\n",
    "            result = True\n",
    "    else:\n",
    "        result = False\n",
    "    return result\n",
    "is_leap_year(x)"
   ]
  },
  {
   "cell_type": "code",
   "execution_count": 37,
   "id": "8ee4949d",
   "metadata": {},
   "outputs": [
    {
     "name": "stdout",
     "output_type": "stream",
     "text": [
      "140212461474944\n",
      "140212461474944\n",
      "True\n",
      "[2, 3]\n",
      "[2, 3]\n"
     ]
    }
   ],
   "source": [
    "a = [1, 2, 3]\n",
    "print(id(a))  # id возвращает идентификатор объекта\n",
    "# 140039772293512\n",
    "\n",
    "b = a\n",
    "b.pop(0)\n",
    "print(id(b))\n",
    "# 140039772293512\n",
    "\n",
    "print(a is b)  # а и b являются один и тем же объектом\n",
    "# True\n",
    "\n",
    "print(a)\n",
    "print(b)"
   ]
  },
  {
   "cell_type": "code",
   "execution_count": 40,
   "id": "cb25a405",
   "metadata": {},
   "outputs": [
    {
     "name": "stdout",
     "output_type": "stream",
     "text": [
      "1.0\n"
     ]
    }
   ],
   "source": [
    "b = 7\n",
    "b /= b\n",
    "print(b)"
   ]
  },
  {
   "cell_type": "code",
   "execution_count": 52,
   "id": "237c5bfd",
   "metadata": {},
   "outputs": [
    {
     "name": "stdout",
     "output_type": "stream",
     "text": [
      "1\n",
      "True\n"
     ]
    }
   ],
   "source": [
    "a = int(input())\n",
    "# Simple comment\n",
    "def is_true(a):\n",
    "    if (a):\n",
    "        b = True\n",
    "    else:\n",
    "        b = False\n",
    "    return b\n",
    "print(is_true(a))"
   ]
  },
  {
   "cell_type": "code",
   "execution_count": 74,
   "id": "d35f8b1c",
   "metadata": {},
   "outputs": [
    {
     "name": "stdout",
     "output_type": "stream",
     "text": [
      "A:1\n",
      "B:3\n",
      "True\n"
     ]
    }
   ],
   "source": [
    "A = int(input(\"A:\"))\n",
    "B = int(input(\"B:\"))\n",
    "def are_both_odd(A, B):\n",
    "    #if (A%2!=0) and (B%2!=0):\n",
    "    return (A%2!=0) and (B%2!=0)\n",
    "    #else:\n",
    "    #    return False\n",
    "print(are_both_odd(A, B))"
   ]
  },
  {
   "cell_type": "code",
   "execution_count": 81,
   "id": "b8607112",
   "metadata": {},
   "outputs": [
    {
     "name": "stdout",
     "output_type": "stream",
     "text": [
      "Текущее число:  1\n",
      "Текущее число:  2\n",
      "Текущее число:  3\n",
      "Текущее число:  4\n",
      "Текущее число:  5\n",
      "Текущее число:  6\n",
      "Текущее число:  7\n",
      "Текущее число:  8\n",
      "Текущее число:  9\n",
      "Конец цикла 2\n",
      "\n"
     ]
    }
   ],
   "source": [
    "# заводим цикл for, в котором мы будем проходить по всем числам от одного до N\n",
    "count=0\n",
    "for i in range(10, 1, -1):  # равносильно выражению for i in [1, 2, 3, ... , N -1, N]:\n",
    "    count=count+1\n",
    "    print(\"Текущее число: \", count)\n",
    "print(\"Конец цикла\", i)\n",
    "print()\n"
   ]
  },
  {
   "cell_type": "code",
   "execution_count": 84,
   "id": "832a06cd",
   "metadata": {},
   "outputs": [
    {
     "name": "stdout",
     "output_type": "stream",
     "text": [
      "Limit:1204\n",
      "2^ 0 => 1\n",
      "2^ 1 => 2\n",
      "2^ 2 => 4\n",
      "2^ 3 => 8\n",
      "2^ 4 => 16\n",
      "2^ 5 => 32\n",
      "2^ 6 => 64\n",
      "2^ 7 => 128\n",
      "2^ 8 => 256\n",
      "2^ 9 => 512\n",
      "2^ 10 => 1024\n",
      "Искомая степень 10\n"
     ]
    }
   ],
   "source": [
    "n = 0\n",
    "limit = int(input(\"Limit:\"))\n",
    "while True:\n",
    "    print (\"2^\", n, \"=>\",  2**n)\n",
    "    if 2**n > 1000:\n",
    "        print(\"Искомая степень\", n)\n",
    "        break\n",
    "    n += 1"
   ]
  },
  {
   "cell_type": "code",
   "execution_count": 85,
   "id": "d7b5b442",
   "metadata": {},
   "outputs": [
    {
     "name": "stdout",
     "output_type": "stream",
     "text": [
      "Минимальные элементы: [1, 2, 4]\n",
      "Их индексы: [2, 0, 0]\n",
      "Максимальные элементы: [9, 5, 8]\n",
      "Их индексы: [0, 1, 1]\n"
     ]
    }
   ],
   "source": [
    "random_matrix = [\n",
    "   [9, 2, 1],\n",
    "   [2, 5, 3],\n",
    "   [4, 8, 5]\n",
    "]\n",
    "min_value_rows = []\n",
    "min_index_rows = []\n",
    "max_value_rows = []\n",
    "max_index_rows = []\n",
    "for row in random_matrix:\n",
    "    min_index = 0\n",
    "    min_value = row[min_index]\n",
    "    max_index = 0\n",
    "    max_value = row[max_index]\n",
    "    for index_col in range(len(row)):\n",
    "        if row[index_col] < min_value: \n",
    "            min_value = row[index_col]\n",
    "            min_index = index_col\n",
    "        if row[index_col] > max_value: \n",
    "            max_value = row[index_col]\n",
    "            max_index = index_col\n",
    "    min_value_rows.append(min_value)\n",
    "    min_index_rows.append(min_index)\n",
    "    max_value_rows.append(max_value)\n",
    "    max_index_rows.append(max_index)\n",
    "print(\"Минимальные элементы:\", min_value_rows)\n",
    "print(\"Их индексы:\", min_index_rows)\n",
    "print(\"Максимальные элементы:\", max_value_rows)\n",
    "print(\"Их индексы:\", max_index_rows)"
   ]
  },
  {
   "cell_type": "code",
   "execution_count": 16,
   "id": "95238094",
   "metadata": {},
   "outputs": [
    {
     "name": "stdout",
     "output_type": "stream",
     "text": [
      "Ещё считаю ... 1 ;  3 = 1 + 2\n",
      "Ещё считаю ... 3 ;  6 = 3 + 3\n",
      "Ещё считаю ... 6 ;  10 = 6 + 4\n",
      "Ещё считаю ... 10 ;  15 = 10 + 5\n",
      "Ещё считаю ... 15 ;  21 = 15 + 6\n",
      "Ещё считаю ... 21 ;  28 = 21 + 7\n",
      "Ещё считаю ... 28 ;  36 = 28 + 8\n",
      "Ещё считаю ... 36 ;  45 = 36 + 9\n",
      "Ещё считаю ... 45 ;  55 = 45 + 10\n",
      "Ещё считаю ... 55 ;  66 = 55 + 11\n",
      "Ещё считаю ... 66 ;  78 = 66 + 12\n",
      "Ещё считаю ... 78 ;  91 = 78 + 13\n",
      "Ещё считаю ... 91 ;  105 = 91 + 14\n",
      "Ещё считаю ... 105 ;  120 = 105 + 15\n",
      "Ещё считаю ... 120 ;  136 = 120 + 16\n",
      "Ещё считаю ... 136 ;  153 = 136 + 17\n",
      "Ещё считаю ... 153 ;  171 = 153 + 18\n",
      "Ещё считаю ... 171 ;  190 = 171 + 19\n",
      "Ещё считаю ... 190 ;  210 = 190 + 20\n",
      "Ещё считаю ... 210 ;  231 = 210 + 21\n",
      "Ещё считаю ... 231 ;  253 = 231 + 22\n",
      "Ещё считаю ... 253 ;  276 = 253 + 23\n",
      "Ещё считаю ... 276 ;  300 = 276 + 24\n",
      "Ещё считаю ... 300 ;  325 = 300 + 25\n",
      "Ещё считаю ... 325 ;  351 = 325 + 26\n",
      "Ещё считаю ... 351 ;  378 = 351 + 27\n",
      "Ещё считаю ... 378 ;  406 = 378 + 28\n",
      "Ещё считаю ... 406 ;  435 = 406 + 29\n",
      "Ещё считаю ... 435 ;  465 = 435 + 30\n",
      "Ещё считаю ... 465 ;  496 = 465 + 31\n",
      "Ещё считаю ... 496 ;  528 = 496 + 32\n",
      "Ещё считаю ... 528 ;  561 = 528 + 33\n",
      "Сумма равна:  528\n",
      "Количество чисел:  32\n"
     ]
    }
   ],
   "source": [
    "S = 0  # заводим переменную-счётчик, в которой мы будем считать сумму\n",
    "n = 1  # текущее натуральное число\n",
    "\n",
    "# заводим цикл while, который будет работать, пока сумма не превысит 500\n",
    "while S < 500:  # делай, пока ...\n",
    "    S += n  # увеличиваем сумму, равносильно S = S + n\n",
    "    n += 1  # так как сумма ещё не достигла нужного значения, то увеличиваем переменную-счётчик\n",
    "    print(\"Ещё считаю ...\",S,\"; \",S+n,\"=\",S,\"+\",n)\n",
    "\n",
    "print(\"Сумма равна: \", S)\n",
    "print(\"Количество чисел: \", n-1)"
   ]
  },
  {
   "cell_type": "code",
   "execution_count": 17,
   "id": "d0c8391a",
   "metadata": {
    "scrolled": true
   },
   "outputs": [
    {
     "name": "stdout",
     "output_type": "stream",
     "text": [
      "Количество кроликов 12\n",
      "Количество фазанов 23\n",
      "---\n"
     ]
    }
   ],
   "source": [
    "heads = 35  # количество голов\n",
    "legs = 94  # количество ног\n",
    "\n",
    "for r in range(heads + 1):  # количество кроликов\n",
    "    for ph in range(heads + 1):  # количество фазанов\n",
    "        #  если суммарное количество голов или ног превышено, то переходим на следующий шаг цикла\n",
    "        if (r + ph) > heads or \\\n",
    "            (r * 4 + ph * 2) > legs: \n",
    "            continue\n",
    "        if (r + ph) == heads and (r * 4 + ph * 2) == legs:\n",
    "            print(\"Количество кроликов\", r)\n",
    "            print(\"Количество фазанов\", ph)\n",
    "            print(\"---\")"
   ]
  },
  {
   "cell_type": "code",
   "execution_count": 22,
   "id": "0156289e",
   "metadata": {
    "scrolled": true
   },
   "outputs": [
    {
     "name": "stdout",
     "output_type": "stream",
     "text": [
      "\n",
      "*\n",
      "**\n",
      "***\n"
     ]
    }
   ],
   "source": [
    "def print_ladder(n):\n",
    "    for i in range(n+1):\n",
    "        print(\"*\"*i)\n",
    "print_ladder(3)"
   ]
  },
  {
   "cell_type": "code",
   "execution_count": 25,
   "id": "c548fdbe",
   "metadata": {},
   "outputs": [
    {
     "name": "stdout",
     "output_type": "stream",
     "text": [
      "-6\n"
     ]
    }
   ],
   "source": [
    "a = 0\n",
    "b = 0\n",
    "\n",
    "while id(a) == id(b):\n",
    "    a -= 1\n",
    "    b -= 1\n",
    "\n",
    "print(a)"
   ]
  },
  {
   "cell_type": "code",
   "execution_count": 27,
   "id": "fdc5e4cc",
   "metadata": {},
   "outputs": [
    {
     "name": "stdout",
     "output_type": "stream",
     "text": [
      "45\n"
     ]
    }
   ],
   "source": [
    "def unique_symbols(text):\n",
    "    unique = set(text)\n",
    "    return len(unique)\n",
    "text =\"\"\"The Zen of Python\n",
    "Beautiful is better than ugly.\n",
    "Explicit is better than implicit.\n",
    "Simple is better than complex.\n",
    "Complex is better than complicated.\n",
    "Flat is better than nested.\n",
    "Sparse is better than dense.\n",
    "Readability counts.\n",
    "Special cases aren't special enough to break the rules.\n",
    "Although practicality beats purity.\n",
    "Errors should never pass silently.\n",
    "Unless explicitly silenced.\n",
    "In the face of ambiguity, refuse the temptation to guess.\n",
    "There should be one-- and preferably only one --obvious way to do it.\n",
    "Although that way may not be obvious at first unless you're Dutch.\n",
    "Now is better than never.\n",
    "Although never is often better than *right* now.\n",
    "If the implementation is hard to explain, it's a bad idea.\n",
    "If the implementation is easy to explain, it may be a good idea.\n",
    "Namespaces are one honking great idea -- let's do more of those!\"\"\"\n",
    "print(unique_symbols(text))b"
   ]
  },
  {
   "cell_type": "code",
   "execution_count": 1,
   "id": "cbe77903",
   "metadata": {},
   "outputs": [
    {
     "name": "stdout",
     "output_type": "stream",
     "text": [
      "1\n"
     ]
    }
   ],
   "source": [
    "a = None # пустая строка\n",
    "b = a or 1\n",
    "print(b)\n"
   ]
  },
  {
   "cell_type": "code",
   "execution_count": 6,
   "id": "7f1245db",
   "metadata": {},
   "outputs": [
    {
     "name": "stdout",
     "output_type": "stream",
     "text": [
      "No result\n"
     ]
    }
   ],
   "source": [
    "def linear_solve(a,b):\n",
    "  if a:\n",
    "    return b/a\n",
    "  else:\n",
    "    return \"No result\"\n",
    "\n",
    "print(linear_solve(0,1))"
   ]
  },
  {
   "cell_type": "code",
   "execution_count": 14,
   "id": "74a5cbdd",
   "metadata": {},
   "outputs": [
    {
     "name": "stdout",
     "output_type": "stream",
     "text": [
      "<class 'tuple'>\n"
     ]
    }
   ],
   "source": [
    "def D(a,b,c):\n",
    "    return b**2-4*a*c\n",
    "\n",
    "def quadratic_solve(a,b,c):\n",
    "    if D(a,b,c)<0:\n",
    "        return \"No material roots for:\",\"D=\", D(a,b,c),\"=\",b**2,\"-\",4*a*c,\"=\",b,\"**2\",\"-\",\"4*\",a,\"*\",c\n",
    "    elif D(a,b,c) == 0:\n",
    "        return -b/(2*a)\n",
    "    else:\n",
    "        return(-b-D(a,b,c)**0.5)/(2*a),(-b+D(a,b,c)**0.5)/(2*a)\n",
    "\n",
    "print(type(quadratic_solve(1,100,1)))\n"
   ]
  },
  {
   "cell_type": "code",
   "execution_count": 16,
   "id": "7ca798e9",
   "metadata": {},
   "outputs": [
    {
     "name": "stdout",
     "output_type": "stream",
     "text": [
      "H\n",
      "e\n",
      "l\n",
      "l\n",
      "o\n",
      "!\n"
     ]
    },
    {
     "ename": "StopIteration",
     "evalue": "",
     "output_type": "error",
     "traceback": [
      "\u001b[0;31m---------------------------------------------------------------------------\u001b[0m",
      "\u001b[0;31mStopIteration\u001b[0m                             Traceback (most recent call last)",
      "\u001b[0;32m<ipython-input-16-46353f67412a>\u001b[0m in \u001b[0;36m<module>\u001b[0;34m\u001b[0m\n\u001b[1;32m      2\u001b[0m \u001b[0;34m\u001b[0m\u001b[0m\n\u001b[1;32m      3\u001b[0m \u001b[0;32mwhile\u001b[0m \u001b[0;32mTrue\u001b[0m\u001b[0;34m:\u001b[0m\u001b[0;34m\u001b[0m\u001b[0;34m\u001b[0m\u001b[0m\n\u001b[0;32m----> 4\u001b[0;31m     \u001b[0mprint\u001b[0m\u001b[0;34m(\u001b[0m\u001b[0mnext\u001b[0m\u001b[0;34m(\u001b[0m\u001b[0miter_obj\u001b[0m\u001b[0;34m)\u001b[0m\u001b[0;34m)\u001b[0m\u001b[0;34m\u001b[0m\u001b[0;34m\u001b[0m\u001b[0m\n\u001b[0m",
      "\u001b[0;31mStopIteration\u001b[0m: "
     ]
    }
   ],
   "source": [
    "iter_obj = iter(\"Hello!\")\n",
    "\n",
    "while True:\n",
    "    print(next(iter_obj)) "
   ]
  },
  {
   "cell_type": "code",
   "execution_count": null,
   "id": "31a73ad0",
   "metadata": {},
   "outputs": [],
   "source": []
  },
  {
   "cell_type": "code",
   "execution_count": 14,
   "id": "de0f2c6a",
   "metadata": {},
   "outputs": [
    {
     "name": "stdout",
     "output_type": "stream",
     "text": [
      "['THIS', 'IS', 'LOWER', 'STRING']\n"
     ]
    }
   ],
   "source": [
    "L = ['THIS', 'IS', 'LOWER', 'STRING']\n",
    "\n",
    "print(list(map(str.upper, L)))"
   ]
  },
  {
   "cell_type": "code",
   "execution_count": 1,
   "id": "7f9db14a",
   "metadata": {},
   "outputs": [
    {
     "name": "stdout",
     "output_type": "stream",
     "text": [
      "[-2, 0, 2]\n"
     ]
    }
   ],
   "source": [
    "def even(x):\n",
    "    if x%2==0:\n",
    "        return True\n",
    "    else:\n",
    "        return False\n",
    "    \n",
    "result = filter(even, [-2, -1, 0, 1, -3, 2, -3])\n",
    "print(list(result))    "
   ]
  },
  {
   "cell_type": "code",
   "execution_count": 5,
   "id": "0f2c387e",
   "metadata": {},
   "outputs": [
    {
     "name": "stdout",
     "output_type": "stream",
     "text": [
      "[76, 184]\n"
     ]
    }
   ],
   "source": [
    "data = [\n",
    "   (82, 191),\n",
    "   (68, 174),\n",
    "   (90, 189),\n",
    "   (73, 179),\n",
    "   (76, 184)\n",
    "]\n",
    "\n",
    "result = min(data, key=lambda x: x[0]/x[1]**2)\n",
    "print(list(result))"
   ]
  },
  {
   "cell_type": "code",
   "execution_count": 13,
   "id": "ce3a23f4",
   "metadata": {},
   "outputs": [
    {
     "name": "stdout",
     "output_type": "stream",
     "text": [
      "[3, 3, 4, 4]\n"
     ]
    }
   ],
   "source": [
    "a = [\"asd\", \"bbd\", \"ddfa\", \"mcsa\"]\n",
    "\n",
    "print(list(map(len,a)))"
   ]
  },
  {
   "cell_type": "code",
   "execution_count": 20,
   "id": "bc2b83f6",
   "metadata": {},
   "outputs": [
    {
     "name": "stdout",
     "output_type": "stream",
     "text": [
      "Hello EL!\n"
     ]
    }
   ],
   "source": [
    "def start(name = \"elynets\"):\n",
    "    return \"Hello \"+name+\"!\"\n",
    "\n",
    "print(start(\"EL\"))"
   ]
  },
  {
   "cell_type": "code",
   "execution_count": 21,
   "id": "c3735a98",
   "metadata": {},
   "outputs": [
    {
     "name": "stdout",
     "output_type": "stream",
     "text": [
      "Select your side O or X (only letters!)X\n",
      "X\n"
     ]
    }
   ],
   "source": [
    "side = input(\"Select your side O or X (only letters!)\")\n",
    "side_dictionary = \n",
    "print(\"You have selected side)"
   ]
  },
  {
   "cell_type": "code",
   "execution_count": null,
   "id": "6579920d",
   "metadata": {},
   "outputs": [],
   "source": []
  }
 ],
 "metadata": {
  "kernelspec": {
   "display_name": "Python 3",
   "language": "python",
   "name": "python3"
  },
  "language_info": {
   "codemirror_mode": {
    "name": "ipython",
    "version": 3
   },
   "file_extension": ".py",
   "mimetype": "text/x-python",
   "name": "python",
   "nbconvert_exporter": "python",
   "pygments_lexer": "ipython3",
   "version": "3.8.8"
  }
 },
 "nbformat": 4,
 "nbformat_minor": 5
}

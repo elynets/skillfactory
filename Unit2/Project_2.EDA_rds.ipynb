{
 "cells": [
  {
   "cell_type": "code",
   "execution_count": 1,
   "id": "cb92ef9a",
   "metadata": {},
   "outputs": [
    {
     "data": {
      "text/html": [
       "<div>\n",
       "<style scoped>\n",
       "    .dataframe tbody tr th:only-of-type {\n",
       "        vertical-align: middle;\n",
       "    }\n",
       "\n",
       "    .dataframe tbody tr th {\n",
       "        vertical-align: top;\n",
       "    }\n",
       "\n",
       "    .dataframe thead th {\n",
       "        text-align: right;\n",
       "    }\n",
       "</style>\n",
       "<table border=\"1\" class=\"dataframe\">\n",
       "  <thead>\n",
       "    <tr style=\"text-align: right;\">\n",
       "      <th></th>\n",
       "      <th>school</th>\n",
       "      <th>sex</th>\n",
       "      <th>age</th>\n",
       "      <th>address</th>\n",
       "      <th>famsize</th>\n",
       "      <th>Pstatus</th>\n",
       "      <th>Medu</th>\n",
       "      <th>Fedu</th>\n",
       "      <th>Mjob</th>\n",
       "      <th>Fjob</th>\n",
       "      <th>reason</th>\n",
       "      <th>guardian</th>\n",
       "      <th>traveltime</th>\n",
       "      <th>studytime</th>\n",
       "      <th>failures</th>\n",
       "      <th>schoolsup</th>\n",
       "      <th>famsup</th>\n",
       "      <th>paid</th>\n",
       "      <th>activities</th>\n",
       "      <th>nursery</th>\n",
       "      <th>studytime, granular</th>\n",
       "      <th>higher</th>\n",
       "      <th>internet</th>\n",
       "      <th>romantic</th>\n",
       "      <th>famrel</th>\n",
       "      <th>freetime</th>\n",
       "      <th>goout</th>\n",
       "      <th>health</th>\n",
       "      <th>absences</th>\n",
       "      <th>score</th>\n",
       "    </tr>\n",
       "  </thead>\n",
       "  <tbody>\n",
       "    <tr>\n",
       "      <th>0</th>\n",
       "      <td>GP</td>\n",
       "      <td>F</td>\n",
       "      <td>18</td>\n",
       "      <td>U</td>\n",
       "      <td>NaN</td>\n",
       "      <td>A</td>\n",
       "      <td>4.0</td>\n",
       "      <td>4.0</td>\n",
       "      <td>at_home</td>\n",
       "      <td>teacher</td>\n",
       "      <td>course</td>\n",
       "      <td>mother</td>\n",
       "      <td>2.0</td>\n",
       "      <td>2.0</td>\n",
       "      <td>0.0</td>\n",
       "      <td>yes</td>\n",
       "      <td>no</td>\n",
       "      <td>no</td>\n",
       "      <td>no</td>\n",
       "      <td>yes</td>\n",
       "      <td>-6.0</td>\n",
       "      <td>yes</td>\n",
       "      <td>NaN</td>\n",
       "      <td>no</td>\n",
       "      <td>4.0</td>\n",
       "      <td>3.0</td>\n",
       "      <td>4.0</td>\n",
       "      <td>3.0</td>\n",
       "      <td>6.0</td>\n",
       "      <td>30.0</td>\n",
       "    </tr>\n",
       "    <tr>\n",
       "      <th>1</th>\n",
       "      <td>GP</td>\n",
       "      <td>F</td>\n",
       "      <td>17</td>\n",
       "      <td>U</td>\n",
       "      <td>GT3</td>\n",
       "      <td>NaN</td>\n",
       "      <td>1.0</td>\n",
       "      <td>1.0</td>\n",
       "      <td>at_home</td>\n",
       "      <td>other</td>\n",
       "      <td>course</td>\n",
       "      <td>father</td>\n",
       "      <td>1.0</td>\n",
       "      <td>2.0</td>\n",
       "      <td>0.0</td>\n",
       "      <td>no</td>\n",
       "      <td>yes</td>\n",
       "      <td>no</td>\n",
       "      <td>no</td>\n",
       "      <td>no</td>\n",
       "      <td>-6.0</td>\n",
       "      <td>yes</td>\n",
       "      <td>yes</td>\n",
       "      <td>no</td>\n",
       "      <td>5.0</td>\n",
       "      <td>3.0</td>\n",
       "      <td>3.0</td>\n",
       "      <td>3.0</td>\n",
       "      <td>4.0</td>\n",
       "      <td>30.0</td>\n",
       "    </tr>\n",
       "    <tr>\n",
       "      <th>2</th>\n",
       "      <td>GP</td>\n",
       "      <td>F</td>\n",
       "      <td>15</td>\n",
       "      <td>U</td>\n",
       "      <td>LE3</td>\n",
       "      <td>T</td>\n",
       "      <td>1.0</td>\n",
       "      <td>1.0</td>\n",
       "      <td>at_home</td>\n",
       "      <td>other</td>\n",
       "      <td>other</td>\n",
       "      <td>mother</td>\n",
       "      <td>1.0</td>\n",
       "      <td>2.0</td>\n",
       "      <td>3.0</td>\n",
       "      <td>yes</td>\n",
       "      <td>no</td>\n",
       "      <td>NaN</td>\n",
       "      <td>no</td>\n",
       "      <td>yes</td>\n",
       "      <td>-6.0</td>\n",
       "      <td>yes</td>\n",
       "      <td>yes</td>\n",
       "      <td>NaN</td>\n",
       "      <td>4.0</td>\n",
       "      <td>3.0</td>\n",
       "      <td>2.0</td>\n",
       "      <td>3.0</td>\n",
       "      <td>10.0</td>\n",
       "      <td>50.0</td>\n",
       "    </tr>\n",
       "  </tbody>\n",
       "</table>\n",
       "</div>"
      ],
      "text/plain": [
       "  school sex  age address famsize Pstatus  Medu  Fedu     Mjob     Fjob  \\\n",
       "0     GP   F   18       U     NaN       A   4.0   4.0  at_home  teacher   \n",
       "1     GP   F   17       U     GT3     NaN   1.0   1.0  at_home    other   \n",
       "2     GP   F   15       U     LE3       T   1.0   1.0  at_home    other   \n",
       "\n",
       "   reason guardian  traveltime  studytime  failures schoolsup famsup paid  \\\n",
       "0  course   mother         2.0        2.0       0.0       yes     no   no   \n",
       "1  course   father         1.0        2.0       0.0        no    yes   no   \n",
       "2   other   mother         1.0        2.0       3.0       yes     no  NaN   \n",
       "\n",
       "  activities nursery  studytime, granular higher internet romantic  famrel  \\\n",
       "0         no     yes                 -6.0    yes      NaN       no     4.0   \n",
       "1         no      no                 -6.0    yes      yes       no     5.0   \n",
       "2         no     yes                 -6.0    yes      yes      NaN     4.0   \n",
       "\n",
       "   freetime  goout  health  absences  score  \n",
       "0       3.0    4.0     3.0       6.0   30.0  \n",
       "1       3.0    3.0     3.0       4.0   30.0  \n",
       "2       3.0    2.0     3.0      10.0   50.0  "
      ]
     },
     "metadata": {},
     "output_type": "display_data"
    },
    {
     "name": "stdout",
     "output_type": "stream",
     "text": [
      "<class 'pandas.core.frame.DataFrame'>\n",
      "RangeIndex: 395 entries, 0 to 394\n",
      "Data columns (total 30 columns):\n",
      " #   Column               Non-Null Count  Dtype  \n",
      "---  ------               --------------  -----  \n",
      " 0   school               395 non-null    object \n",
      " 1   sex                  395 non-null    object \n",
      " 2   age                  395 non-null    int64  \n",
      " 3   address              378 non-null    object \n",
      " 4   famsize              368 non-null    object \n",
      " 5   Pstatus              350 non-null    object \n",
      " 6   Medu                 392 non-null    float64\n",
      " 7   Fedu                 371 non-null    float64\n",
      " 8   Mjob                 376 non-null    object \n",
      " 9   Fjob                 359 non-null    object \n",
      " 10  reason               378 non-null    object \n",
      " 11  guardian             364 non-null    object \n",
      " 12  traveltime           367 non-null    float64\n",
      " 13  studytime            388 non-null    float64\n",
      " 14  failures             373 non-null    float64\n",
      " 15  schoolsup            386 non-null    object \n",
      " 16  famsup               356 non-null    object \n",
      " 17  paid                 355 non-null    object \n",
      " 18  activities           381 non-null    object \n",
      " 19  nursery              379 non-null    object \n",
      " 20  studytime, granular  388 non-null    float64\n",
      " 21  higher               375 non-null    object \n",
      " 22  internet             361 non-null    object \n",
      " 23  romantic             364 non-null    object \n",
      " 24  famrel               368 non-null    float64\n",
      " 25  freetime             384 non-null    float64\n",
      " 26  goout                387 non-null    float64\n",
      " 27  health               380 non-null    float64\n",
      " 28  absences             383 non-null    float64\n",
      " 29  score                389 non-null    float64\n",
      "dtypes: float64(12), int64(1), object(17)\n",
      "memory usage: 92.7+ KB\n"
     ]
    },
    {
     "data": {
      "text/html": [
       "<div>\n",
       "<style scoped>\n",
       "    .dataframe tbody tr th:only-of-type {\n",
       "        vertical-align: middle;\n",
       "    }\n",
       "\n",
       "    .dataframe tbody tr th {\n",
       "        vertical-align: top;\n",
       "    }\n",
       "\n",
       "    .dataframe thead th {\n",
       "        text-align: right;\n",
       "    }\n",
       "</style>\n",
       "<table border=\"1\" class=\"dataframe\">\n",
       "  <thead>\n",
       "    <tr style=\"text-align: right;\">\n",
       "      <th></th>\n",
       "      <th>school</th>\n",
       "      <th>sex</th>\n",
       "      <th>age</th>\n",
       "      <th>addr</th>\n",
       "      <th>famsize</th>\n",
       "      <th>pstatus</th>\n",
       "      <th>medu</th>\n",
       "      <th>fedu</th>\n",
       "      <th>mjob</th>\n",
       "      <th>fjob</th>\n",
       "      <th>reason</th>\n",
       "      <th>guardian</th>\n",
       "      <th>traveltime</th>\n",
       "      <th>studytime</th>\n",
       "      <th>failures</th>\n",
       "      <th>schoolsup</th>\n",
       "      <th>famsup</th>\n",
       "      <th>paidlessons</th>\n",
       "      <th>activities</th>\n",
       "      <th>nursery</th>\n",
       "      <th>granular</th>\n",
       "      <th>wishhigher</th>\n",
       "      <th>internet</th>\n",
       "      <th>romantic</th>\n",
       "      <th>famrel</th>\n",
       "      <th>freetime</th>\n",
       "      <th>goout</th>\n",
       "      <th>health</th>\n",
       "      <th>absences</th>\n",
       "      <th>score</th>\n",
       "    </tr>\n",
       "  </thead>\n",
       "  <tbody>\n",
       "    <tr>\n",
       "      <th>0</th>\n",
       "      <td>GP</td>\n",
       "      <td>F</td>\n",
       "      <td>18</td>\n",
       "      <td>U</td>\n",
       "      <td>NaN</td>\n",
       "      <td>A</td>\n",
       "      <td>4.0</td>\n",
       "      <td>4.0</td>\n",
       "      <td>at_home</td>\n",
       "      <td>teacher</td>\n",
       "      <td>course</td>\n",
       "      <td>mother</td>\n",
       "      <td>2.0</td>\n",
       "      <td>2.0</td>\n",
       "      <td>0.0</td>\n",
       "      <td>yes</td>\n",
       "      <td>no</td>\n",
       "      <td>no</td>\n",
       "      <td>no</td>\n",
       "      <td>yes</td>\n",
       "      <td>-6.0</td>\n",
       "      <td>yes</td>\n",
       "      <td>NaN</td>\n",
       "      <td>no</td>\n",
       "      <td>4.0</td>\n",
       "      <td>3.0</td>\n",
       "      <td>4.0</td>\n",
       "      <td>3.0</td>\n",
       "      <td>6.0</td>\n",
       "      <td>30.0</td>\n",
       "    </tr>\n",
       "    <tr>\n",
       "      <th>1</th>\n",
       "      <td>GP</td>\n",
       "      <td>F</td>\n",
       "      <td>17</td>\n",
       "      <td>U</td>\n",
       "      <td>GT3</td>\n",
       "      <td>NaN</td>\n",
       "      <td>1.0</td>\n",
       "      <td>1.0</td>\n",
       "      <td>at_home</td>\n",
       "      <td>other</td>\n",
       "      <td>course</td>\n",
       "      <td>father</td>\n",
       "      <td>1.0</td>\n",
       "      <td>2.0</td>\n",
       "      <td>0.0</td>\n",
       "      <td>no</td>\n",
       "      <td>yes</td>\n",
       "      <td>no</td>\n",
       "      <td>no</td>\n",
       "      <td>no</td>\n",
       "      <td>-6.0</td>\n",
       "      <td>yes</td>\n",
       "      <td>yes</td>\n",
       "      <td>no</td>\n",
       "      <td>5.0</td>\n",
       "      <td>3.0</td>\n",
       "      <td>3.0</td>\n",
       "      <td>3.0</td>\n",
       "      <td>4.0</td>\n",
       "      <td>30.0</td>\n",
       "    </tr>\n",
       "    <tr>\n",
       "      <th>2</th>\n",
       "      <td>GP</td>\n",
       "      <td>F</td>\n",
       "      <td>15</td>\n",
       "      <td>U</td>\n",
       "      <td>LE3</td>\n",
       "      <td>T</td>\n",
       "      <td>1.0</td>\n",
       "      <td>1.0</td>\n",
       "      <td>at_home</td>\n",
       "      <td>other</td>\n",
       "      <td>other</td>\n",
       "      <td>mother</td>\n",
       "      <td>1.0</td>\n",
       "      <td>2.0</td>\n",
       "      <td>3.0</td>\n",
       "      <td>yes</td>\n",
       "      <td>no</td>\n",
       "      <td>NaN</td>\n",
       "      <td>no</td>\n",
       "      <td>yes</td>\n",
       "      <td>-6.0</td>\n",
       "      <td>yes</td>\n",
       "      <td>yes</td>\n",
       "      <td>NaN</td>\n",
       "      <td>4.0</td>\n",
       "      <td>3.0</td>\n",
       "      <td>2.0</td>\n",
       "      <td>3.0</td>\n",
       "      <td>10.0</td>\n",
       "      <td>50.0</td>\n",
       "    </tr>\n",
       "  </tbody>\n",
       "</table>\n",
       "</div>"
      ],
      "text/plain": [
       "  school sex  age addr famsize pstatus  medu  fedu     mjob     fjob  reason  \\\n",
       "0     GP   F   18    U     NaN       A   4.0   4.0  at_home  teacher  course   \n",
       "1     GP   F   17    U     GT3     NaN   1.0   1.0  at_home    other  course   \n",
       "2     GP   F   15    U     LE3       T   1.0   1.0  at_home    other   other   \n",
       "\n",
       "  guardian  traveltime  studytime  failures schoolsup famsup paidlessons  \\\n",
       "0   mother         2.0        2.0       0.0       yes     no          no   \n",
       "1   father         1.0        2.0       0.0        no    yes          no   \n",
       "2   mother         1.0        2.0       3.0       yes     no         NaN   \n",
       "\n",
       "  activities nursery  granular wishhigher internet romantic  famrel  freetime  \\\n",
       "0         no     yes      -6.0        yes      NaN       no     4.0       3.0   \n",
       "1         no      no      -6.0        yes      yes       no     5.0       3.0   \n",
       "2         no     yes      -6.0        yes      yes      NaN     4.0       3.0   \n",
       "\n",
       "   goout  health  absences  score  \n",
       "0    4.0     3.0       6.0   30.0  \n",
       "1    3.0     3.0       4.0   30.0  \n",
       "2    2.0     3.0      10.0   50.0  "
      ]
     },
     "metadata": {},
     "output_type": "display_data"
    }
   ],
   "source": [
    "# Importing tools for EDA.   \n",
    "# Thank you for this quite an interesting prject to work on.  \n",
    "import pandas as pd\n",
    "import numpy as np\n",
    "import matplotlib.pyplot as plt\n",
    "import seaborn as sns\n",
    "from itertools import combinations\n",
    "from scipy.stats import ttest_ind\n",
    "\n",
    "\n",
    "# Importing input data.  \n",
    "pd.set_option('display.max_columns', 30)\n",
    "pd.set_option('display.max_rows', 420)\n",
    "df = pd.read_csv('~/Documents/Git/skillfactory/Unit2/datasheet/prj2_eda_stud_math.csv')\n",
    "\n",
    "display(df.head(3))\n",
    "df.info()\n",
    "\n",
    "# Let`s see the columns names.  \n",
    "df.columns\n",
    "\n",
    "# Let`s rename some columns to a common pattern.  \n",
    "df.columns = ['school', 'sex', 'age', 'addr', 'famsize', 'pstatus', 'medu',\n",
    "              'fedu', 'mjob', 'fjob', 'reason', 'guardian', 'traveltime',\n",
    "              'studytime', 'failures', 'schoolsup', 'famsup', 'paidlessons',\n",
    "              'activities', 'nursery', 'granular', 'wishhigher', 'internet',\n",
    "              'romantic', 'famrel', 'freetime', 'goout', 'health', 'absences',\n",
    "              'score']\n",
    "\n",
    "#Let`s see the results of columns renaming.  \n",
    "display(df.head(3))"
   ]
  },
  {
   "cell_type": "code",
   "execution_count": 2,
   "id": "37e2c17b",
   "metadata": {},
   "outputs": [
    {
     "data": {
      "text/plain": [
       "count    389.000000\n",
       "mean      52.262211\n",
       "std       22.919022\n",
       "min        0.000000\n",
       "25%       40.000000\n",
       "50%       55.000000\n",
       "75%       70.000000\n",
       "max      100.000000\n",
       "Name: score, dtype: float64"
      ]
     },
     "metadata": {},
     "output_type": "display_data"
    },
    {
     "data": {
      "text/plain": [
       "<AxesSubplot:>"
      ]
     },
     "metadata": {},
     "output_type": "display_data"
    },
    {
     "data": {
      "image/png": "[encoded data removed]",
      "text/plain": [
       "<Figure size 432x288 with 1 Axes>"
      ]
     },
     "metadata": {
      "needs_background": "light"
     },
     "output_type": "display_data"
    }
   ],
   "source": [
    "# Let`s see how does a score data looks like.  \n",
    "display(df.score.describe())\n",
    "display(df.score.hist())"
   ]
  },
  {
   "cell_type": "code",
   "execution_count": 3,
   "id": "2e21d107",
   "metadata": {
    "scrolled": true
   },
   "outputs": [
    {
     "data": {
      "text/plain": [
       "count    389.000000\n",
       "mean      52.262211\n",
       "std       22.919022\n",
       "min        0.000000\n",
       "25%       40.000000\n",
       "50%       55.000000\n",
       "75%       70.000000\n",
       "max      100.000000\n",
       "Name: score, dtype: float64"
      ]
     },
     "metadata": {},
     "output_type": "display_data"
    },
    {
     "data": {
      "text/plain": [
       "<AxesSubplot:>"
      ]
     },
     "metadata": {},
     "output_type": "display_data"
    },
    {
     "name": "stdout",
     "output_type": "stream",
     "text": [
      "0-values counted: 37\n"
     ]
    },
    {
     "data": {
      "image/png": "[encoded data removed]",
      "text/plain": [
       "<Figure size 432x288 with 1 Axes>"
      ]
     },
     "metadata": {
      "needs_background": "light"
     },
     "output_type": "display_data"
    }
   ],
   "source": [
    "# The score column is our main reference point.  \n",
    "# That`s why I will clean it first.  \n",
    "# Forcing the values in the score column to numeric.  \n",
    "df['score'] = pd.to_numeric(df['score'].astype(df['score'].dtype), \n",
    "                            errors='coerce')\n",
    "\n",
    "# Cleaning it from NaN values.  \n",
    "df.dropna(subset=['score'], axis=0, how='any', inplace=True)\n",
    "\n",
    "# And checking score data once again.  \n",
    "display(df.score.describe())\n",
    "display(df.score.hist())\n",
    "\n",
    "print(\"0-values counted:\", df.score.loc[df.score==0].value_counts().sum())  "
   ]
  },
  {
   "cell_type": "code",
   "execution_count": 4,
   "id": "843eaea5",
   "metadata": {},
   "outputs": [],
   "source": [
    "# I don`t know whether those 0-values across the score data\n",
    "# are errors or not. But I will left all 37 zero results\n",
    "# in the column."
   ]
  },
  {
   "cell_type": "code",
   "execution_count": 5,
   "id": "d9125821",
   "metadata": {},
   "outputs": [
    {
     "data": {
      "text/plain": [
       "[<matplotlib.lines.Line2D at 0x7f97a16c9280>]"
      ]
     },
     "execution_count": 5,
     "metadata": {},
     "output_type": "execute_result"
    },
    {
     "data": {
      "image/png": "[encoded data removed]",
      "text/plain": [
       "<Figure size 432x288 with 1 Axes>"
      ]
     },
     "metadata": {
      "needs_background": "light"
     },
     "output_type": "display_data"
    }
   ],
   "source": [
    "# Now let`s see what the data is in the granular column - I\n",
    "# have no description for it.  \n",
    "plt.plot(df.granular, df.studytime)"
   ]
  },
  {
   "cell_type": "code",
   "execution_count": 6,
   "id": "7e0e0bf5",
   "metadata": {},
   "outputs": [],
   "source": [
    "# The granular and studytime are totally identical.  \n",
    "# I will drop granular column from the dataset.  \n",
    "df.drop(['granular'], inplace=True, axis=1)\n",
    "\n",
    "# Initial preparations are finished.  \n",
    "\n",
    "# Making copy of df to preserve original data just in case.  \n",
    "df_original = df.copy(deep=True)"
   ]
  },
  {
   "cell_type": "code",
   "execution_count": 7,
   "id": "e029a4b3",
   "metadata": {},
   "outputs": [],
   "source": [
    "# I will use the functions to get all the neccessary data\n",
    "# for numeric datasets, column checks, corr tests.  \n",
    "\n",
    "# And here I will keep the names of the automatically \n",
    "# detected interesting columns\n",
    "columns_of_interest = []\n",
    "\n",
    "# This function will provide me an easy access to all\n",
    "# the data I will need for hist`s of numeric data.\n",
    "def get_numeric_col_data(data):\n",
    "    # Calculating quantiles, margins and IQR.  \n",
    "    result = {}\n",
    "    result['min'] = data.min()\n",
    "    result['max'] = data.max()\n",
    "    result['mean'] = data.mean()\n",
    "    result['std'] = data.std()\n",
    "    result['count'] = data.count()\n",
    "    result['q25'] = data.quantile(0.25)\n",
    "    result['q75'] = data.quantile(0.75)\n",
    "    \n",
    "    # IQR calculation.  \n",
    "    result['iqr'] = result['q75']-result['q25']\n",
    "    \n",
    "    #  Lower margin for Outliers calculation.  \n",
    "    result['m_0'] = result['q25']-1.5*result['iqr']\n",
    "    \n",
    "    #  Upper margin for Outliers calculation.  \n",
    "    result['m_1'] = result['q25']+1.5*result['iqr']\n",
    "    \n",
    "    return result\n",
    "\n",
    "def build_boxplot(col):\n",
    "    fig, ax = plt.subplots(figsize=(14, 4))\n",
    "    sns.boxplot(x=col, y='score', data=df, ax=ax)\n",
    "    plt.xticks(rotation=45)\n",
    "    ax.set_title('Boxplot for '+col)\n",
    "    plt.show()\n",
    "\n",
    "\n",
    "# This function will help me to determine whether there are\n",
    "# any statisticaly important diff`s in column data.  \n",
    "def get_stat_diff(col, append_found=False):\n",
    "    global columns_of_interest\n",
    "    cols = df.loc[:,col].value_counts().index[:5]\n",
    "    combs_all = list(combinations(cols,2))\n",
    "    for comb in combs_all:\n",
    "        ttest_result = ttest_ind(df.loc[df.loc[:, col] == comb[0], 'score'],\n",
    "                                df.loc[df.loc[:, col] == comb[1], 'score']).pvalue\n",
    "        \n",
    "        if ttest_result <= 0.05/len(combs_all): \n",
    "            if append_found: columns_of_interest.append(col)\n",
    "            print('Found statisticaly important diffs for column',\n",
    "                  col,' at level',round(ttest_result,3),\n",
    "                 '<=',\n",
    "                  round(0.05/len(combs_all), 3))\n",
    "            break\n",
    "            \n",
    "    return\n",
    "           \n",
    "            \n",
    "# This function I will use to check all columns in the\n",
    "# dataset.  \n",
    "def check_column(col, inplace=False):\n",
    "    global columns_of_interest\n",
    "    print(\"\\n\\n---\",col,\"(\",df[col].dtype,\")---\")\n",
    "    display(df[col].describe())\n",
    "    print(\"Null values:\",df[col].isnull().values.sum())\n",
    "    print(\"Unique values:\",df[col].nunique())\n",
    "    print(\"Total values in column: \",df[col].value_counts().sum())\n",
    "    \n",
    "    # If column datatype is Object.  \n",
    "    if df[col].dtype == 'object':\n",
    "        # Cleaning NaN and 'nan' (text) values.  \n",
    "        df[col] = df[col].astype(str).apply(lambda x:None if x=='nan' else x)\n",
    "        df[col] = df[col].astype(str).apply(lambda x:None if x.strip()=='' else x)\n",
    "\n",
    "        # Don`t know why, but for now this is \n",
    "        # the only way to left only valid data in the dataset.  \n",
    "        df[col] = df[col].loc[df[col]!='None']\n",
    "        \n",
    "        # Looking at stat diff\n",
    "        get_stat_diff(col, True)\n",
    "        \n",
    "        # Building hist.  \n",
    "        print(df[col].hist())\n",
    "        \n",
    "        # Building boxplot.  \n",
    "        fig, ax = plt.subplots(figsize=(14, 4))\n",
    "        sns.boxplot(x=col, y='score', data=df, ax=ax)\n",
    "        plt.xticks(rotation=45)\n",
    "        ax.set_title('Boxplot for '+col)\n",
    "        plt.show()\n",
    "        # Ending this condition.  \n",
    "        \n",
    "    # If column datatype is Numeric.  \n",
    "    elif df[col].dtype == 'int64' or df[col].dtype == 'float64':\n",
    "        # Forcing column data to numeric.  \n",
    "        df[col] = pd.to_numeric(df[col].astype(df[col].dtype), errors='coerce')\n",
    "        # Cleaning column data from NaN values.  \n",
    "        df.dropna(subset=[col], axis=0, how='any', inplace=True)\n",
    "        \n",
    "        # Getting useful data for decision-making process.  \n",
    "        ncd = get_numeric_col_data(df[col])\n",
    "        \n",
    "        print('\\n Numeric Column Data:')\n",
    "        print('25th percentile:{},'.format(ncd['q25']))\n",
    "        print('75th pecentile:{}'.format(ncd['q75']))\n",
    "        print('IQR:{}'.format(ncd['iqr']))\n",
    "        print('Outlier margins: [{a},{b}]'.format(a=ncd['m_0'],\n",
    "                                             b=ncd['m_1']))\n",
    "            \n",
    "        # Separate container for selected data for convinience.  \n",
    "        result_set = df[col].loc[df[col].between(ncd['m_0'],ncd['m_1'])]\n",
    "        \n",
    "        #Counting the outliers. \n",
    "        outliers_count = df[col].value_counts().sum() \\\n",
    "                         - result_set.value_counts().sum()\n",
    "        print('Outliers count:',outliers_count)\n",
    "        \n",
    "        # Building first hist.  \n",
    "        result_set.hist(alpha=1.0, bins=16, range=(ncd['min'],ncd['max']),\n",
    "                        label=col+': IQR')\n",
    "        \n",
    "        # Building second hist.  \n",
    "        df[col].hist(alpha=0.5, bins=16, range=(ncd['min'],ncd['max']), \n",
    "                     label=col+': All Data')\n",
    "        \n",
    "        # Display the hist.  \n",
    "        plt.legend()\n",
    "        plt.grid()\n",
    "        plt.show()\n",
    "        \n",
    "        corrcoef = np.corrcoef(df.score, df[col])\n",
    "        \n",
    "        # If the corrcoef >= 5% than I will closely check this column.  \n",
    "        if abs(corrcoef[0,1]) >= 0.05: columns_of_interest.append(col)\n",
    "        \n",
    "        # Printing corrcoef value.  \n",
    "        print(\"Checking for correlation:\", round(corrcoef[0,1],3))\n",
    "        \n",
    "        # Ending this condition.  \n",
    "        \n",
    "    else:\n",
    "        print(\"UNKNOWN DATATYPE FOR COL\",col)\n",
    "        # Ending IF\n",
    "    \n",
    "    # Useful info.  \n",
    "    print(\"Null values:\",df[col].isnull().values.sum())\n",
    "    print(\"Unique values:\",df[col].nunique())\n",
    "    print(\"Total values in column: \",df[col].value_counts().sum())\n",
    "    print(\"Valid values left:\")\n",
    "    print(df[col].value_counts())\n",
    "    \n",
    "    return"
   ]
  },
  {
   "cell_type": "code",
   "execution_count": 8,
   "id": "f032ff0f",
   "metadata": {},
   "outputs": [
    {
     "name": "stdout",
     "output_type": "stream",
     "text": [
      "\n",
      "\n",
      "--- school ( object )---\n"
     ]
    },
    {
     "data": {
      "text/plain": [
       "count     389\n",
       "unique      2\n",
       "top        GP\n",
       "freq      344\n",
       "Name: school, dtype: object"
      ]
     },
     "metadata": {},
     "output_type": "display_data"
    },
    {
     "name": "stdout",
     "output_type": "stream",
     "text": [
      "Null values: 0\n",
      "Unique values: 2\n",
      "Total values in column:  389\n",
      "AxesSubplot(0.125,0.125;0.775x0.755)\n"
     ]
    },
    {
     "data": {
      "image/png": "[encoded data removed]",
      "text/plain": [
       "<Figure size 432x288 with 1 Axes>"
      ]
     },
     "metadata": {
      "needs_background": "light"
     },
     "output_type": "display_data"
    },
    {
     "data": {
      "image/png": "[encoded data removed]",
      "text/plain": [
       "<Figure size 1008x288 with 1 Axes>"
      ]
     },
     "metadata": {
      "needs_background": "light"
     },
     "output_type": "display_data"
    },
    {
     "name": "stdout",
     "output_type": "stream",
     "text": [
      "Null values: 0\n",
      "Unique values: 2\n",
      "Total values in column:  389\n",
      "Valid values left:\n",
      "GP    344\n",
      "MS     45\n",
      "Name: school, dtype: int64\n",
      "\n",
      "\n",
      "--- sex ( object )---\n"
     ]
    },
    {
     "data": {
      "text/plain": [
       "count     389\n",
       "unique      2\n",
       "top         F\n",
       "freq      204\n",
       "Name: sex, dtype: object"
      ]
     },
     "metadata": {},
     "output_type": "display_data"
    },
    {
     "name": "stdout",
     "output_type": "stream",
     "text": [
      "Null values: 0\n",
      "Unique values: 2\n",
      "Total values in column:  389\n",
      "AxesSubplot(0.125,0.125;0.775x0.755)\n"
     ]
    },
    {
     "data": {
      "image/png": "[encoded data removed]",
      "text/plain": [
       "<Figure size 432x288 with 1 Axes>"
      ]
     },
     "metadata": {
      "needs_background": "light"
     },
     "output_type": "display_data"
    },
    {
     "data": {
      "image/png": "[encoded data removed]",
      "text/plain": [
       "<Figure size 1008x288 with 1 Axes>"
      ]
     },
     "metadata": {
      "needs_background": "light"
     },
     "output_type": "display_data"
    },
    {
     "name": "stdout",
     "output_type": "stream",
     "text": [
      "Null values: 0\n",
      "Unique values: 2\n",
      "Total values in column:  389\n",
      "Valid values left:\n",
      "F    204\n",
      "M    185\n",
      "Name: sex, dtype: int64\n",
      "\n",
      "\n",
      "--- age ( int64 )---\n"
     ]
    },
    {
     "data": {
      "text/plain": [
       "count    389.000000\n",
       "mean      16.673522\n",
       "std        1.265662\n",
       "min       15.000000\n",
       "25%       16.000000\n",
       "50%       17.000000\n",
       "75%       18.000000\n",
       "max       22.000000\n",
       "Name: age, dtype: float64"
      ]
     },
     "metadata": {},
     "output_type": "display_data"
    },
    {
     "name": "stdout",
     "output_type": "stream",
     "text": [
      "Null values: 0\n",
      "Unique values: 8\n",
      "Total values in column:  389\n",
      "\n",
      " Numeric Column Data:\n",
      "25th percentile:16.0,\n",
      "75th pecentile:18.0\n",
      "IQR:2.0\n",
      "Outlier margins: [13.0,19.0]\n",
      "Outliers count: 5\n"
     ]
    },
    {
     "data": {
      "image/png": "[encoded data removed]",
      "text/plain": [
       "<Figure size 432x288 with 1 Axes>"
      ]
     },
     "metadata": {
      "needs_background": "light"
     },
     "output_type": "display_data"
    },
    {
     "name": "stdout",
     "output_type": "stream",
     "text": [
      "Checking for correlation: -0.156\n",
      "Null values: 0\n",
      "Unique values: 8\n",
      "Total values in column:  389\n",
      "Valid values left:\n",
      "16    103\n",
      "17     98\n",
      "15     82\n",
      "18     80\n",
      "19     21\n",
      "20      3\n",
      "21      1\n",
      "22      1\n",
      "Name: age, dtype: int64\n",
      "\n",
      "\n",
      "--- addr ( object )---\n"
     ]
    },
    {
     "data": {
      "text/plain": [
       "count     374\n",
       "unique      2\n",
       "top         U\n",
       "freq      291\n",
       "Name: addr, dtype: object"
      ]
     },
     "metadata": {},
     "output_type": "display_data"
    },
    {
     "name": "stdout",
     "output_type": "stream",
     "text": [
      "Null values: 15\n",
      "Unique values: 2\n",
      "Total values in column:  374\n",
      "Found statisticaly important diffs for column addr  at level 0.02 <= 0.05\n",
      "AxesSubplot(0.125,0.125;0.775x0.755)\n"
     ]
    },
    {
     "data": {
      "image/png": "[encoded data removed]",
      "text/plain": [
       "<Figure size 432x288 with 1 Axes>"
      ]
     },
     "metadata": {
      "needs_background": "light"
     },
     "output_type": "display_data"
    },
    {
     "data": {
      "image/png": "[encoded data removed]",
      "text/plain": [
       "<Figure size 1008x288 with 1 Axes>"
      ]
     },
     "metadata": {
      "needs_background": "light"
     },
     "output_type": "display_data"
    },
    {
     "name": "stdout",
     "output_type": "stream",
     "text": [
      "Null values: 15\n",
      "Unique values: 2\n",
      "Total values in column:  374\n",
      "Valid values left:\n",
      "U    291\n",
      "R     83\n",
      "Name: addr, dtype: int64\n",
      "\n",
      "\n",
      "--- famsize ( object )---\n"
     ]
    },
    {
     "data": {
      "text/plain": [
       "count     362\n",
       "unique      2\n",
       "top       GT3\n",
       "freq      255\n",
       "Name: famsize, dtype: object"
      ]
     },
     "metadata": {},
     "output_type": "display_data"
    },
    {
     "name": "stdout",
     "output_type": "stream",
     "text": [
      "Null values: 27\n",
      "Unique values: 2\n",
      "Total values in column:  362\n",
      "AxesSubplot(0.125,0.125;0.775x0.755)\n"
     ]
    },
    {
     "data": {
      "image/png": "[encoded data removed]",
      "text/plain": [
       "<Figure size 432x288 with 1 Axes>"
      ]
     },
     "metadata": {
      "needs_background": "light"
     },
     "output_type": "display_data"
    },
    {
     "data": {
      "image/png": "[encoded data removed]",
      "text/plain": [
       "<Figure size 1008x288 with 1 Axes>"
      ]
     },
     "metadata": {
      "needs_background": "light"
     },
     "output_type": "display_data"
    },
    {
     "name": "stdout",
     "output_type": "stream",
     "text": [
      "Null values: 27\n",
      "Unique values: 2\n",
      "Total values in column:  362\n",
      "Valid values left:\n",
      "GT3    255\n",
      "LE3    107\n",
      "Name: famsize, dtype: int64\n",
      "\n",
      "\n",
      "--- pstatus ( object )---\n"
     ]
    },
    {
     "data": {
      "text/plain": [
       "count     344\n",
       "unique      2\n",
       "top         T\n",
       "freq      308\n",
       "Name: pstatus, dtype: object"
      ]
     },
     "metadata": {},
     "output_type": "display_data"
    },
    {
     "name": "stdout",
     "output_type": "stream",
     "text": [
      "Null values: 45\n",
      "Unique values: 2\n",
      "Total values in column:  344\n",
      "AxesSubplot(0.125,0.125;0.775x0.755)\n"
     ]
    },
    {
     "data": {
      "image/png": "[encoded data removed]",
      "text/plain": [
       "<Figure size 432x288 with 1 Axes>"
      ]
     },
     "metadata": {
      "needs_background": "light"
     },
     "output_type": "display_data"
    },
    {
     "data": {
      "image/png": "[encoded data removed]",
      "text/plain": [
       "<Figure size 1008x288 with 1 Axes>"
      ]
     },
     "metadata": {
      "needs_background": "light"
     },
     "output_type": "display_data"
    },
    {
     "name": "stdout",
     "output_type": "stream",
     "text": [
      "Null values: 45\n",
      "Unique values: 2\n",
      "Total values in column:  344\n",
      "Valid values left:\n",
      "T    308\n",
      "A     36\n",
      "Name: pstatus, dtype: int64\n",
      "\n",
      "\n",
      "--- medu ( float64 )---\n"
     ]
    },
    {
     "data": {
      "text/plain": [
       "count    386.000000\n",
       "mean       2.766839\n",
       "std        1.094277\n",
       "min        0.000000\n",
       "25%        2.000000\n",
       "50%        3.000000\n",
       "75%        4.000000\n",
       "max        4.000000\n",
       "Name: medu, dtype: float64"
      ]
     },
     "metadata": {},
     "output_type": "display_data"
    },
    {
     "name": "stdout",
     "output_type": "stream",
     "text": [
      "Null values: 3\n",
      "Unique values: 5\n",
      "Total values in column:  386\n",
      "\n",
      " Numeric Column Data:\n",
      "25th percentile:2.0,\n",
      "75th pecentile:4.0\n",
      "IQR:2.0\n",
      "Outlier margins: [-1.0,5.0]\n",
      "Outliers count: 0\n"
     ]
    },
    {
     "data": {
      "image/png": "[encoded data removed]",
      "text/plain": [
       "<Figure size 432x288 with 1 Axes>"
      ]
     },
     "metadata": {
      "needs_background": "light"
     },
     "output_type": "display_data"
    },
    {
     "name": "stdout",
     "output_type": "stream",
     "text": [
      "Checking for correlation: 0.213\n",
      "Null values: 0\n",
      "Unique values: 5\n",
      "Total values in column:  386\n",
      "Valid values left:\n",
      "4.0    131\n",
      "2.0    100\n",
      "3.0     96\n",
      "1.0     56\n",
      "0.0      3\n",
      "Name: medu, dtype: int64\n",
      "\n",
      "\n",
      "--- fedu ( float64 )---\n"
     ]
    },
    {
     "data": {
      "text/plain": [
       "count    362.000000\n",
       "mean       2.632597\n",
       "std        2.249121\n",
       "min        0.000000\n",
       "25%        2.000000\n",
       "50%        3.000000\n",
       "75%        3.000000\n",
       "max       40.000000\n",
       "Name: fedu, dtype: float64"
      ]
     },
     "metadata": {},
     "output_type": "display_data"
    },
    {
     "name": "stdout",
     "output_type": "stream",
     "text": [
      "Null values: 24\n",
      "Unique values: 6\n",
      "Total values in column:  362\n",
      "\n",
      " Numeric Column Data:\n",
      "25th percentile:2.0,\n",
      "75th pecentile:3.0\n",
      "IQR:1.0\n",
      "Outlier margins: [0.5,3.5]\n",
      "Outliers count: 91\n"
     ]
    },
    {
     "data": {
      "image/png": "[encoded data removed]",
      "text/plain": [
       "<Figure size 432x288 with 1 Axes>"
      ]
     },
     "metadata": {
      "needs_background": "light"
     },
     "output_type": "display_data"
    },
    {
     "name": "stdout",
     "output_type": "stream",
     "text": [
      "Checking for correlation: 0.076\n",
      "Null values: 0\n",
      "Unique values: 6\n",
      "Total values in column:  362\n",
      "Valid values left:\n",
      "2.0     104\n",
      "3.0      93\n",
      "4.0      88\n",
      "1.0      74\n",
      "0.0       2\n",
      "40.0      1\n",
      "Name: fedu, dtype: int64\n",
      "\n",
      "\n",
      "--- mjob ( object )---\n"
     ]
    },
    {
     "data": {
      "text/plain": [
       "count       343\n",
       "unique        5\n",
       "top       other\n",
       "freq        117\n",
       "Name: mjob, dtype: object"
      ]
     },
     "metadata": {},
     "output_type": "display_data"
    },
    {
     "name": "stdout",
     "output_type": "stream",
     "text": [
      "Null values: 19\n",
      "Unique values: 5\n",
      "Total values in column:  343\n",
      "Found statisticaly important diffs for column mjob  at level 0.005 <= 0.005\n",
      "AxesSubplot(0.125,0.125;0.775x0.755)\n"
     ]
    },
    {
     "data": {
      "image/png": "[encoded data removed]",
      "text/plain": [
       "<Figure size 432x288 with 1 Axes>"
      ]
     },
     "metadata": {
      "needs_background": "light"
     },
     "output_type": "display_data"
    },
    {
     "data": {
      "image/png": "[encoded data removed]",
      "text/plain": [
       "<Figure size 1008x288 with 1 Axes>"
      ]
     },
     "metadata": {
      "needs_background": "light"
     },
     "output_type": "display_data"
    },
    {
     "name": "stdout",
     "output_type": "stream",
     "text": [
      "Null values: 19\n",
      "Unique values: 5\n",
      "Total values in column:  343\n",
      "Valid values left:\n",
      "other       117\n",
      "services     90\n",
      "at_home      57\n",
      "teacher      48\n",
      "health       31\n",
      "Name: mjob, dtype: int64\n",
      "\n",
      "\n",
      "--- fjob ( object )---\n"
     ]
    },
    {
     "data": {
      "text/plain": [
       "count       328\n",
       "unique        5\n",
       "top       other\n",
       "freq        186\n",
       "Name: fjob, dtype: object"
      ]
     },
     "metadata": {},
     "output_type": "display_data"
    },
    {
     "name": "stdout",
     "output_type": "stream",
     "text": [
      "Null values: 34\n",
      "Unique values: 5\n",
      "Total values in column:  328\n",
      "AxesSubplot(0.125,0.125;0.775x0.755)\n"
     ]
    },
    {
     "data": {
      "image/png": "[encoded data removed]",
      "text/plain": [
       "<Figure size 432x288 with 1 Axes>"
      ]
     },
     "metadata": {
      "needs_background": "light"
     },
     "output_type": "display_data"
    },
    {
     "data": {
      "image/png": "[encoded data removed]",
      "text/plain": [
       "<Figure size 1008x288 with 1 Axes>"
      ]
     },
     "metadata": {
      "needs_background": "light"
     },
     "output_type": "display_data"
    },
    {
     "name": "stdout",
     "output_type": "stream",
     "text": [
      "Null values: 34\n",
      "Unique values: 5\n",
      "Total values in column:  328\n",
      "Valid values left:\n",
      "other       186\n",
      "services     89\n",
      "teacher      26\n",
      "at_home      14\n",
      "health       13\n",
      "Name: fjob, dtype: int64\n",
      "\n",
      "\n",
      "--- reason ( object )---\n"
     ]
    },
    {
     "data": {
      "text/plain": [
       "count        346\n",
       "unique         4\n",
       "top       course\n",
       "freq         126\n",
       "Name: reason, dtype: object"
      ]
     },
     "metadata": {},
     "output_type": "display_data"
    },
    {
     "name": "stdout",
     "output_type": "stream",
     "text": [
      "Null values: 16\n",
      "Unique values: 4\n",
      "Total values in column:  346\n",
      "AxesSubplot(0.125,0.125;0.775x0.755)\n"
     ]
    },
    {
     "data": {
      "image/png": "[encoded data removed]",
      "text/plain": [
       "<Figure size 432x288 with 1 Axes>"
      ]
     },
     "metadata": {
      "needs_background": "light"
     },
     "output_type": "display_data"
    },
    {
     "data": {
      "image/png": "[encoded data removed]",
      "text/plain": [
       "<Figure size 1008x288 with 1 Axes>"
      ]
     },
     "metadata": {
      "needs_background": "light"
     },
     "output_type": "display_data"
    },
    {
     "name": "stdout",
     "output_type": "stream",
     "text": [
      "Null values: 16\n",
      "Unique values: 4\n",
      "Total values in column:  346\n",
      "Valid values left:\n",
      "course        126\n",
      "reputation     96\n",
      "home           92\n",
      "other          32\n",
      "Name: reason, dtype: int64\n",
      "\n",
      "\n",
      "--- guardian ( object )---\n"
     ]
    },
    {
     "data": {
      "text/plain": [
       "count        332\n",
       "unique         3\n",
       "top       mother\n",
       "freq         233\n",
       "Name: guardian, dtype: object"
      ]
     },
     "metadata": {},
     "output_type": "display_data"
    },
    {
     "name": "stdout",
     "output_type": "stream",
     "text": [
      "Null values: 30\n",
      "Unique values: 3\n",
      "Total values in column:  332\n",
      "AxesSubplot(0.125,0.125;0.775x0.755)\n"
     ]
    },
    {
     "data": {
      "image/png": "[encoded data removed]",
      "text/plain": [
       "<Figure size 432x288 with 1 Axes>"
      ]
     },
     "metadata": {
      "needs_background": "light"
     },
     "output_type": "display_data"
    },
    {
     "data": {
      "image/png": "[encoded data removed]",
      "text/plain": [
       "<Figure size 1008x288 with 1 Axes>"
      ]
     },
     "metadata": {
      "needs_background": "light"
     },
     "output_type": "display_data"
    },
    {
     "name": "stdout",
     "output_type": "stream",
     "text": [
      "Null values: 30\n",
      "Unique values: 3\n",
      "Total values in column:  332\n",
      "Valid values left:\n",
      "mother    233\n",
      "father     77\n",
      "other      22\n",
      "Name: guardian, dtype: int64\n",
      "\n",
      "\n",
      "--- traveltime ( float64 )---\n"
     ]
    },
    {
     "data": {
      "text/plain": [
       "count    337.000000\n",
       "mean       1.454006\n",
       "std        0.706132\n",
       "min        1.000000\n",
       "25%        1.000000\n",
       "50%        1.000000\n",
       "75%        2.000000\n",
       "max        4.000000\n",
       "Name: traveltime, dtype: float64"
      ]
     },
     "metadata": {},
     "output_type": "display_data"
    },
    {
     "name": "stdout",
     "output_type": "stream",
     "text": [
      "Null values: 25\n",
      "Unique values: 4\n",
      "Total values in column:  337\n",
      "\n",
      " Numeric Column Data:\n",
      "25th percentile:1.0,\n",
      "75th pecentile:2.0\n",
      "IQR:1.0\n",
      "Outlier margins: [-0.5,2.5]\n",
      "Outliers count: 28\n"
     ]
    },
    {
     "data": {
      "image/png": "[encoded data removed]",
      "text/plain": [
       "<Figure size 432x288 with 1 Axes>"
      ]
     },
     "metadata": {
      "needs_background": "light"
     },
     "output_type": "display_data"
    },
    {
     "name": "stdout",
     "output_type": "stream",
     "text": [
      "Checking for correlation: -0.078\n",
      "Null values: 0\n",
      "Unique values: 4\n",
      "Total values in column:  337\n",
      "Valid values left:\n",
      "1.0    219\n",
      "2.0     90\n",
      "3.0     21\n",
      "4.0      7\n",
      "Name: traveltime, dtype: int64\n",
      "\n",
      "\n",
      "--- studytime ( float64 )---\n"
     ]
    },
    {
     "data": {
      "text/plain": [
       "count    331.000000\n",
       "mean       2.033233\n",
       "std        0.853929\n",
       "min        1.000000\n",
       "25%        1.000000\n",
       "50%        2.000000\n",
       "75%        2.000000\n",
       "max        4.000000\n",
       "Name: studytime, dtype: float64"
      ]
     },
     "metadata": {},
     "output_type": "display_data"
    },
    {
     "name": "stdout",
     "output_type": "stream",
     "text": [
      "Null values: 6\n",
      "Unique values: 4\n",
      "Total values in column:  331\n",
      "\n",
      " Numeric Column Data:\n",
      "25th percentile:1.0,\n",
      "75th pecentile:2.0\n",
      "IQR:1.0\n",
      "Outlier margins: [-0.5,2.5]\n",
      "Outliers count: 78\n"
     ]
    },
    {
     "data": {
      "image/png": "[encoded data removed]",
      "text/plain": [
       "<Figure size 432x288 with 1 Axes>"
      ]
     },
     "metadata": {
      "needs_background": "light"
     },
     "output_type": "display_data"
    },
    {
     "name": "stdout",
     "output_type": "stream",
     "text": [
      "Checking for correlation: 0.11\n",
      "Null values: 0\n",
      "Unique values: 4\n",
      "Total values in column:  331\n",
      "Valid values left:\n",
      "2.0    162\n",
      "1.0     91\n",
      "3.0     54\n",
      "4.0     24\n",
      "Name: studytime, dtype: int64\n",
      "\n",
      "\n",
      "--- failures ( float64 )---\n"
     ]
    },
    {
     "data": {
      "text/plain": [
       "count    315.000000\n",
       "mean       0.320635\n",
       "std        0.732798\n",
       "min        0.000000\n",
       "25%        0.000000\n",
       "50%        0.000000\n",
       "75%        0.000000\n",
       "max        3.000000\n",
       "Name: failures, dtype: float64"
      ]
     },
     "metadata": {},
     "output_type": "display_data"
    },
    {
     "name": "stdout",
     "output_type": "stream",
     "text": [
      "Null values: 16\n",
      "Unique values: 4\n",
      "Total values in column:  315\n",
      "\n",
      " Numeric Column Data:\n",
      "25th percentile:0.0,\n",
      "75th pecentile:0.0\n",
      "IQR:0.0\n",
      "Outlier margins: [0.0,0.0]\n",
      "Outliers count: 64\n"
     ]
    },
    {
     "data": {
      "image/png": "[encoded data removed]",
      "text/plain": [
       "<Figure size 432x288 with 1 Axes>"
      ]
     },
     "metadata": {
      "needs_background": "light"
     },
     "output_type": "display_data"
    },
    {
     "name": "stdout",
     "output_type": "stream",
     "text": [
      "Checking for correlation: -0.341\n",
      "Null values: 0\n",
      "Unique values: 4\n",
      "Total values in column:  315\n",
      "Valid values left:\n",
      "0.0    251\n",
      "1.0     40\n",
      "3.0     13\n",
      "2.0     11\n",
      "Name: failures, dtype: int64\n",
      "\n",
      "\n",
      "--- schoolsup ( object )---\n"
     ]
    },
    {
     "data": {
      "text/plain": [
       "count     307\n",
       "unique      2\n",
       "top        no\n",
       "freq      267\n",
       "Name: schoolsup, dtype: object"
      ]
     },
     "metadata": {},
     "output_type": "display_data"
    },
    {
     "name": "stdout",
     "output_type": "stream",
     "text": [
      "Null values: 8\n",
      "Unique values: 2\n",
      "Total values in column:  307\n",
      "AxesSubplot(0.125,0.125;0.775x0.755)\n"
     ]
    },
    {
     "data": {
      "image/png": "[encoded data removed]",
      "text/plain": [
       "<Figure size 432x288 with 1 Axes>"
      ]
     },
     "metadata": {
      "needs_background": "light"
     },
     "output_type": "display_data"
    },
    {
     "data": {
      "image/png": "[encoded data removed]",
      "text/plain": [
       "<Figure size 1008x288 with 1 Axes>"
      ]
     },
     "metadata": {
      "needs_background": "light"
     },
     "output_type": "display_data"
    },
    {
     "name": "stdout",
     "output_type": "stream",
     "text": [
      "Null values: 8\n",
      "Unique values: 2\n",
      "Total values in column:  307\n",
      "Valid values left:\n",
      "no     267\n",
      "yes     40\n",
      "Name: schoolsup, dtype: int64\n",
      "\n",
      "\n",
      "--- famsup ( object )---\n"
     ]
    },
    {
     "data": {
      "text/plain": [
       "count     286\n",
       "unique      2\n",
       "top       yes\n",
       "freq      173\n",
       "Name: famsup, dtype: object"
      ]
     },
     "metadata": {},
     "output_type": "display_data"
    },
    {
     "name": "stdout",
     "output_type": "stream",
     "text": [
      "Null values: 29\n",
      "Unique values: 2\n",
      "Total values in column:  286\n",
      "AxesSubplot(0.125,0.125;0.775x0.755)\n"
     ]
    },
    {
     "data": {
      "image/png": "[encoded data removed]",
      "text/plain": [
       "<Figure size 432x288 with 1 Axes>"
      ]
     },
     "metadata": {
      "needs_background": "light"
     },
     "output_type": "display_data"
    },
    {
     "data": {
      "image/png": "[encoded data removed]",
      "text/plain": [
       "<Figure size 1008x288 with 1 Axes>"
      ]
     },
     "metadata": {
      "needs_background": "light"
     },
     "output_type": "display_data"
    },
    {
     "name": "stdout",
     "output_type": "stream",
     "text": [
      "Null values: 29\n",
      "Unique values: 2\n",
      "Total values in column:  286\n",
      "Valid values left:\n",
      "yes    173\n",
      "no     113\n",
      "Name: famsup, dtype: int64\n",
      "\n",
      "\n",
      "--- paidlessons ( object )---\n"
     ]
    },
    {
     "data": {
      "text/plain": [
       "count     285\n",
       "unique      2\n",
       "top        no\n",
       "freq      161\n",
       "Name: paidlessons, dtype: object"
      ]
     },
     "metadata": {},
     "output_type": "display_data"
    },
    {
     "name": "stdout",
     "output_type": "stream",
     "text": [
      "Null values: 30\n",
      "Unique values: 2\n",
      "Total values in column:  285\n",
      "AxesSubplot(0.125,0.125;0.775x0.755)\n"
     ]
    },
    {
     "data": {
      "image/png": "[encoded data removed]",
      "text/plain": [
       "<Figure size 432x288 with 1 Axes>"
      ]
     },
     "metadata": {
      "needs_background": "light"
     },
     "output_type": "display_data"
    },
    {
     "data": {
      "image/png": "[encoded data removed]",
      "text/plain": [
       "<Figure size 1008x288 with 1 Axes>"
      ]
     },
     "metadata": {
      "needs_background": "light"
     },
     "output_type": "display_data"
    },
    {
     "name": "stdout",
     "output_type": "stream",
     "text": [
      "Null values: 30\n",
      "Unique values: 2\n",
      "Total values in column:  285\n",
      "Valid values left:\n",
      "no     161\n",
      "yes    124\n",
      "Name: paidlessons, dtype: int64\n",
      "\n",
      "\n",
      "--- activities ( object )---\n"
     ]
    },
    {
     "data": {
      "text/plain": [
       "count     303\n",
       "unique      2\n",
       "top       yes\n",
       "freq      155\n",
       "Name: activities, dtype: object"
      ]
     },
     "metadata": {},
     "output_type": "display_data"
    },
    {
     "name": "stdout",
     "output_type": "stream",
     "text": [
      "Null values: 12\n",
      "Unique values: 2\n",
      "Total values in column:  303\n",
      "AxesSubplot(0.125,0.125;0.775x0.755)\n"
     ]
    },
    {
     "data": {
      "image/png": "[encoded data removed]",
      "text/plain": [
       "<Figure size 432x288 with 1 Axes>"
      ]
     },
     "metadata": {
      "needs_background": "light"
     },
     "output_type": "display_data"
    },
    {
     "data": {
      "image/png": "[encoded data removed]",
      "text/plain": [
       "<Figure size 1008x288 with 1 Axes>"
      ]
     },
     "metadata": {
      "needs_background": "light"
     },
     "output_type": "display_data"
    },
    {
     "name": "stdout",
     "output_type": "stream",
     "text": [
      "Null values: 12\n",
      "Unique values: 2\n",
      "Total values in column:  303\n",
      "Valid values left:\n",
      "yes    155\n",
      "no     148\n",
      "Name: activities, dtype: int64\n",
      "\n",
      "\n",
      "--- nursery ( object )---\n"
     ]
    },
    {
     "data": {
      "text/plain": [
       "count     300\n",
       "unique      2\n",
       "top       yes\n",
       "freq      238\n",
       "Name: nursery, dtype: object"
      ]
     },
     "metadata": {},
     "output_type": "display_data"
    },
    {
     "name": "stdout",
     "output_type": "stream",
     "text": [
      "Null values: 15\n",
      "Unique values: 2\n",
      "Total values in column:  300\n",
      "AxesSubplot(0.125,0.125;0.775x0.755)\n"
     ]
    },
    {
     "data": {
      "image/png": "[encoded data removed]",
      "text/plain": [
       "<Figure size 432x288 with 1 Axes>"
      ]
     },
     "metadata": {
      "needs_background": "light"
     },
     "output_type": "display_data"
    },
    {
     "data": {
      "image/png": "[encoded data removed]",
      "text/plain": [
       "<Figure size 1008x288 with 1 Axes>"
      ]
     },
     "metadata": {
      "needs_background": "light"
     },
     "output_type": "display_data"
    },
    {
     "name": "stdout",
     "output_type": "stream",
     "text": [
      "Null values: 15\n",
      "Unique values: 2\n",
      "Total values in column:  300\n",
      "Valid values left:\n",
      "yes    238\n",
      "no      62\n",
      "Name: nursery, dtype: int64\n",
      "\n",
      "\n",
      "--- wishhigher ( object )---\n"
     ]
    },
    {
     "data": {
      "text/plain": [
       "count     303\n",
       "unique      2\n",
       "top       yes\n",
       "freq      287\n",
       "Name: wishhigher, dtype: object"
      ]
     },
     "metadata": {},
     "output_type": "display_data"
    },
    {
     "name": "stdout",
     "output_type": "stream",
     "text": [
      "Null values: 12\n",
      "Unique values: 2\n",
      "Total values in column:  303\n",
      "Found statisticaly important diffs for column wishhigher  at level 0.028 <= 0.05\n",
      "AxesSubplot(0.125,0.125;0.775x0.755)\n"
     ]
    },
    {
     "data": {
      "image/png": "[encoded data removed]",
      "text/plain": [
       "<Figure size 432x288 with 1 Axes>"
      ]
     },
     "metadata": {
      "needs_background": "light"
     },
     "output_type": "display_data"
    },
    {
     "data": {
      "image/png": "[encoded data removed]",
      "text/plain": [
       "<Figure size 1008x288 with 1 Axes>"
      ]
     },
     "metadata": {
      "needs_background": "light"
     },
     "output_type": "display_data"
    },
    {
     "name": "stdout",
     "output_type": "stream",
     "text": [
      "Null values: 12\n",
      "Unique values: 2\n",
      "Total values in column:  303\n",
      "Valid values left:\n",
      "yes    287\n",
      "no      16\n",
      "Name: wishhigher, dtype: int64\n",
      "\n",
      "\n",
      "--- internet ( object )---\n"
     ]
    },
    {
     "data": {
      "text/plain": [
       "count     289\n",
       "unique      2\n",
       "top       yes\n",
       "freq      246\n",
       "Name: internet, dtype: object"
      ]
     },
     "metadata": {},
     "output_type": "display_data"
    },
    {
     "name": "stdout",
     "output_type": "stream",
     "text": [
      "Null values: 26\n",
      "Unique values: 2\n",
      "Total values in column:  289\n",
      "AxesSubplot(0.125,0.125;0.775x0.755)\n"
     ]
    },
    {
     "data": {
      "image/png": "[encoded data removed]",
      "text/plain": [
       "<Figure size 432x288 with 1 Axes>"
      ]
     },
     "metadata": {
      "needs_background": "light"
     },
     "output_type": "display_data"
    },
    {
     "data": {
      "image/png": "[encoded data removed]",
      "text/plain": [
       "<Figure size 1008x288 with 1 Axes>"
      ]
     },
     "metadata": {
      "needs_background": "light"
     },
     "output_type": "display_data"
    },
    {
     "name": "stdout",
     "output_type": "stream",
     "text": [
      "Null values: 26\n",
      "Unique values: 2\n",
      "Total values in column:  289\n",
      "Valid values left:\n",
      "yes    246\n",
      "no      43\n",
      "Name: internet, dtype: int64\n",
      "\n",
      "\n",
      "--- romantic ( object )---\n"
     ]
    },
    {
     "data": {
      "text/plain": [
       "count     296\n",
       "unique      2\n",
       "top        no\n",
       "freq      194\n",
       "Name: romantic, dtype: object"
      ]
     },
     "metadata": {},
     "output_type": "display_data"
    },
    {
     "name": "stdout",
     "output_type": "stream",
     "text": [
      "Null values: 19\n",
      "Unique values: 2\n",
      "Total values in column:  296\n",
      "AxesSubplot(0.125,0.125;0.775x0.755)\n"
     ]
    },
    {
     "data": {
      "image/png": "[encoded data removed]",
      "text/plain": [
       "<Figure size 432x288 with 1 Axes>"
      ]
     },
     "metadata": {
      "needs_background": "light"
     },
     "output_type": "display_data"
    },
    {
     "data": {
      "image/png": "[encoded data removed]",
      "text/plain": [
       "<Figure size 1008x288 with 1 Axes>"
      ]
     },
     "metadata": {
      "needs_background": "light"
     },
     "output_type": "display_data"
    },
    {
     "name": "stdout",
     "output_type": "stream",
     "text": [
      "Null values: 19\n",
      "Unique values: 2\n",
      "Total values in column:  296\n",
      "Valid values left:\n",
      "no     194\n",
      "yes    102\n",
      "Name: romantic, dtype: int64\n",
      "\n",
      "\n",
      "--- famrel ( float64 )---\n"
     ]
    },
    {
     "data": {
      "text/plain": [
       "count    293.000000\n",
       "mean       3.907850\n",
       "std        0.926238\n",
       "min       -1.000000\n",
       "25%        4.000000\n",
       "50%        4.000000\n",
       "75%        4.000000\n",
       "max        5.000000\n",
       "Name: famrel, dtype: float64"
      ]
     },
     "metadata": {},
     "output_type": "display_data"
    },
    {
     "name": "stdout",
     "output_type": "stream",
     "text": [
      "Null values: 22\n",
      "Unique values: 6\n",
      "Total values in column:  293\n",
      "\n",
      " Numeric Column Data:\n",
      "25th percentile:4.0,\n",
      "75th pecentile:4.0\n",
      "IQR:0.0\n",
      "Outlier margins: [4.0,4.0]\n",
      "Outliers count: 144\n"
     ]
    },
    {
     "data": {
      "image/png": "[encoded data removed]",
      "text/plain": [
       "<Figure size 432x288 with 1 Axes>"
      ]
     },
     "metadata": {
      "needs_background": "light"
     },
     "output_type": "display_data"
    },
    {
     "name": "stdout",
     "output_type": "stream",
     "text": [
      "Checking for correlation: 0.027\n",
      "Null values: 0\n",
      "Unique values: 6\n",
      "Total values in column:  293\n",
      "Valid values left:\n",
      " 4.0    149\n",
      " 5.0     73\n",
      " 3.0     50\n",
      " 2.0     15\n",
      " 1.0      5\n",
      "-1.0      1\n",
      "Name: famrel, dtype: int64\n",
      "\n",
      "\n",
      "--- freetime ( float64 )---\n"
     ]
    },
    {
     "data": {
      "text/plain": [
       "count    287.000000\n",
       "mean       3.205575\n",
       "std        0.994515\n",
       "min        1.000000\n",
       "25%        3.000000\n",
       "50%        3.000000\n",
       "75%        4.000000\n",
       "max        5.000000\n",
       "Name: freetime, dtype: float64"
      ]
     },
     "metadata": {},
     "output_type": "display_data"
    },
    {
     "name": "stdout",
     "output_type": "stream",
     "text": [
      "Null values: 6\n",
      "Unique values: 5\n",
      "Total values in column:  287\n",
      "\n",
      " Numeric Column Data:\n",
      "25th percentile:3.0,\n",
      "75th pecentile:4.0\n",
      "IQR:1.0\n",
      "Outlier margins: [1.5,4.5]\n",
      "Outliers count: 41\n"
     ]
    },
    {
     "data": {
      "image/png": "[encoded data removed]",
      "text/plain": [
       "<Figure size 432x288 with 1 Axes>"
      ]
     },
     "metadata": {
      "needs_background": "light"
     },
     "output_type": "display_data"
    },
    {
     "name": "stdout",
     "output_type": "stream",
     "text": [
      "Checking for correlation: 0.033\n",
      "Null values: 0\n",
      "Unique values: 5\n",
      "Total values in column:  287\n",
      "Valid values left:\n",
      "3.0    115\n",
      "4.0     82\n",
      "2.0     49\n",
      "5.0     27\n",
      "1.0     14\n",
      "Name: freetime, dtype: int64\n",
      "\n",
      "\n",
      "--- goout ( float64 )---\n"
     ]
    },
    {
     "data": {
      "text/plain": [
       "count    282.000000\n",
       "mean       3.109929\n",
       "std        1.086298\n",
       "min        1.000000\n",
       "25%        2.000000\n",
       "50%        3.000000\n",
       "75%        4.000000\n",
       "max        5.000000\n",
       "Name: goout, dtype: float64"
      ]
     },
     "metadata": {},
     "output_type": "display_data"
    },
    {
     "name": "stdout",
     "output_type": "stream",
     "text": [
      "Null values: 5\n",
      "Unique values: 5\n",
      "Total values in column:  282\n",
      "\n",
      " Numeric Column Data:\n",
      "25th percentile:2.0,\n",
      "75th pecentile:4.0\n",
      "IQR:2.0\n",
      "Outlier margins: [-1.0,5.0]\n",
      "Outliers count: 0\n"
     ]
    },
    {
     "data": {
      "image/png": "[encoded data removed]",
      "text/plain": [
       "<Figure size 432x288 with 1 Axes>"
      ]
     },
     "metadata": {
      "needs_background": "light"
     },
     "output_type": "display_data"
    },
    {
     "name": "stdout",
     "output_type": "stream",
     "text": [
      "Checking for correlation: -0.174\n",
      "Null values: 0\n",
      "Unique values: 5\n",
      "Total values in column:  282\n",
      "Valid values left:\n",
      "3.0    100\n",
      "2.0     71\n",
      "4.0     60\n",
      "5.0     36\n",
      "1.0     15\n",
      "Name: goout, dtype: int64\n",
      "\n",
      "\n",
      "--- health ( float64 )---\n"
     ]
    },
    {
     "data": {
      "text/plain": [
       "count    272.000000\n",
       "mean       3.430147\n",
       "std        1.380776\n",
       "min        1.000000\n",
       "25%        2.000000\n",
       "50%        3.000000\n",
       "75%        5.000000\n",
       "max        5.000000\n",
       "Name: health, dtype: float64"
      ]
     },
     "metadata": {},
     "output_type": "display_data"
    },
    {
     "name": "stdout",
     "output_type": "stream",
     "text": [
      "Null values: 10\n",
      "Unique values: 5\n",
      "Total values in column:  272\n",
      "\n",
      " Numeric Column Data:\n",
      "25th percentile:2.0,\n",
      "75th pecentile:5.0\n",
      "IQR:3.0\n",
      "Outlier margins: [-2.5,6.5]\n",
      "Outliers count: 0\n"
     ]
    },
    {
     "data": {
      "image/png": "[encoded data removed]",
      "text/plain": [
       "<Figure size 432x288 with 1 Axes>"
      ]
     },
     "metadata": {
      "needs_background": "light"
     },
     "output_type": "display_data"
    },
    {
     "name": "stdout",
     "output_type": "stream",
     "text": [
      "Checking for correlation: -0.052\n",
      "Null values: 0\n",
      "Unique values: 5\n",
      "Total values in column:  272\n",
      "Valid values left:\n",
      "5.0    86\n",
      "3.0    68\n",
      "4.0    49\n",
      "1.0    35\n",
      "2.0    34\n",
      "Name: health, dtype: int64\n",
      "\n",
      "\n",
      "--- absences ( float64 )---\n"
     ]
    },
    {
     "data": {
      "text/plain": [
       "count    263.000000\n",
       "mean       7.741445\n",
       "std       27.539452\n",
       "min        0.000000\n",
       "25%        0.000000\n",
       "50%        4.000000\n",
       "75%        8.000000\n",
       "max      385.000000\n",
       "Name: absences, dtype: float64"
      ]
     },
     "metadata": {},
     "output_type": "display_data"
    },
    {
     "name": "stdout",
     "output_type": "stream",
     "text": [
      "Null values: 9\n",
      "Unique values: 30\n",
      "Total values in column:  263\n",
      "\n",
      " Numeric Column Data:\n",
      "25th percentile:0.0,\n",
      "75th pecentile:8.0\n",
      "IQR:8.0\n",
      "Outlier margins: [-12.0,12.0]\n",
      "Outliers count: 35\n"
     ]
    },
    {
     "data": {
      "image/png": "[encoded data removed]",
      "text/plain": [
       "<Figure size 432x288 with 1 Axes>"
      ]
     },
     "metadata": {
      "needs_background": "light"
     },
     "output_type": "display_data"
    },
    {
     "name": "stdout",
     "output_type": "stream",
     "text": [
      "Checking for correlation: 0.082\n",
      "Null values: 0\n",
      "Unique values: 30\n",
      "Total values in column:  263\n",
      "Valid values left:\n",
      "0.0      77\n",
      "4.0      41\n",
      "2.0      38\n",
      "6.0      19\n",
      "8.0      16\n",
      "10.0     12\n",
      "12.0      8\n",
      "14.0      8\n",
      "16.0      7\n",
      "3.0       6\n",
      "5.0       4\n",
      "7.0       3\n",
      "1.0       2\n",
      "22.0      2\n",
      "9.0       2\n",
      "18.0      2\n",
      "15.0      2\n",
      "20.0      2\n",
      "28.0      1\n",
      "38.0      1\n",
      "212.0     1\n",
      "21.0      1\n",
      "40.0      1\n",
      "26.0      1\n",
      "13.0      1\n",
      "385.0     1\n",
      "25.0      1\n",
      "24.0      1\n",
      "56.0      1\n",
      "17.0      1\n",
      "Name: absences, dtype: int64\n",
      "\n",
      "\n",
      "--- score ( float64 )---\n"
     ]
    },
    {
     "data": {
      "text/plain": [
       "count    263.000000\n",
       "mean      52.110266\n",
       "std       21.956220\n",
       "min        0.000000\n",
       "25%       42.500000\n",
       "50%       55.000000\n",
       "75%       65.000000\n",
       "max      100.000000\n",
       "Name: score, dtype: float64"
      ]
     },
     "metadata": {},
     "output_type": "display_data"
    },
    {
     "name": "stdout",
     "output_type": "stream",
     "text": [
      "Null values: 0\n",
      "Unique values: 18\n",
      "Total values in column:  263\n",
      "\n",
      " Numeric Column Data:\n",
      "25th percentile:42.5,\n",
      "75th pecentile:65.0\n",
      "IQR:22.5\n",
      "Outlier margins: [8.75,76.25]\n",
      "Outliers count: 46\n"
     ]
    },
    {
     "data": {
      "image/png": "[encoded data removed]",
      "text/plain": [
       "<Figure size 432x288 with 1 Axes>"
      ]
     },
     "metadata": {
      "needs_background": "light"
     },
     "output_type": "display_data"
    },
    {
     "name": "stdout",
     "output_type": "stream",
     "text": [
      "Checking for correlation: 1.0\n",
      "Null values: 0\n",
      "Unique values: 18\n",
      "Total values in column:  263\n",
      "Valid values left:\n",
      "50.0     37\n",
      "55.0     34\n",
      "0.0      23\n",
      "70.0     22\n",
      "60.0     22\n",
      "40.0     22\n",
      "65.0     21\n",
      "45.0     19\n",
      "75.0     19\n",
      "80.0     11\n",
      "30.0     10\n",
      "90.0      7\n",
      "35.0      6\n",
      "25.0      4\n",
      "95.0      2\n",
      "85.0      2\n",
      "20.0      1\n",
      "100.0     1\n",
      "Name: score, dtype: int64\n"
     ]
    }
   ],
   "source": [
    "for col in df.columns:\n",
    "    check_column(col)"
   ]
  },
  {
   "cell_type": "code",
   "execution_count": 9,
   "id": "cceadd90",
   "metadata": {},
   "outputs": [
    {
     "name": "stdout",
     "output_type": "stream",
     "text": [
      "1. age (int64)\n",
      "2. addr (object)\n",
      "3. medu (float64)\n",
      "4. fedu (float64)\n",
      "5. mjob (object)\n",
      "6. traveltime (float64)\n",
      "7. studytime (float64)\n",
      "8. failures (float64)\n",
      "9. wishhigher (object)\n",
      "10. goout (float64)\n",
      "11. health (float64)\n",
      "12. absences (float64)\n",
      "13. score (float64)\n"
     ]
    }
   ],
   "source": [
    "# Display the columns that we found interesting.   \n",
    "i=0\n",
    "for col in columns_of_interest:\n",
    "    i+=1\n",
    "    print('{a}. {b} ({c})'.format(a=i,b=col,c=df[col].dtype))"
   ]
  },
  {
   "cell_type": "code",
   "execution_count": 10,
   "id": "f9f9e7ee",
   "metadata": {},
   "outputs": [
    {
     "name": "stdout",
     "output_type": "stream",
     "text": [
      "- Checking age data of type int64 ...\n",
      "count    263.000000\n",
      "mean      16.730038\n",
      "std        1.295666\n",
      "min       15.000000\n",
      "25%       16.000000\n",
      "50%       17.000000\n",
      "75%       18.000000\n",
      "max       22.000000\n",
      "Name: age, dtype: float64\n",
      "- Checking for correlation: -0.162\n",
      "- For column age we can see an inverse correlation.\n",
      "- The older ones gets - the lower score he gets! Joke.\n",
      "- Checking for correlation for students younger than 19yo: -0.117\n",
      "- We still have a correlation but a little bit weaker.\n",
      "- Hypothesis: those who are learning at school at the age > 15 objectively get lower scores.\n"
     ]
    }
   ],
   "source": [
    "# Let`s walk through the data manualy.  \n",
    "# We will check all the columns from the list\n",
    "# one-by-one.  \n",
    "\n",
    "# The first one is age.\n",
    "col = 'age'\n",
    "\n",
    "print('- Checking',col,'data of type',df[col].dtype,'...')\n",
    "print(df[col].describe())\n",
    "#print(df[col].hist())\n",
    "ncd = get_numeric_col_data(df[col])\n",
    "\n",
    "# Checking for correlation coeficient.  \n",
    "corrcoef = np.corrcoef(df.loc[df[col].between(ncd['m_0'],ncd['m_1'])]['score'],\n",
    "                       df.loc[df[col].between(ncd['m_0'],ncd['m_1'])][col]\n",
    "                      )\n",
    "\n",
    "print('- Checking for correlation:', round(corrcoef[0,1],3))\n",
    "print('- For column',col,'we can see an inverse correlation.')\n",
    "print('- The older ones gets - the lower score he gets! Joke.')\n",
    "\n",
    "# Checking for correlation coeficient for students \n",
    "# younger than 19 y.o.  \n",
    "corrcoef = np.corrcoef(df.loc[df[col].between(ncd['m_0'],18)]['score'],\n",
    "                       df.loc[df[col].between(ncd['m_0'],18)][col]\n",
    "                      )\n",
    "\n",
    "print('- Checking for correlation for students',\n",
    "      'younger than 19yo:', round(corrcoef[0,1],3))\n",
    "print('- We still have a correlation but a little bit weaker.')\n",
    "print('- Hypothesis: those who are learning at school',\n",
    "     'at the age > 15 objectively get lower scores.')"
   ]
  },
  {
   "cell_type": "code",
   "execution_count": 11,
   "id": "4afb545e",
   "metadata": {},
   "outputs": [
    {
     "name": "stdout",
     "output_type": "stream",
     "text": [
      "- Checking addr data of type object ...\n",
      "count     255\n",
      "unique      2\n",
      "top         U\n",
      "freq      202\n",
      "Name: addr, dtype: object\n"
     ]
    },
    {
     "data": {
      "image/png": "[encoded data removed]",
      "text/plain": [
       "<Figure size 1008x288 with 1 Axes>"
      ]
     },
     "metadata": {
      "needs_background": "light"
     },
     "output_type": "display_data"
    },
    {
     "name": "stdout",
     "output_type": "stream",
     "text": [
      "None\n",
      "- Checking for stat diff message:\n",
      "Found statisticaly important diffs for column addr  at level 0.035 <= 0.05\n",
      "None\n",
      "- Hypothesis: We can see that the students living in the urban area tend to have a higher scores.\n"
     ]
    }
   ],
   "source": [
    "# The next one is addr - addres or living area. \n",
    "col = 'addr'\n",
    "\n",
    "print('- Checking',col,'data of type',df[col].dtype,'...')\n",
    "print(df[col].describe())\n",
    "#print(df[col].hist())\n",
    "\n",
    "print(build_boxplot(col))\n",
    "\n",
    "print('- Checking for stat diff message:', )\n",
    "print(get_stat_diff(col))\n",
    "\n",
    "print('- Hypothesis: We can see that the students living in the',\n",
    "      'urban area tend to have a higher scores.')"
   ]
  },
  {
   "cell_type": "code",
   "execution_count": 12,
   "id": "cf207eae",
   "metadata": {},
   "outputs": [
    {
     "name": "stdout",
     "output_type": "stream",
     "text": [
      "- Checking medu data of type float64 ...\n",
      "count    263.000000\n",
      "mean       2.806084\n",
      "std        1.086191\n",
      "min        0.000000\n",
      "25%        2.000000\n",
      "50%        3.000000\n",
      "75%        4.000000\n",
      "max        4.000000\n",
      "Name: medu, dtype: float64\n",
      "- Checking how many medu value is 0\n",
      "- Maybe this is some kind of mistake or corrupted data?\n",
      "- Min value count: 3\n",
      "- No. There is only 3 zero values. I think it is ok.\n"
     ]
    },
    {
     "data": {
      "image/png": "[encoded data removed]",
      "text/plain": [
       "<Figure size 1008x288 with 1 Axes>"
      ]
     },
     "metadata": {
      "needs_background": "light"
     },
     "output_type": "display_data"
    },
    {
     "name": "stdout",
     "output_type": "stream",
     "text": [
      "- Checking for correlation: 0.16\n",
      "- For column medu we can see a slight direct correlation.\n",
      "- Hypothesis: the higher mother`s education the higher scores her kid gets!\n"
     ]
    }
   ],
   "source": [
    "# The next one is medu - mother education.\n",
    "col = 'medu'\n",
    "\n",
    "print('- Checking',col,'data of type',df[col].dtype,'...')\n",
    "print(df[col].describe())\n",
    "\n",
    "print('- Checking how many medu value is 0')\n",
    "print('- Maybe this is some kind of mistake or corrupted data?')\n",
    "print('- Min value count:',\n",
    "      df[col].loc[df[col]==df[col].min()].value_counts().sum())\n",
    "print('- No. There is only 3 zero values. I think it is ok.')\n",
    "#print(df[col].hist())\n",
    "\n",
    "build_boxplot(col)\n",
    "\n",
    "ncd = get_numeric_col_data(df[col])\n",
    "\n",
    "# Checking for correlation coeficient\n",
    "corrcoef = np.corrcoef(df.loc[df[col].between(ncd['m_0'],ncd['m_1'])]['score'],\n",
    "                       df.loc[df[col].between(ncd['m_0'],ncd['m_1'])][col]\n",
    "                      )\n",
    "\n",
    "print('- Checking for correlation:', round(corrcoef[0,1],3))\n",
    "print('- For column',col,'we can see a slight direct correlation.')\n",
    "print('- Hypothesis: the higher mother`s education',\n",
    "      'the higher scores her kid gets!')"
   ]
  },
  {
   "cell_type": "code",
   "execution_count": 13,
   "id": "bb966c0a",
   "metadata": {},
   "outputs": [
    {
     "name": "stdout",
     "output_type": "stream",
     "text": [
      "- Checking fedu data of type float64 ...\n",
      "count    263.000000\n",
      "mean       2.714829\n",
      "std        2.545474\n",
      "min        0.000000\n",
      "25%        2.000000\n",
      "50%        3.000000\n",
      "75%        4.000000\n",
      "max       40.000000\n",
      "Name: fedu, dtype: float64\n",
      "- I know that fedu value lays between 0 and 4.\n",
      "- I see here a value of 40. Possible input mistake.\n",
      "- I will remove that row now.\n",
      "- Now that row is removed\n",
      "AxesSubplot(0.125,0.125;0.775x0.755)\n"
     ]
    },
    {
     "data": {
      "image/png": "[encoded data removed]",
      "text/plain": [
       "<Figure size 432x288 with 1 Axes>"
      ]
     },
     "metadata": {
      "needs_background": "light"
     },
     "output_type": "display_data"
    },
    {
     "data": {
      "image/png": "[encoded data removed]",
      "text/plain": [
       "<Figure size 1008x288 with 1 Axes>"
      ]
     },
     "metadata": {
      "needs_background": "light"
     },
     "output_type": "display_data"
    },
    {
     "name": "stdout",
     "output_type": "stream",
     "text": [
      "None\n",
      "- Checking for correlation: 0.083\n",
      "- For column fedu we can see a week direct correlation.\n",
      "- Hypothesis: the higher father`s education the higher scores his kid gets!\n"
     ]
    }
   ],
   "source": [
    "# The next one is fedu - Father`s education. \n",
    "col = 'fedu'\n",
    "\n",
    "print('- Checking',col,'data of type',df[col].dtype,'...')\n",
    "print(df[col].describe())\n",
    "\n",
    "\n",
    "print('- I know that fedu value lays between 0 and 4.')\n",
    "print('- I see here a value of 40. Possible input mistake.')\n",
    "print('- I will remove that row now.')\n",
    "\n",
    "# Removing row(s) with abnormal values.  \n",
    "df.drop(df.loc[df['fedu']>4].index, inplace=True)\n",
    "\n",
    "print('- Now that row is removed')\n",
    "print(df[col].hist())\n",
    "\n",
    "print(build_boxplot(col))\n",
    "\n",
    "ncd = get_numeric_col_data(df[col])\n",
    "\n",
    "# Checking for correlation coeficient\n",
    "corrcoef = np.corrcoef(df.loc[df[col].between(ncd['m_0'],ncd['m_1'])]['score'],\n",
    "                       df.loc[df[col].between(ncd['m_0'],ncd['m_1'])][col]\n",
    "                      )\n",
    "\n",
    "print('- Checking for correlation:', round(corrcoef[0,1],3))\n",
    "print('- For column',col,'we can see a week direct correlation.')\n",
    "\n",
    "print('- Hypothesis: the higher father`s education',\n",
    "      'the higher scores his kid gets!')\n"
   ]
  },
  {
   "cell_type": "code",
   "execution_count": 20,
   "id": "c275e42c",
   "metadata": {
    "scrolled": false
   },
   "outputs": [
    {
     "name": "stdout",
     "output_type": "stream",
     "text": [
      "- Checking mjob data of type object ...\n",
      "count       252\n",
      "unique        5\n",
      "top       other\n",
      "freq         88\n",
      "Name: mjob, dtype: object\n",
      "AxesSubplot(0.125,0.125;0.775x0.755)\n"
     ]
    },
    {
     "data": {
      "image/png": "[encoded data removed]",
      "text/plain": [
       "<Figure size 432x288 with 1 Axes>"
      ]
     },
     "metadata": {
      "needs_background": "light"
     },
     "output_type": "display_data"
    },
    {
     "data": {
      "image/png": "[encoded data removed]",
      "text/plain": [
       "<Figure size 1008x288 with 1 Axes>"
      ]
     },
     "metadata": {
      "needs_background": "light"
     },
     "output_type": "display_data"
    },
    {
     "name": "stdout",
     "output_type": "stream",
     "text": [
      "None\n",
      "- Checking for stat diff message:\n",
      "None\n",
      "- From the bar graph we can see that kids of motherth working in healthcare tend to have higher scores.\n",
      "- But I can`t get a reliable data to prove it.\n",
      "- Excluding mjob column from the list.\n"
     ]
    }
   ],
   "source": [
    "# The next one is mjob - Mother`s job. \n",
    "col = 'mjob'\n",
    "\n",
    "print('- Checking',col,'data of type',df[col].dtype,'...')\n",
    "print(df[col].describe())\n",
    "print(df[col].hist())\n",
    "\n",
    "print(build_boxplot(col))\n",
    "\n",
    "print('- Checking for stat diff message:', )\n",
    "print(get_stat_diff(col))\n",
    "\n",
    "print('- From the bar graph we can see that',\n",
    "     'kids of motherth working in healthcare',\n",
    "     'tend to have higher scores.')\n",
    "print('- But I can`t get a reliable data to prove it.')\n",
    "print('- Excluding mjob column from the list.')"
   ]
  },
  {
   "cell_type": "code",
   "execution_count": 24,
   "id": "0ef412bc",
   "metadata": {
    "scrolled": true
   },
   "outputs": [
    {
     "name": "stdout",
     "output_type": "stream",
     "text": [
      "- Checking wishhigher data of type object ...\n",
      "count     251\n",
      "unique      2\n",
      "top       yes\n",
      "freq      240\n",
      "Name: wishhigher, dtype: object\n",
      "AxesSubplot(0.125,0.125;0.775x0.755)\n"
     ]
    },
    {
     "data": {
      "image/png": "[encoded data removed]",
      "text/plain": [
       "<Figure size 432x288 with 1 Axes>"
      ]
     },
     "metadata": {
      "needs_background": "light"
     },
     "output_type": "display_data"
    },
    {
     "data": {
      "image/png": "[encoded data removed]",
      "text/plain": [
       "<Figure size 1008x288 with 1 Axes>"
      ]
     },
     "metadata": {
      "needs_background": "light"
     },
     "output_type": "display_data"
    },
    {
     "name": "stdout",
     "output_type": "stream",
     "text": [
      "None\n",
      "- Checking for stat diff message:\n",
      "None\n",
      "- Almost all kids want to get a higher education.\n",
      "- But this data don`t look much reliable.\n",
      "- Excluding wishhigher column from the list.\n"
     ]
    }
   ],
   "source": [
    "# The next one is wishhigher - does a student\n",
    "# wants to get a higher education.  \n",
    "col = 'wishhigher'\n",
    "\n",
    "print('- Checking',col,'data of type',df[col].dtype,'...')\n",
    "print(df[col].describe())\n",
    "print(df[col].hist())\n",
    "\n",
    "print(build_boxplot(col))\n",
    "\n",
    "print('- Checking for stat diff message:', )\n",
    "print(get_stat_diff(col))\n",
    "\n",
    "print('- Almost all kids want to get a higher',\n",
    "     'education.')\n",
    "print('- But this data don`t look much reliable.')\n",
    "print('- Excluding wishhigher column from the list.')"
   ]
  },
  {
   "cell_type": "code",
   "execution_count": 26,
   "id": "3422f047",
   "metadata": {},
   "outputs": [
    {
     "name": "stdout",
     "output_type": "stream",
     "text": [
      "- Checking traveltime data of type float64 ...\n",
      "count    262.000000\n",
      "mean       1.454198\n",
      "std        0.675092\n",
      "min        1.000000\n",
      "25%        1.000000\n",
      "50%        1.000000\n",
      "75%        2.000000\n",
      "max        4.000000\n",
      "Name: traveltime, dtype: float64\n",
      "AxesSubplot(0.125,0.125;0.775x0.755)\n"
     ]
    },
    {
     "data": {
      "image/png": "[encoded data removed]",
      "text/plain": [
       "<Figure size 432x288 with 1 Axes>"
      ]
     },
     "metadata": {
      "needs_background": "light"
     },
     "output_type": "display_data"
    },
    {
     "data": {
      "image/png": "[encoded data removed]",
      "text/plain": [
       "<Figure size 1008x288 with 1 Axes>"
      ]
     },
     "metadata": {
      "needs_background": "light"
     },
     "output_type": "display_data"
    },
    {
     "name": "stdout",
     "output_type": "stream",
     "text": [
      "None\n",
      "- Checking for correlation: -0.05\n",
      "- For column traveltime we can see a very week inverse correlation.\n",
      "- I decided to exclude traveltime table from the list.\n"
     ]
    }
   ],
   "source": [
    "# The next one is traveltime - travel inroute to\\from\n",
    "# the school\n",
    "col = 'traveltime'\n",
    "\n",
    "print('- Checking',col,'data of type',df[col].dtype,'...')\n",
    "print(df[col].describe())\n",
    "\n",
    "print(df[col].hist())\n",
    "\n",
    "print(build_boxplot(col))\n",
    "\n",
    "ncd = get_numeric_col_data(df[col])\n",
    "\n",
    "# Checking for correlation coeficient\n",
    "corrcoef = np.corrcoef(df.loc[df[col].between(ncd['m_0'],ncd['m_1'])]['score'],\n",
    "                       df.loc[df[col].between(ncd['m_0'],ncd['m_1'])][col]\n",
    "                      )\n",
    "\n",
    "print('- Checking for correlation:', round(corrcoef[0,1],3))\n",
    "print('- For column',col,'we can see a very week',\n",
    "      'inverse correlation.')\n",
    "\n",
    "print('- I decided to exclude traveltime table from the list.')"
   ]
  },
  {
   "cell_type": "code",
   "execution_count": 27,
   "id": "cc64be9e",
   "metadata": {},
   "outputs": [
    {
     "name": "stdout",
     "output_type": "stream",
     "text": [
      "- Checking studytime data of type float64 ...\n",
      "count    262.000000\n",
      "mean       2.011450\n",
      "std        0.850886\n",
      "min        1.000000\n",
      "25%        1.000000\n",
      "50%        2.000000\n",
      "75%        2.000000\n",
      "max        4.000000\n",
      "Name: studytime, dtype: float64\n",
      "AxesSubplot(0.125,0.125;0.775x0.755)\n"
     ]
    },
    {
     "data": {
      "image/png": "[encoded data removed]",
      "text/plain": [
       "<Figure size 432x288 with 1 Axes>"
      ]
     },
     "metadata": {
      "needs_background": "light"
     },
     "output_type": "display_data"
    },
    {
     "data": {
      "image/png": "[encoded data removed]",
      "text/plain": [
       "<Figure size 1008x288 with 1 Axes>"
      ]
     },
     "metadata": {
      "needs_background": "light"
     },
     "output_type": "display_data"
    },
    {
     "name": "stdout",
     "output_type": "stream",
     "text": [
      "None\n",
      "- Checking for correlation: -0.047\n",
      "- For column studytime we can see a very week inverse correlation.\n",
      "- I decided to exclude traveltime table from the list.\n"
     ]
    }
   ],
   "source": [
    "# The next one is studytime - off-school study\n",
    "# time of the students.\n",
    "col = 'studytime'\n",
    "\n",
    "print('- Checking',col,'data of type',df[col].dtype,'...')\n",
    "print(df[col].describe())\n",
    "\n",
    "print(df[col].hist())\n",
    "\n",
    "print(build_boxplot(col))\n",
    "\n",
    "ncd = get_numeric_col_data(df[col])\n",
    "\n",
    "# Checking for correlation coeficient\n",
    "corrcoef = np.corrcoef(df.loc[df[col].between(ncd['m_0'],ncd['m_1'])]['score'],\n",
    "                       df.loc[df[col].between(ncd['m_0'],ncd['m_1'])][col]\n",
    "                      )\n",
    "\n",
    "print('- Checking for correlation:', round(corrcoef[0,1],3))\n",
    "print('- For column',col,'we can see a very week',\n",
    "      'inverse correlation.')\n",
    "\n",
    "print('- I decided to exclude studytime table from the list.')"
   ]
  },
  {
   "cell_type": "code",
   "execution_count": 31,
   "id": "4b45a5d7",
   "metadata": {},
   "outputs": [
    {
     "name": "stdout",
     "output_type": "stream",
     "text": [
      "- Checking failures data of type float64 ...\n",
      "count    262.000000\n",
      "mean       0.332061\n",
      "std        0.743067\n",
      "min        0.000000\n",
      "25%        0.000000\n",
      "50%        0.000000\n",
      "75%        0.000000\n",
      "max        3.000000\n",
      "Name: failures, dtype: float64\n",
      "AxesSubplot(0.125,0.125;0.775x0.755)\n"
     ]
    },
    {
     "data": {
      "image/png": "[encoded data removed]",
      "text/plain": [
       "<Figure size 432x288 with 1 Axes>"
      ]
     },
     "metadata": {
      "needs_background": "light"
     },
     "output_type": "display_data"
    },
    {
     "data": {
      "image/png": "[encoded data removed]",
      "text/plain": [
       "<Figure size 1008x288 with 1 Axes>"
      ]
     },
     "metadata": {
      "needs_background": "light"
     },
     "output_type": "display_data"
    },
    {
     "name": "stdout",
     "output_type": "stream",
     "text": [
      "None\n",
      "- I decided to exclude because almost all not 0 data will be among the outliers.\n"
     ]
    }
   ],
   "source": [
    "# The next one is failures - off-school failures.  \n",
    "col = 'failures'\n",
    "\n",
    "print('- Checking',col,'data of type',df[col].dtype,'...')\n",
    "print(df[col].describe())\n",
    "\n",
    "print(df[col].hist())\n",
    "\n",
    "print(build_boxplot(col))\n",
    "\n",
    "print('- I decided to exclude because almost all not 0 data',\n",
    "      'will be among the outliers.')"
   ]
  },
  {
   "cell_type": "code",
   "execution_count": 35,
   "id": "651a3648",
   "metadata": {},
   "outputs": [
    {
     "name": "stdout",
     "output_type": "stream",
     "text": [
      "- Checking goout data of type float64 ...\n",
      "count    262.000000\n",
      "mean       3.091603\n",
      "std        1.078884\n",
      "min        1.000000\n",
      "25%        2.000000\n",
      "50%        3.000000\n",
      "75%        4.000000\n",
      "max        5.000000\n",
      "Name: goout, dtype: float64\n",
      "AxesSubplot(0.125,0.125;0.775x0.755)\n"
     ]
    },
    {
     "data": {
      "image/png": "[encoded data removed]",
      "text/plain": [
       "<Figure size 432x288 with 1 Axes>"
      ]
     },
     "metadata": {
      "needs_background": "light"
     },
     "output_type": "display_data"
    },
    {
     "data": {
      "image/png": "[encoded data removed]",
      "text/plain": [
       "<Figure size 1008x288 with 1 Axes>"
      ]
     },
     "metadata": {
      "needs_background": "light"
     },
     "output_type": "display_data"
    },
    {
     "name": "stdout",
     "output_type": "stream",
     "text": [
      "None\n",
      "- Checking for correlation: -0.167\n",
      "- For column goout we can see a distinct inverse correlation.\n",
      "- Hypothesis: the more time kid spend with his friends - the less scores he gets.\n"
     ]
    }
   ],
   "source": [
    "# The next one is goout - time with friends.\n",
    "col = 'goout'\n",
    "\n",
    "print('- Checking',col,'data of type',df[col].dtype,'...')\n",
    "print(df[col].describe())\n",
    "\n",
    "print(df[col].hist())\n",
    "\n",
    "print(build_boxplot(col))\n",
    "\n",
    "ncd = get_numeric_col_data(df[col])\n",
    "\n",
    "# Checking for correlation coeficient\n",
    "corrcoef = np.corrcoef(df.loc[df[col].between(ncd['m_0'],ncd['m_1'])]['score'],\n",
    "                       df.loc[df[col].between(ncd['m_0'],ncd['m_1'])][col]\n",
    "                      )\n",
    "\n",
    "print('- Checking for correlation:', round(corrcoef[0,1],3))\n",
    "print('- For column',col,'we can see a distinct',\n",
    "      'inverse correlation.')\n",
    "\n",
    "print('- Hypothesis: the more time kid spend with his',\n",
    "      'friends - the less scores he gets.')"
   ]
  },
  {
   "cell_type": "code",
   "execution_count": 37,
   "id": "d8a27190",
   "metadata": {},
   "outputs": [
    {
     "name": "stdout",
     "output_type": "stream",
     "text": [
      "- Checking health data of type float64 ...\n",
      "count    262.000000\n",
      "mean       3.435115\n",
      "std        1.370735\n",
      "min        1.000000\n",
      "25%        2.250000\n",
      "50%        3.000000\n",
      "75%        5.000000\n",
      "max        5.000000\n",
      "Name: health, dtype: float64\n",
      "AxesSubplot(0.125,0.125;0.775x0.755)\n"
     ]
    },
    {
     "data": {
      "image/png": "[encoded data removed]",
      "text/plain": [
       "<Figure size 432x288 with 1 Axes>"
      ]
     },
     "metadata": {
      "needs_background": "light"
     },
     "output_type": "display_data"
    },
    {
     "data": {
      "image/png": "[encoded data removed]",
      "text/plain": [
       "<Figure size 1008x288 with 1 Axes>"
      ]
     },
     "metadata": {
      "needs_background": "light"
     },
     "output_type": "display_data"
    },
    {
     "name": "stdout",
     "output_type": "stream",
     "text": [
      "None\n",
      "- Checking for correlation: -0.029\n",
      "- For column health we can see a very weak inverse correlation.\n",
      "- I will exclude the colum health from the list.\n"
     ]
    }
   ],
   "source": [
    "# The next one is health - student health status.\n",
    "col = 'health'\n",
    "\n",
    "print('- Checking',col,'data of type',df[col].dtype,'...')\n",
    "print(df[col].describe())\n",
    "\n",
    "print(df[col].hist())\n",
    "\n",
    "print(build_boxplot(col))\n",
    "\n",
    "ncd = get_numeric_col_data(df[col])\n",
    "\n",
    "# Checking for correlation coeficient\n",
    "corrcoef = np.corrcoef(df.loc[df[col].between(ncd['m_0'],ncd['m_1'])]['score'],\n",
    "                       df.loc[df[col].between(ncd['m_0'],ncd['m_1'])][col]\n",
    "                      )\n",
    "\n",
    "print('- Checking for correlation:', round(corrcoef[0,1],3))\n",
    "print('- For column',col,'we can see a very weak',\n",
    "      'inverse correlation.')\n",
    "\n",
    "print('- I will exclude the colum health from the list.')"
   ]
  },
  {
   "cell_type": "code",
   "execution_count": 40,
   "id": "32b3485f",
   "metadata": {},
   "outputs": [
    {
     "name": "stdout",
     "output_type": "stream",
     "text": [
      "- Checking absences data of type float64 ...\n",
      "count    262.000000\n",
      "mean       7.755725\n",
      "std       27.591184\n",
      "min        0.000000\n",
      "25%        0.000000\n",
      "50%        4.000000\n",
      "75%        8.000000\n",
      "max      385.000000\n",
      "Name: absences, dtype: float64\n",
      "AxesSubplot(0.125,0.125;0.775x0.755)\n"
     ]
    },
    {
     "data": {
      "image/png": "[encoded data removed]",
      "text/plain": [
       "<Figure size 432x288 with 1 Axes>"
      ]
     },
     "metadata": {
      "needs_background": "light"
     },
     "output_type": "display_data"
    },
    {
     "data": {
      "image/png": "[encoded data removed]",
      "text/plain": [
       "<Figure size 1008x288 with 1 Axes>"
      ]
     },
     "metadata": {
      "needs_background": "light"
     },
     "output_type": "display_data"
    },
    {
     "name": "stdout",
     "output_type": "stream",
     "text": [
      "None\n",
      "- Checking for correlation: 0.096\n",
      "- For column absences we can see a distinct inverse correlation.\n",
      "- Hypothesis: the more classes student are visited by the student - the higher scores he has.\n"
     ]
    }
   ],
   "source": [
    "# The next one is absences - quantity\n",
    "# of lost lessons.  \n",
    "col = 'absences'\n",
    "\n",
    "print('- Checking',col,'data of type',df[col].dtype,'...')\n",
    "print(df[col].describe())\n",
    "\n",
    "print(df[col].hist())\n",
    "\n",
    "print(build_boxplot(col))\n",
    "\n",
    "ncd = get_numeric_col_data(df[col])\n",
    "\n",
    "# Checking for correlation coeficient\n",
    "corrcoef = np.corrcoef(df.loc[df[col].between(0,23)]['score'],\n",
    "                       df.loc[df[col].between(0,23)][col]\n",
    "                      )\n",
    "\n",
    "print('- Checking for correlation:', round(corrcoef[0,1],3))\n",
    "print('- For column',col,'we can see a distinct',\n",
    "      'inverse correlation.')\n",
    "\n",
    "print('- Hypothesis: the more classes student are visited',\n",
    "      'by the student - the higher scores he has.')"
   ]
  },
  {
   "cell_type": "markdown",
   "id": "eec37a66",
   "metadata": {
    "scrolled": true
   },
   "source": [
    "As the conclusion:\n",
    "The dataset has enough data.\n",
    "Data quality is not so bad. \n",
    "Quite a lot of data is missing;"
   ]
  }
 ],
 "metadata": {
  "kernelspec": {
   "display_name": "Python 3",
   "language": "python",
   "name": "python3"
  },
  "language_info": {
   "codemirror_mode": {
    "name": "ipython",
    "version": 3
   },
   "file_extension": ".py",
   "mimetype": "text/x-python",
   "name": "python",
   "nbconvert_exporter": "python",
   "pygments_lexer": "ipython3",
   "version": "3.8.8"
  }
 },
 "nbformat": 4,
 "nbformat_minor": 5
}

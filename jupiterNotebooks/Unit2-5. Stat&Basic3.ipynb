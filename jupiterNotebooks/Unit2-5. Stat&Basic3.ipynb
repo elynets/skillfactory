{
 "cells": [
  {
   "cell_type": "code",
   "execution_count": 1,
   "id": "1dfc4a6d",
   "metadata": {},
   "outputs": [],
   "source": [
    "## Func for finding Z-critical through sigma\n",
    "from scipy.stats import norm\n",
    "import math\n",
    "\n",
    "def confidence_interval_norm(alpha, sigma, n, mean):\n",
    "    value=-norm.ppf(alpha/2)*sigma/math.sqrt(n)\n",
    "    return mean -value, mean +value\n"
   ]
  },
  {
   "cell_type": "code",
   "execution_count": 2,
   "id": "a3334cb0",
   "metadata": {},
   "outputs": [],
   "source": [
    "## Func for finding T-distribution with unknown sigma\n",
    "from scipy.stats import t\n",
    "import math\n",
    "\n",
    "def confidence_interval_t(alpha, s, n, mean):\n",
    "    value=-t.ppf(alpha/2, n-1)*s/math.sqrt(n)\n",
    "    return mean -value, mean +value"
   ]
  },
  {
   "cell_type": "code",
   "execution_count": 3,
   "id": "04642f22",
   "metadata": {},
   "outputs": [
    {
     "name": "stdout",
     "output_type": "stream",
     "text": [
      "1818.0 , 2182.0 with  90.0 % confidence\n"
     ]
    }
   ],
   "source": [
    "## \n",
    "alpha = 0.1\n",
    "s = 400\n",
    "n= 15\n",
    "mean = 2000\n",
    "result = confidence_interval_t(alpha, s, n, mean)\n",
    "print(round(result[0], 0),\",\", round(result[1], 0), \"with \", (1-alpha)*100, \"% confidence\")"
   ]
  },
  {
   "cell_type": "code",
   "execution_count": 4,
   "id": "20dbe89d",
   "metadata": {},
   "outputs": [
    {
     "name": "stdout",
     "output_type": "stream",
     "text": [
      "3353.0 , 3727.0 with  99.0 % confidence\n"
     ]
    }
   ],
   "source": [
    "## \n",
    "alpha = 0.01\n",
    "sigma = 1150\n",
    "n = 250\n",
    "mean = 3540\n",
    "result = confidence_interval_norm(alpha, sigma, n, mean)\n",
    "print(round(result[0], 0),\",\", round(result[1], 0), \"with \", (1-alpha)*100, \"% confidence\")"
   ]
  },
  {
   "cell_type": "code",
   "execution_count": 24,
   "id": "a92bd045",
   "metadata": {},
   "outputs": [
    {
     "name": "stdout",
     "output_type": "stream",
     "text": [
      "n= 10\n",
      "mean= 1.19\n",
      "sigma= 0.8178630692236935\n",
      "alpha= 0.01\n",
      "0.52 , 1.86 with  99.0 % confidence\n"
     ]
    }
   ],
   "source": [
    "##Task 3.7.8\n",
    "import numpy as np\n",
    "dataset=[1.2,0.2,1.6,1.9,-0.4,0.5,1.4,1.7,2.5,1.3]\n",
    "\n",
    "n = len(dataset)\n",
    "print(\"n=\",n)\n",
    "\n",
    "mean = np.mean(dataset)\n",
    "print(\"mean=\",mean)\n",
    "\n",
    "sigma = np.std(dataset)\n",
    "print(\"sigma=\", sigma)\n",
    "\n",
    "alpha = 0.01\n",
    "print(\"alpha=\",alpha)\n",
    "\n",
    "result = confidence_interval_norm(alpha, sigma, n, mean)\n",
    "print(round(result[0], 2),\",\", round(result[1], 2), \"with \", (1-alpha)*100, \"% confidence\")"
   ]
  },
  {
   "cell_type": "code",
   "execution_count": 37,
   "id": "f1fda417",
   "metadata": {},
   "outputs": [
    {
     "name": "stdout",
     "output_type": "stream",
     "text": [
      "Zcrit = 1.9599639845400545\n"
     ]
    }
   ],
   "source": [
    "#Find Z-alpha/2 for 98% of confidence\n",
    "from scipy.stats import norm\n",
    "alpha = 0.05\n",
    "zcrit = -norm.ppf(alpha/2)\n",
    "print(\"Zcrit =\", zcrit)"
   ]
  },
  {
   "cell_type": "code",
   "execution_count": 40,
   "id": "eadb4f07",
   "metadata": {},
   "outputs": [
    {
     "name": "stdout",
     "output_type": "stream",
     "text": [
      "Zcrit = 3.2498355440153697\n"
     ]
    }
   ],
   "source": [
    "#Find Tcrit for 95% confidence and liberty state 100-1\n",
    "from scipy.stats import t\n",
    "confidence = 0.99\n",
    "zcrit = t.ppf((1+confidence)/2, 10-1)\n",
    "print(\"Zcrit =\", zcrit)"
   ]
  }
 ],
 "metadata": {
  "kernelspec": {
   "display_name": "Python 3",
   "language": "python",
   "name": "python3"
  },
  "language_info": {
   "codemirror_mode": {
    "name": "ipython",
    "version": 3
   },
   "file_extension": ".py",
   "mimetype": "text/x-python",
   "name": "python",
   "nbconvert_exporter": "python",
   "pygments_lexer": "ipython3",
   "version": "3.8.8"
  }
 },
 "nbformat": 4,
 "nbformat_minor": 5
}

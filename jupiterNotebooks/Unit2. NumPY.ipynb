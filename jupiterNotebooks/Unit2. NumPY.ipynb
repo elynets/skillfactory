{
 "cells": [
  {
   "cell_type": "code",
   "execution_count": 3,
   "id": "2af93cc4",
   "metadata": {},
   "outputs": [],
   "source": [
    "import numpy as np\n",
    "my_array = np.array([[1,2,3,4], [10,11,12,13], [45,46,47,48]])"
   ]
  },
  {
   "cell_type": "code",
   "execution_count": 13,
   "id": "ace0c266",
   "metadata": {},
   "outputs": [
    {
     "data": {
      "text/plain": [
       "array([ 3, 12, 47])"
      ]
     },
     "execution_count": 13,
     "metadata": {},
     "output_type": "execute_result"
    }
   ],
   "source": [
    "my_array[:, 2]"
   ]
  },
  {
   "cell_type": "code",
   "execution_count": 75,
   "id": "66b97ace",
   "metadata": {},
   "outputs": [],
   "source": [
    "first_line = [x*y for x in range(2, 100, 6) for y in range (7, 1, -2)]\n",
    "second_line = [x ** 0.5 for x in range(1000, 1101, 2)]\n",
    "third_line = [x**2 for x in range(51)]\n",
    "\n",
    "big_secret = np.array([first_line, second_line, third_line, second_line, first_line])"
   ]
  },
  {
   "cell_type": "code",
   "execution_count": 30,
   "id": "04055f52",
   "metadata": {},
   "outputs": [
    {
     "name": "stdout",
     "output_type": "stream",
     "text": [
      "(5, 51)\n",
      "[[1.40000000e+01 1.00000000e+01 6.00000000e+00 5.60000000e+01\n",
      "  4.00000000e+01 2.40000000e+01 9.80000000e+01 7.00000000e+01\n",
      "  4.20000000e+01 1.40000000e+02 1.00000000e+02 6.00000000e+01\n",
      "  1.82000000e+02 1.30000000e+02 7.80000000e+01 2.24000000e+02\n",
      "  1.60000000e+02 9.60000000e+01 2.66000000e+02 1.90000000e+02\n",
      "  1.14000000e+02 3.08000000e+02 2.20000000e+02 1.32000000e+02\n",
      "  3.50000000e+02 2.50000000e+02 1.50000000e+02 3.92000000e+02\n",
      "  2.80000000e+02 1.68000000e+02 4.34000000e+02 3.10000000e+02\n",
      "  1.86000000e+02 4.76000000e+02 3.40000000e+02 2.04000000e+02\n",
      "  5.18000000e+02 3.70000000e+02 2.22000000e+02 5.60000000e+02\n",
      "  4.00000000e+02 2.40000000e+02 6.02000000e+02 4.30000000e+02\n",
      "  2.58000000e+02 6.44000000e+02 4.60000000e+02 2.76000000e+02\n",
      "  6.86000000e+02 4.90000000e+02 2.94000000e+02]\n",
      " [3.16227766e+01 3.16543836e+01 3.16859590e+01 3.17175031e+01\n",
      "  3.17490157e+01 3.17804972e+01 3.18119474e+01 3.18433667e+01\n",
      "  3.18747549e+01 3.19061123e+01 3.19374388e+01 3.19687347e+01\n",
      "  3.20000000e+01 3.20312348e+01 3.20624391e+01 3.20936131e+01\n",
      "  3.21247568e+01 3.21558704e+01 3.21869539e+01 3.22180074e+01\n",
      "  3.22490310e+01 3.22800248e+01 3.23109888e+01 3.23419233e+01\n",
      "  3.23728281e+01 3.24037035e+01 3.24345495e+01 3.24653662e+01\n",
      "  3.24961536e+01 3.25269119e+01 3.25576412e+01 3.25883415e+01\n",
      "  3.26190129e+01 3.26496554e+01 3.26802693e+01 3.27108545e+01\n",
      "  3.27414111e+01 3.27719392e+01 3.28024389e+01 3.28329103e+01\n",
      "  3.28633535e+01 3.28937684e+01 3.29241553e+01 3.29545141e+01\n",
      "  3.29848450e+01 3.30151480e+01 3.30454233e+01 3.30756708e+01\n",
      "  3.31058907e+01 3.31360831e+01 3.31662479e+01]\n",
      " [0.00000000e+00 1.00000000e+00 4.00000000e+00 9.00000000e+00\n",
      "  1.60000000e+01 2.50000000e+01 3.60000000e+01 4.90000000e+01\n",
      "  6.40000000e+01 8.10000000e+01 1.00000000e+02 1.21000000e+02\n",
      "  1.44000000e+02 1.69000000e+02 1.96000000e+02 2.25000000e+02\n",
      "  2.56000000e+02 2.89000000e+02 3.24000000e+02 3.61000000e+02\n",
      "  4.00000000e+02 4.41000000e+02 4.84000000e+02 5.29000000e+02\n",
      "  5.76000000e+02 6.25000000e+02 6.76000000e+02 7.29000000e+02\n",
      "  7.84000000e+02 8.41000000e+02 9.00000000e+02 9.61000000e+02\n",
      "  1.02400000e+03 1.08900000e+03 1.15600000e+03 1.22500000e+03\n",
      "  1.29600000e+03 1.36900000e+03 1.44400000e+03 1.52100000e+03\n",
      "  1.60000000e+03 1.68100000e+03 1.76400000e+03 1.84900000e+03\n",
      "  1.93600000e+03 2.02500000e+03 2.11600000e+03 2.20900000e+03\n",
      "  2.30400000e+03 2.40100000e+03 2.50000000e+03]\n",
      " [3.16227766e+01 3.16543836e+01 3.16859590e+01 3.17175031e+01\n",
      "  3.17490157e+01 3.17804972e+01 3.18119474e+01 3.18433667e+01\n",
      "  3.18747549e+01 3.19061123e+01 3.19374388e+01 3.19687347e+01\n",
      "  3.20000000e+01 3.20312348e+01 3.20624391e+01 3.20936131e+01\n",
      "  3.21247568e+01 3.21558704e+01 3.21869539e+01 3.22180074e+01\n",
      "  3.22490310e+01 3.22800248e+01 3.23109888e+01 3.23419233e+01\n",
      "  3.23728281e+01 3.24037035e+01 3.24345495e+01 3.24653662e+01\n",
      "  3.24961536e+01 3.25269119e+01 3.25576412e+01 3.25883415e+01\n",
      "  3.26190129e+01 3.26496554e+01 3.26802693e+01 3.27108545e+01\n",
      "  3.27414111e+01 3.27719392e+01 3.28024389e+01 3.28329103e+01\n",
      "  3.28633535e+01 3.28937684e+01 3.29241553e+01 3.29545141e+01\n",
      "  3.29848450e+01 3.30151480e+01 3.30454233e+01 3.30756708e+01\n",
      "  3.31058907e+01 3.31360831e+01 3.31662479e+01]\n",
      " [1.40000000e+01 1.00000000e+01 6.00000000e+00 5.60000000e+01\n",
      "  4.00000000e+01 2.40000000e+01 9.80000000e+01 7.00000000e+01\n",
      "  4.20000000e+01 1.40000000e+02 1.00000000e+02 6.00000000e+01\n",
      "  1.82000000e+02 1.30000000e+02 7.80000000e+01 2.24000000e+02\n",
      "  1.60000000e+02 9.60000000e+01 2.66000000e+02 1.90000000e+02\n",
      "  1.14000000e+02 3.08000000e+02 2.20000000e+02 1.32000000e+02\n",
      "  3.50000000e+02 2.50000000e+02 1.50000000e+02 3.92000000e+02\n",
      "  2.80000000e+02 1.68000000e+02 4.34000000e+02 3.10000000e+02\n",
      "  1.86000000e+02 4.76000000e+02 3.40000000e+02 2.04000000e+02\n",
      "  5.18000000e+02 3.70000000e+02 2.22000000e+02 5.60000000e+02\n",
      "  4.00000000e+02 2.40000000e+02 6.02000000e+02 4.30000000e+02\n",
      "  2.58000000e+02 6.44000000e+02 4.60000000e+02 2.76000000e+02\n",
      "  6.86000000e+02 4.90000000e+02 2.94000000e+02]]\n"
     ]
    },
    {
     "data": {
      "text/plain": [
       "3154.33"
      ]
     },
     "execution_count": 30,
     "metadata": {},
     "output_type": "execute_result"
    }
   ],
   "source": [
    "result = 0\n",
    "print(np.shape(big_secret))\n",
    "print(big_secret)\n",
    "for num in big_secret[:, 50]:\n",
    "    result+= num\n",
    "round(result, 2)"
   ]
  },
  {
   "cell_type": "code",
   "execution_count": 40,
   "id": "abfacb62",
   "metadata": {},
   "outputs": [
    {
     "name": "stdout",
     "output_type": "stream",
     "text": [
      "[[14.         10.          6.         56.         40.        ]\n",
      " [31.6227766  31.65438358 31.68595904 31.71750305 31.74901573]\n",
      " [ 0.          1.          4.          9.         16.        ]\n",
      " [31.6227766  31.65438358 31.68595904 31.71750305 31.74901573]\n",
      " [14.         10.          6.         56.         40.        ]]\n"
     ]
    },
    {
     "data": {
      "text/plain": [
       "121.37"
      ]
     },
     "execution_count": 40,
     "metadata": {},
     "output_type": "execute_result"
    }
   ],
   "source": [
    "result = 0\n",
    "for num in big_secret[:, 50]:\n",
    "    result+= num\n",
    "result_arr=big_secret[:, :5]\n",
    "result = result_arr[0][0]+result_arr[1][1]+result_arr[2][2]+result_arr[3][3]+result_arr[4][4]\n",
    "print(result_arr)\n",
    "round(result, 2)"
   ]
  },
  {
   "cell_type": "code",
   "execution_count": 77,
   "id": "0c313b9b",
   "metadata": {},
   "outputs": [
    {
     "name": "stdout",
     "output_type": "stream",
     "text": [
      "result\n",
      "341505315559.2347\n",
      "result2\n",
      "341505315559.2347\n"
     ]
    }
   ],
   "source": [
    "result = 1\n",
    "result_arr=big_secret[:, 46:]\n",
    "for i in range(5):\n",
    "    #print(i)\n",
    "    result*=result_arr[i][i]\n",
    "#result = result_arr[0][0]+result_arr[1][1]+result_arr[2][2]+result_arr[3][3]+result_arr[4][4]\n",
    "#print(result_arr)\n",
    "print(\"result\")\n",
    "print(result)\n",
    "result2 = result_arr[0][0]*result_arr[1][1]*result_arr[2][2]*result_arr[3][3]*result_arr[4][4]\n",
    "print(\"result2\")\n",
    "print(result2)"
   ]
  },
  {
   "cell_type": "code",
   "execution_count": 74,
   "id": "47a3585c",
   "metadata": {},
   "outputs": [
    {
     "name": "stdout",
     "output_type": "stream",
     "text": [
      "(5, 51)\n",
      "(5, 51)\n",
      "[[-1.00000000e+00  2.76000000e+02 -1.00000000e+00  4.90000000e+02\n",
      "  -1.00000000e+00]\n",
      " [ 3.30454233e+01  1.00000000e+00  3.31058907e+01  1.00000000e+00\n",
      "   3.31662479e+01]\n",
      " [-1.00000000e+00  2.20900000e+03 -1.00000000e+00  2.40100000e+03\n",
      "  -1.00000000e+00]\n",
      " [ 3.30454233e+01  1.00000000e+00  3.31058907e+01  1.00000000e+00\n",
      "   3.31662479e+01]\n",
      " [-1.00000000e+00  2.76000000e+02 -1.00000000e+00  4.90000000e+02\n",
      "  -1.00000000e+00]]\n",
      "Result:\n",
      "-1.0\n"
     ]
    }
   ],
   "source": [
    "result = 1\n",
    "print(np.shape(big_secret))\n",
    "for row in range(5):\n",
    "    for col in range(51):\n",
    "        value = big_secret[row][col]\n",
    "        if (row%2==0) and (col%2==0):\n",
    "            #print(\"Row:\",row,\"Col:\",col,\"Val:-1\")\n",
    "            big_secret[row][col] = -1\n",
    "        elif (row%2!=0) and (col%2!=0):\n",
    "            big_secret[row][col] = 1\n",
    "            #print(\"Row:\",row,\"Col:\",col,\"Val:1\")\n",
    "        else:\n",
    "            big_secret[row][col] = value\n",
    "            \n",
    "print(np.shape(big_secret))\n",
    "result_arr=big_secret[:, 46:]\n",
    "for i in range(5):\n",
    "    result*=result_arr[i][i]\n",
    "    \n",
    "print(result_arr)\n",
    "print(\"Result:\")\n",
    "print(result)\n"
   ]
  },
  {
   "cell_type": "code",
   "execution_count": 90,
   "id": "ef8f6560",
   "metadata": {},
   "outputs": [],
   "source": [
    "first = [x**(1/2) for x in range(100)]\n",
    "second = [x**(1/3) for x in range(100, 200)]\n",
    "third = [x/y for x in range(200,300,2) for y in [3,5]]\n",
    "\n",
    "great_secret = np.array([first, second, third]).T"
   ]
  },
  {
   "cell_type": "code",
   "execution_count": 80,
   "id": "b02b5235",
   "metadata": {},
   "outputs": [
    {
     "data": {
      "text/plain": [
       "(100, 3)"
      ]
     },
     "execution_count": 80,
     "metadata": {},
     "output_type": "execute_result"
    }
   ],
   "source": [
    "np.shape(great_secret)"
   ]
  },
  {
   "cell_type": "code",
   "execution_count": 87,
   "id": "1d908d51",
   "metadata": {},
   "outputs": [
    {
     "data": {
      "text/plain": [
       "0.16"
      ]
     },
     "execution_count": 87,
     "metadata": {},
     "output_type": "execute_result"
    }
   ],
   "source": [
    "result = round(np.cos(great_secret[0]).sum(), 2)\n",
    "result\n"
   ]
  },
  {
   "cell_type": "code",
   "execution_count": 88,
   "id": "3e01a3c0",
   "metadata": {},
   "outputs": [
    {
     "data": {
      "text/plain": [
       "5470.0"
      ]
     },
     "execution_count": 88,
     "metadata": {},
     "output_type": "execute_result"
    }
   ],
   "source": [
    "result = great_secret[great_secret>50].sum()\n",
    "result\n"
   ]
  },
  {
   "cell_type": "code",
   "execution_count": 91,
   "id": "362b9126",
   "metadata": {},
   "outputs": [
    {
     "data": {
      "text/plain": [
       "7.0710678118654755"
      ]
     },
     "execution_count": 91,
     "metadata": {},
     "output_type": "execute_result"
    }
   ],
   "source": [
    "result = great_secret.flatten()\n",
    "result[150]"
   ]
  },
  {
   "cell_type": "code",
   "execution_count": 96,
   "id": "c906d40f",
   "metadata": {},
   "outputs": [
    {
     "name": "stdout",
     "output_type": "stream",
     "text": [
      "(100, 3)\n",
      "115.12148016521353\n"
     ]
    }
   ],
   "source": [
    "new_arr = np.sort(great_secret, axis = 0)\n",
    "print(np.shape(new_arr))\n",
    "print(new_arr[99].sum())"
   ]
  },
  {
   "cell_type": "code",
   "execution_count": null,
   "id": "d8acb5a4",
   "metadata": {},
   "outputs": [],
   "source": []
  }
 ],
 "metadata": {
  "kernelspec": {
   "display_name": "Python 3",
   "language": "python",
   "name": "python3"
  },
  "language_info": {
   "codemirror_mode": {
    "name": "ipython",
    "version": 3
   },
   "file_extension": ".py",
   "mimetype": "text/x-python",
   "name": "python",
   "nbconvert_exporter": "python",
   "pygments_lexer": "ipython3",
   "version": "3.8.8"
  }
 },
 "nbformat": 4,
 "nbformat_minor": 5
}

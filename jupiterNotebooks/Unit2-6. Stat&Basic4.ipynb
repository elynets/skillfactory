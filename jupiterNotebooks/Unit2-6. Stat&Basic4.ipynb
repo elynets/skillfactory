{
 "cells": [
  {
   "cell_type": "code",
   "execution_count": 6,
   "id": "87ca61cb",
   "metadata": {},
   "outputs": [
    {
     "name": "stdout",
     "output_type": "stream",
     "text": [
      "Zst= -2.0\n",
      "p-value= 0.022750131948179195\n"
     ]
    }
   ],
   "source": [
    "## Task 4.7.1\n",
    "## Lifetime = 14; we`re not sure that it is that long; \n",
    "## We took a random smaple of 64 batteries that showed a lifetime of 13.5 month; \n",
    "## Sigma = 2 month (true standard deviation)\n",
    "## Alpha = 5%\n",
    "## Testing hypothesis that lifetime is shorter\n",
    "\n",
    "\n",
    "\n",
    "##H0: mu = 14\n",
    "##Ha: mu < 14\n",
    "#mu = 14\n",
    "#X = 13.5\n",
    "#Sigma = 2\n",
    "#n = 64\n",
    "#Alpha = 0.05 \n",
    "\n",
    "from scipy.stats import norm\n",
    "\n",
    "mu = 14\n",
    "x0 = 13.5\n",
    "sigma = 2\n",
    "n = 64\n",
    "alpha = 0.05\n",
    "\n",
    "z = (x0-mu)/(sigma/n**0.5)\n",
    "print(\"Zst=\",z) #-2.0\n",
    "pvalue=norm.cdf(z)\n",
    "print(\"p-value=\",pvalue)"
   ]
  },
  {
   "cell_type": "code",
   "execution_count": 13,
   "id": "fc8000c1",
   "metadata": {},
   "outputs": [
    {
     "name": "stdout",
     "output_type": "stream",
     "text": [
      "Zst= -1.92\n",
      "p-value for Ha: mu!=X is 0.055\n",
      "p-value for Ha: mu<X is 0.027\n"
     ]
    }
   ],
   "source": [
    "## Task 4.7.5\n",
    "## Weight at the package is 455g\n",
    "## Sigma = 12.5g (true standard deviation)\n",
    "## Among 16 random samples the average weight was 449g\n",
    "## H0 mu = 455 @ alpha 5%\n",
    "## Ha mu != 455\n",
    "\n",
    "from scipy.stats import norm\n",
    "\n",
    "mu = 455\n",
    "x0 = 449\n",
    "sigma = 12.5\n",
    "n = 16\n",
    "alpha = 0.05\n",
    "\n",
    "z = (x0-mu)/(sigma/n**0.5)\n",
    "print(\"Zst=\",z) #-2.0\n",
    "##pvalue for Ha!=mu\n",
    "pvalue=2*norm.cdf(z)\n",
    "print(\"p-value for Ha: mu!=X is\",round(pvalue, 3))\n",
    "##pvalue for Ha<mu\n",
    "pvalue=norm.cdf(z)\n",
    "\n",
    "print(\"p-value for Ha: mu<X is\",round(pvalue, 3))"
   ]
  },
  {
   "cell_type": "code",
   "execution_count": 17,
   "id": "24a5cd81",
   "metadata": {},
   "outputs": [
    {
     "name": "stdout",
     "output_type": "stream",
     "text": [
      "p-value for Ha: mu>X is 0.037\n",
      "0.037 > 0.05 = false - hypothesis is not true\n",
      "0.037 > 0.01 = true - hypothesis is true\n"
     ]
    }
   ],
   "source": [
    "## Task 4.8.1\n",
    "from scipy.stats import norm\n",
    "\n",
    "mu = 6.5\n",
    "n = 25\n",
    "x0 = 7\n",
    "sigma = 1.4\n",
    "alpha=0.05\n",
    "\n",
    "##H0: mu=6.5\n",
    "##Ha: mu>6.5\n",
    "\n",
    "z = (x0-mu)/(sigma/n**0.5)\n",
    "\n",
    "##pvalue for Ha!=mu\n",
    "pvalue=1-norm.cdf(z)\n",
    "print(\"p-value for Ha: mu>X is\",round(pvalue, 3))\n",
    "print(round(pvalue, 3),\"> 0.05 = false - hypothesis is not true\")\n",
    "print(round(pvalue, 3),\"> 0.01 = true - hypothesis is true\")"
   ]
  },
  {
   "cell_type": "code",
   "execution_count": 24,
   "id": "99b85da1",
   "metadata": {},
   "outputs": [
    {
     "name": "stdout",
     "output_type": "stream",
     "text": [
      "Zst= -1.1368835654229208\n",
      "p-value for Ha: mu<X is 0.129 with k= 134\n"
     ]
    }
   ],
   "source": [
    "##Task 4.8.4\n",
    "\n",
    "from scipy.stats import t\n",
    "## H0 mu = 12000\n",
    "## Ha mu < 12000\n",
    "mu = 12000\n",
    "x0 = 11500\n",
    "s = 5110\n",
    "n = 135\n",
    "\n",
    "z = (x0-mu)/(s/n**0.5)\n",
    "print(\"Zst=\",z)\n",
    "\n",
    "pvalue = t.cdf(z, n-1)\n",
    "print(\"p-value for Ha: mu<X is\",round(pvalue, 3),\"with k=\",(n-1))"
   ]
  },
  {
   "cell_type": "code",
   "execution_count": 28,
   "id": "2697312a",
   "metadata": {},
   "outputs": [
    {
     "name": "stdout",
     "output_type": "stream",
     "text": [
      "n= 10\n",
      "mean= 8.820000000000002\n",
      "S= 2.27806935803105\n",
      "alpha= 0.05\n",
      "Zst= -1.6380044030897418\n",
      "p-value for Ha: mu<X is 0.068 with k= 9\n"
     ]
    }
   ],
   "source": [
    "import numpy as np\n",
    "dataset=[6.1,9.2,11.5,8.6,12.1,3.9,8.4,10.1,9.4,8.9]\n",
    "\n",
    "mu = 10\n",
    "\n",
    "n = len(dataset)\n",
    "print(\"n=\",n)\n",
    "\n",
    "x0 = np.mean(dataset)\n",
    "print(\"mean=\",mean)\n",
    "\n",
    "s = np.std(dataset)\n",
    "print(\"S=\", s)\n",
    "\n",
    "alpha = 0.05\n",
    "print(\"alpha=\",alpha)\n",
    "\n",
    "\n",
    "z = (x0-mu)/(s/n**0.5)\n",
    "print(\"Zst=\",z)\n",
    "\n",
    "pvalue = t.cdf(z, n-1)\n",
    "print(\"p-value for Ha: mu<X is\",round(pvalue, 3),\"with k=\",(n-1))"
   ]
  }
 ],
 "metadata": {
  "kernelspec": {
   "display_name": "Python 3",
   "language": "python",
   "name": "python3"
  },
  "language_info": {
   "codemirror_mode": {
    "name": "ipython",
    "version": 3
   },
   "file_extension": ".py",
   "mimetype": "text/x-python",
   "name": "python",
   "nbconvert_exporter": "python",
   "pygments_lexer": "ipython3",
   "version": "3.8.8"
  }
 },
 "nbformat": 4,
 "nbformat_minor": 5
}

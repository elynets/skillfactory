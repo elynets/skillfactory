{
 "cells": [
  {
   "cell_type": "code",
   "execution_count": 3,
   "id": "47632410",
   "metadata": {},
   "outputs": [
    {
     "data": {
      "text/plain": [
       "12.469999999999999"
      ]
     },
     "execution_count": 3,
     "metadata": {},
     "output_type": "execute_result"
    }
   ],
   "source": [
    "import pandas as pd\n",
    "\n",
    "df = pd.DataFrame({\n",
    "    'men': [80.2, 80.8, 57.5, 98, 50.5, 73.8, 77.4, 59.7, 77.9, 52.6],\n",
    "    'women': [57.9, 57.3, 72.8, 48.2, 59.5, 48.3, 61.2, 53.9, 53.9, 70.7]\n",
    "})\n",
    "df['men'].mean()-df['women'].mean()"
   ]
  },
  {
   "cell_type": "code",
   "execution_count": 2,
   "id": "397e6c94",
   "metadata": {},
   "outputs": [
    {
     "name": "stdout",
     "output_type": "stream",
     "text": [
      "   col1\n",
      "0     2\n",
      "1     7\n",
      "2     4\n",
      "3     3\n",
      "4     6\n",
      "5     4\n",
      "6     1\n",
      "7     2\n",
      "3.5\n",
      "   col1\n",
      "0     5\n",
      "1     2\n",
      "2     4\n",
      "3     8\n",
      "4     1\n",
      "5     6\n",
      "6     7\n",
      "5.0\n"
     ]
    }
   ],
   "source": [
    "import pandas as pd\n",
    "\n",
    "df = pd.DataFrame({'col1': [2, 7, 4, 3, 6, 4, 1, 2]})\n",
    "print(df)\n",
    "print(df.col1.median())\n",
    "\n",
    "df = pd.DataFrame({'col1': [5, 2, 4, 8, 1, 6, 7]})\n",
    "\n",
    "print(df)\n",
    "print(df.col1.median())"
   ]
  },
  {
   "cell_type": "code",
   "execution_count": 14,
   "id": "e1efe439",
   "metadata": {},
   "outputs": [
    {
     "name": "stdout",
     "output_type": "stream",
     "text": [
      "75.6\n",
      "57.599999999999994\n",
      "59.6\n"
     ]
    }
   ],
   "source": [
    "df = pd.DataFrame({\n",
    "    'men': [80.2, 80.8, 57.5, 98, 50.5, 73.8, 77.4, 59.7, 77.9, 52.6],\n",
    "    'women': [57.9, 57.3, 72.8, 48.2, 59.5, 48.3, 61.2, 53.9, 53.9, 70.7]\n",
    "})\n",
    "\n",
    "df2['all'] = pd.concat([df['men'], df['women']])\n",
    "print(df['men'].median())\n",
    "print(df['women'].median())\n",
    "print(df2['all'].median())"
   ]
  },
  {
   "cell_type": "code",
   "execution_count": 22,
   "id": "025b21b9",
   "metadata": {},
   "outputs": [
    {
     "name": "stdout",
     "output_type": "stream",
     "text": [
      "Q1:\n",
      "2.0\n",
      "3.0\n",
      "Q3:\n",
      "4.5\n",
      "6.5\n"
     ]
    }
   ],
   "source": [
    "import pandas as pd\n",
    "\n",
    "df1 = pd.DataFrame({'col1': [2, 7, 4, 3, 6, 4, 1, 2]})\n",
    "df2 = pd.DataFrame({'col1': [5, 2, 4, 8, 1, 6, 7]})\n",
    "interpolation = 'linear'\n",
    "print('Q1:')\n",
    "print(df1.col1.quantile(q=0.25,interpolation=interpolation))\n",
    "print(df2.col1.quantile(q=0.25,interpolation=interpolation))\n",
    "\n",
    "print('Q3:')\n",
    "print(df1.col1.quantile(q=0.75,interpolation=interpolation))\n",
    "print(df2.col1.quantile(q=0.75,interpolation=interpolation))\n"
   ]
  }
 ],
 "metadata": {
  "kernelspec": {
   "display_name": "Python 3.9.5 64-bit",
   "language": "python",
   "name": "python395jvsc74a57bd0767d51c1340bd893661ea55ea3124f6de3c7a262a8b4abca0554b478b1e2ff90"
  },
  "language_info": {
   "codemirror_mode": {
    "name": "ipython",
    "version": 3
   },
   "file_extension": ".py",
   "mimetype": "text/x-python",
   "name": "python",
   "nbconvert_exporter": "python",
   "pygments_lexer": "ipython3",
   "version": "3.9.6"
  }
 },
 "nbformat": 4,
 "nbformat_minor": 5
}

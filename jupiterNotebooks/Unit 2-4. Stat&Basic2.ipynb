{
 "cells": [
  {
   "cell_type": "code",
   "execution_count": 11,
   "id": "ceb0db13",
   "metadata": {},
   "outputs": [
    {
     "name": "stdout",
     "output_type": "stream",
     "text": [
      "0.8997274320455579\n",
      "0.10027256795444206\n",
      "1.2815515655446004\n"
     ]
    }
   ],
   "source": [
    "from scipy.stats import norm\n",
    "\n",
    "###\n",
    "#Probability of Z<z (or P(Z<z)), WHERE, P - probability, Z - standart normal value, z - current value\n",
    "#z = 1.28\n",
    "result = norm.cdf(1.28) #0.93\n",
    "print(result)\n",
    "\n",
    "###\n",
    "#Probability of Z>z (or P(Z>z)) = 1-P(Z<z)\n",
    "#z = 1.5\n",
    "result = 1 - norm.cdf(1.28)\n",
    "print(result)\n",
    "\n",
    "##Find z knowing the probabilty of Z<z\n",
    "#Z = 0.9\n",
    "\n",
    "result = norm.ppf(0.9)\n",
    "print(result)"
   ]
  },
  {
   "cell_type": "code",
   "execution_count": 28,
   "id": "d8db53e4",
   "metadata": {},
   "outputs": [
    {
     "name": "stdout",
     "output_type": "stream",
     "text": [
      "P(Z<1) = 0.84\n",
      "P(Z<1.12) = 0.87\n",
      "P(Z<-1.87) = 0.03\n",
      "P(Z<2) = 0.02\n"
     ]
    }
   ],
   "source": [
    "#Task 2.8.1\n",
    "\n",
    "def calculate(type, z):\n",
    "    #t=type, z=z\n",
    "    task = \"P(Z<\"+str(z)+\")\"\n",
    "    if(type==1):\n",
    "        result = round(norm.cdf(z), 2)\n",
    "    else:\n",
    "        result = round((1-norm.cdf(z)), 2)\n",
    "    print(task,\"=\",result)\n",
    "    return\n",
    "\n",
    "calculate(1, 1)\n",
    "calculate(1, 1.12)\n",
    "calculate(1, -1.87)\n",
    "calculate(2, 2)\n"
   ]
  },
  {
   "cell_type": "code",
   "execution_count": 42,
   "id": "dded874d",
   "metadata": {},
   "outputs": [
    {
     "name": "stdout",
     "output_type": "stream",
     "text": [
      "-1.28\n",
      "-1.64\n",
      "-1.96\n",
      "-2.33\n",
      "-2.58\n"
     ]
    }
   ],
   "source": [
    "#Task 2.8.2\n",
    "\n",
    "#P(Z<c) = 0.1; c -?\n",
    "print(round(norm.ppf(0.1),2))\n",
    "print(round(norm.ppf(0.05),2))\n",
    "print(round(norm.ppf(0.025),2))\n",
    "print(round(norm.ppf(0.01),2))\n",
    "print(round(norm.ppf(0.005),2))"
   ]
  }
 ],
 "metadata": {
  "kernelspec": {
   "display_name": "Python 3",
   "language": "python",
   "name": "python3"
  },
  "language_info": {
   "codemirror_mode": {
    "name": "ipython",
    "version": 3
   },
   "file_extension": ".py",
   "mimetype": "text/x-python",
   "name": "python",
   "nbconvert_exporter": "python",
   "pygments_lexer": "ipython3",
   "version": "3.8.8"
  }
 },
 "nbformat": 4,
 "nbformat_minor": 5
}

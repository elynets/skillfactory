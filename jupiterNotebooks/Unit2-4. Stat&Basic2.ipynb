{
 "cells": [
  {
   "cell_type": "code",
   "execution_count": 1,
   "id": "ceb0db13",
   "metadata": {},
   "outputs": [
    {
     "name": "stdout",
     "output_type": "stream",
     "text": [
      "0.8997274320455579\n",
      "0.10027256795444206\n",
      "1.2815515655446004\n"
     ]
    }
   ],
   "source": [
    "from scipy.stats import norm\n",
    "\n",
    "###\n",
    "#Probability of Z<z (or P(Z<z)), WHERE, P - probability, Z - standart normal value, z - current value\n",
    "#z = 1.28\n",
    "result = norm.cdf(1.28) #0.93\n",
    "print(result)\n",
    "\n",
    "###\n",
    "#Probability of Z>z (or P(Z>z)) = 1-P(Z<z)\n",
    "#z = 1.5\n",
    "result = 1 - norm.cdf(1.28)\n",
    "print(result)\n",
    "\n",
    "##Find z knowing the probabilty of Z<z\n",
    "#Z = 0.9\n",
    "\n",
    "result = norm.ppf(0.9)\n",
    "print(result)"
   ]
  },
  {
   "cell_type": "code",
   "execution_count": 2,
   "id": "d8db53e4",
   "metadata": {},
   "outputs": [
    {
     "name": "stdout",
     "output_type": "stream",
     "text": [
      "P(Z<1) = 0.84\n",
      "P(Z<1.12) = 0.87\n",
      "P(Z<-1.87) = 0.03\n",
      "P(Z<2) = 0.02\n"
     ]
    }
   ],
   "source": [
    "#Task 2.8.1\n",
    "\n",
    "def calculate(type, z):\n",
    "    #t=type, z=z\n",
    "    task = \"P(Z<\"+str(z)+\")\"\n",
    "    if(type==1):\n",
    "        result = round(norm.cdf(z), 2)\n",
    "    else:\n",
    "        result = round((1-norm.cdf(z)), 2)\n",
    "    print(task,\"=\",result)\n",
    "    return\n",
    "\n",
    "calculate(1, 1)\n",
    "calculate(1, 1.12)\n",
    "calculate(1, -1.87)\n",
    "calculate(2, 2)\n"
   ]
  },
  {
   "cell_type": "code",
   "execution_count": 3,
   "id": "dded874d",
   "metadata": {},
   "outputs": [
    {
     "name": "stdout",
     "output_type": "stream",
     "text": [
      "-1.28\n",
      "-1.64\n",
      "-1.96\n",
      "-2.33\n",
      "-2.58\n"
     ]
    }
   ],
   "source": [
    "#Task 2.8.2\n",
    "\n",
    "#P(Z<c) = 0.1; c -?\n",
    "print(round(norm.ppf(0.1),2))\n",
    "print(round(norm.ppf(0.05),2))\n",
    "print(round(norm.ppf(0.025),2))\n",
    "print(round(norm.ppf(0.01),2))\n",
    "print(round(norm.ppf(0.005),2))"
   ]
  },
  {
   "cell_type": "code",
   "execution_count": 5,
   "id": "59491b85",
   "metadata": {},
   "outputs": [
    {
     "data": {
      "text/plain": [
       "0.8413447460685429"
      ]
     },
     "execution_count": 5,
     "metadata": {},
     "output_type": "execute_result"
    }
   ],
   "source": [
    "norm.cdf(75,70,5)"
   ]
  },
  {
   "cell_type": "code",
   "execution_count": 38,
   "id": "a724d2fd",
   "metadata": {},
   "outputs": [
    {
     "name": "stdout",
     "output_type": "stream",
     "text": [
      "Sigma= 2.23606797749979\n",
      "Z= 43.69504831500295\n",
      "P= 0.9873263406612659\n",
      "0.013\n"
     ]
    }
   ],
   "source": [
    "#Task 2.10.1\n",
    "#X~N(70,5)\n",
    "import math\n",
    "#our X from task - given weight - 75kg is max\n",
    "x = 75\n",
    "#mu - is basic average weight in distribution - 70\n",
    "mu = 70\n",
    "#standart deviation in average 5\n",
    "standart_deviation = 5\n",
    "#number of elements in distribution - 5\n",
    "num = 5\n",
    "#Counting sigma - standart deviation for distribution \n",
    "sigma = standart_deviation/math.sqrt(num)\n",
    "print(\"Sigma=\",sigma)\n",
    "#Counting Z - shows at how many sigmas X deviated from mu\n",
    "z = (x-mu/sigma)\n",
    "print(\"Z=\",z)\n",
    "#Counting probability of P(X<=Z)\n",
    "p=norm.cdf(sigma)\n",
    "print(\"P=\",p)\n",
    "#Probability that P(X>Z):\n",
    "print(round((1-p), 3))"
   ]
  },
  {
   "cell_type": "code",
   "execution_count": 43,
   "id": "8df01133",
   "metadata": {},
   "outputs": [
    {
     "data": {
      "text/plain": [
       "0.067"
      ]
     },
     "execution_count": 43,
     "metadata": {},
     "output_type": "execute_result"
    }
   ],
   "source": [
    "#Task 2.10.2\n",
    "#Selected n = 225\n",
    "#Total proportion = 0.2\n",
    "#P of Selected proportion in Selected n<=0.16 - ?\n",
    "round(norm.cdf(0.16, 0.2, (0.2*0.8/225)**(1/2)),3)\n"
   ]
  },
  {
   "cell_type": "code",
   "execution_count": 45,
   "id": "c8df0ee7",
   "metadata": {},
   "outputs": [
    {
     "name": "stdout",
     "output_type": "stream",
     "text": [
      "800.0\n"
     ]
    }
   ],
   "source": [
    "#Task 2.11.1\n",
    "#E(x) = x1*p1+x2*p2+x3*p3/N\n",
    "x1=400\n",
    "x2=800\n",
    "x3=1200\n",
    "p1=0.3\n",
    "p2=0.4\n",
    "p3=0.3\n",
    "n=3\n",
    "E=x1*p1+x2*p2+x3*p3\n",
    "print(E)"
   ]
  },
  {
   "cell_type": "code",
   "execution_count": 48,
   "id": "3330119e",
   "metadata": {},
   "outputs": [
    {
     "name": "stdout",
     "output_type": "stream",
     "text": [
      "18.0\n"
     ]
    }
   ],
   "source": [
    "#Task 2.11.2\n",
    "# 2   3   4   5\n",
    "# 0.1 0.2 0.6 0.1\n",
    "\n",
    "x1=2\n",
    "x2=3\n",
    "x3=4\n",
    "x4=5\n",
    "p1=0.1\n",
    "p2=0.2\n",
    "p3=0.6\n",
    "p4=0.1\n",
    "E=x1*(x1+1)*p1+x2*(x2+1)*p2+x3*(x3+1)*p3+x4*(x4+1)*p4\n",
    "print(E)"
   ]
  },
  {
   "cell_type": "code",
   "execution_count": 59,
   "id": "692c0288",
   "metadata": {},
   "outputs": [
    {
     "name": "stdout",
     "output_type": "stream",
     "text": [
      "X1= 0.16\n",
      "X1= 0.24\n",
      "502.61756476582326\n"
     ]
    }
   ],
   "source": [
    "#Task 2.11.3\n",
    "#X~N(700,120)\n",
    "#X1 = 820\n",
    "#X2 730<=X2<=820\n",
    "\n",
    "X1=norm.cdf(821,700,120)\n",
    "print(\"X1=\",round(1-X1, 2))\n",
    "X2=norm.cdf(820,700,120)-norm.cdf(730,700,120)\n",
    "print(\"X1=\",round(X2, 2))\n",
    "\n",
    "#What min grade should I have to not to be in the lowest 5%\n",
    "X3=norm.ppf(0.05, 700, 120)\n",
    "print(X3)"
   ]
  }
 ],
 "metadata": {
  "kernelspec": {
   "display_name": "Python 3",
   "language": "python",
   "name": "python3"
  },
  "language_info": {
   "codemirror_mode": {
    "name": "ipython",
    "version": 3
   },
   "file_extension": ".py",
   "mimetype": "text/x-python",
   "name": "python",
   "nbconvert_exporter": "python",
   "pygments_lexer": "ipython3",
   "version": "3.8.8"
  }
 },
 "nbformat": 4,
 "nbformat_minor": 5
}

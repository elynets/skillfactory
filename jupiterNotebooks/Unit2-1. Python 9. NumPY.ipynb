{
 "cells": [
  {
   "cell_type": "code",
   "execution_count": 2,
   "id": "2af93cc4",
   "metadata": {},
   "outputs": [],
   "source": [
    "import numpy as np\n",
    "my_array = np.array([[1,2,3,4], [10,11,12,13], [45,46,47,48]])"
   ]
  },
  {
   "cell_type": "code",
   "execution_count": 3,
   "id": "ace0c266",
   "metadata": {},
   "outputs": [
    {
     "data": {
      "text/plain": [
       "array([ 3, 12, 47])"
      ]
     },
     "execution_count": 3,
     "metadata": {},
     "output_type": "execute_result"
    }
   ],
   "source": [
    "my_array[:, 2]"
   ]
  },
  {
   "cell_type": "code",
   "execution_count": 4,
   "id": "66b97ace",
   "metadata": {},
   "outputs": [],
   "source": [
    "first_line = [x*y for x in range(2, 100, 6) for y in range (7, 1, -2)]\n",
    "second_line = [x ** 0.5 for x in range(1000, 1101, 2)]\n",
    "third_line = [x**2 for x in range(51)]\n",
    "\n",
    "big_secret = np.array([first_line, second_line, third_line, second_line, first_line])"
   ]
  },
  {
   "cell_type": "code",
   "execution_count": 5,
   "id": "04055f52",
   "metadata": {},
   "outputs": [
    {
     "name": "stdout",
     "output_type": "stream",
     "text": [
      "(5, 51)\n",
      "[[1.40000000e+01 1.00000000e+01 6.00000000e+00 5.60000000e+01\n",
      "  4.00000000e+01 2.40000000e+01 9.80000000e+01 7.00000000e+01\n",
      "  4.20000000e+01 1.40000000e+02 1.00000000e+02 6.00000000e+01\n",
      "  1.82000000e+02 1.30000000e+02 7.80000000e+01 2.24000000e+02\n",
      "  1.60000000e+02 9.60000000e+01 2.66000000e+02 1.90000000e+02\n",
      "  1.14000000e+02 3.08000000e+02 2.20000000e+02 1.32000000e+02\n",
      "  3.50000000e+02 2.50000000e+02 1.50000000e+02 3.92000000e+02\n",
      "  2.80000000e+02 1.68000000e+02 4.34000000e+02 3.10000000e+02\n",
      "  1.86000000e+02 4.76000000e+02 3.40000000e+02 2.04000000e+02\n",
      "  5.18000000e+02 3.70000000e+02 2.22000000e+02 5.60000000e+02\n",
      "  4.00000000e+02 2.40000000e+02 6.02000000e+02 4.30000000e+02\n",
      "  2.58000000e+02 6.44000000e+02 4.60000000e+02 2.76000000e+02\n",
      "  6.86000000e+02 4.90000000e+02 2.94000000e+02]\n",
      " [3.16227766e+01 3.16543836e+01 3.16859590e+01 3.17175031e+01\n",
      "  3.17490157e+01 3.17804972e+01 3.18119474e+01 3.18433667e+01\n",
      "  3.18747549e+01 3.19061123e+01 3.19374388e+01 3.19687347e+01\n",
      "  3.20000000e+01 3.20312348e+01 3.20624391e+01 3.20936131e+01\n",
      "  3.21247568e+01 3.21558704e+01 3.21869539e+01 3.22180074e+01\n",
      "  3.22490310e+01 3.22800248e+01 3.23109888e+01 3.23419233e+01\n",
      "  3.23728281e+01 3.24037035e+01 3.24345495e+01 3.24653662e+01\n",
      "  3.24961536e+01 3.25269119e+01 3.25576412e+01 3.25883415e+01\n",
      "  3.26190129e+01 3.26496554e+01 3.26802693e+01 3.27108545e+01\n",
      "  3.27414111e+01 3.27719392e+01 3.28024389e+01 3.28329103e+01\n",
      "  3.28633535e+01 3.28937684e+01 3.29241553e+01 3.29545141e+01\n",
      "  3.29848450e+01 3.30151480e+01 3.30454233e+01 3.30756708e+01\n",
      "  3.31058907e+01 3.31360831e+01 3.31662479e+01]\n",
      " [0.00000000e+00 1.00000000e+00 4.00000000e+00 9.00000000e+00\n",
      "  1.60000000e+01 2.50000000e+01 3.60000000e+01 4.90000000e+01\n",
      "  6.40000000e+01 8.10000000e+01 1.00000000e+02 1.21000000e+02\n",
      "  1.44000000e+02 1.69000000e+02 1.96000000e+02 2.25000000e+02\n",
      "  2.56000000e+02 2.89000000e+02 3.24000000e+02 3.61000000e+02\n",
      "  4.00000000e+02 4.41000000e+02 4.84000000e+02 5.29000000e+02\n",
      "  5.76000000e+02 6.25000000e+02 6.76000000e+02 7.29000000e+02\n",
      "  7.84000000e+02 8.41000000e+02 9.00000000e+02 9.61000000e+02\n",
      "  1.02400000e+03 1.08900000e+03 1.15600000e+03 1.22500000e+03\n",
      "  1.29600000e+03 1.36900000e+03 1.44400000e+03 1.52100000e+03\n",
      "  1.60000000e+03 1.68100000e+03 1.76400000e+03 1.84900000e+03\n",
      "  1.93600000e+03 2.02500000e+03 2.11600000e+03 2.20900000e+03\n",
      "  2.30400000e+03 2.40100000e+03 2.50000000e+03]\n",
      " [3.16227766e+01 3.16543836e+01 3.16859590e+01 3.17175031e+01\n",
      "  3.17490157e+01 3.17804972e+01 3.18119474e+01 3.18433667e+01\n",
      "  3.18747549e+01 3.19061123e+01 3.19374388e+01 3.19687347e+01\n",
      "  3.20000000e+01 3.20312348e+01 3.20624391e+01 3.20936131e+01\n",
      "  3.21247568e+01 3.21558704e+01 3.21869539e+01 3.22180074e+01\n",
      "  3.22490310e+01 3.22800248e+01 3.23109888e+01 3.23419233e+01\n",
      "  3.23728281e+01 3.24037035e+01 3.24345495e+01 3.24653662e+01\n",
      "  3.24961536e+01 3.25269119e+01 3.25576412e+01 3.25883415e+01\n",
      "  3.26190129e+01 3.26496554e+01 3.26802693e+01 3.27108545e+01\n",
      "  3.27414111e+01 3.27719392e+01 3.28024389e+01 3.28329103e+01\n",
      "  3.28633535e+01 3.28937684e+01 3.29241553e+01 3.29545141e+01\n",
      "  3.29848450e+01 3.30151480e+01 3.30454233e+01 3.30756708e+01\n",
      "  3.31058907e+01 3.31360831e+01 3.31662479e+01]\n",
      " [1.40000000e+01 1.00000000e+01 6.00000000e+00 5.60000000e+01\n",
      "  4.00000000e+01 2.40000000e+01 9.80000000e+01 7.00000000e+01\n",
      "  4.20000000e+01 1.40000000e+02 1.00000000e+02 6.00000000e+01\n",
      "  1.82000000e+02 1.30000000e+02 7.80000000e+01 2.24000000e+02\n",
      "  1.60000000e+02 9.60000000e+01 2.66000000e+02 1.90000000e+02\n",
      "  1.14000000e+02 3.08000000e+02 2.20000000e+02 1.32000000e+02\n",
      "  3.50000000e+02 2.50000000e+02 1.50000000e+02 3.92000000e+02\n",
      "  2.80000000e+02 1.68000000e+02 4.34000000e+02 3.10000000e+02\n",
      "  1.86000000e+02 4.76000000e+02 3.40000000e+02 2.04000000e+02\n",
      "  5.18000000e+02 3.70000000e+02 2.22000000e+02 5.60000000e+02\n",
      "  4.00000000e+02 2.40000000e+02 6.02000000e+02 4.30000000e+02\n",
      "  2.58000000e+02 6.44000000e+02 4.60000000e+02 2.76000000e+02\n",
      "  6.86000000e+02 4.90000000e+02 2.94000000e+02]]\n"
     ]
    },
    {
     "data": {
      "text/plain": [
       "3154.33"
      ]
     },
     "execution_count": 5,
     "metadata": {},
     "output_type": "execute_result"
    }
   ],
   "source": [
    "result = 0\n",
    "print(np.shape(big_secret))\n",
    "print(big_secret)\n",
    "for num in big_secret[:, 50]:\n",
    "    result+= num\n",
    "round(result, 2)"
   ]
  },
  {
   "cell_type": "code",
   "execution_count": 6,
   "id": "abfacb62",
   "metadata": {},
   "outputs": [
    {
     "name": "stdout",
     "output_type": "stream",
     "text": [
      "[[14.         10.          6.         56.         40.        ]\n",
      " [31.6227766  31.65438358 31.68595904 31.71750305 31.74901573]\n",
      " [ 0.          1.          4.          9.         16.        ]\n",
      " [31.6227766  31.65438358 31.68595904 31.71750305 31.74901573]\n",
      " [14.         10.          6.         56.         40.        ]]\n"
     ]
    },
    {
     "data": {
      "text/plain": [
       "121.37"
      ]
     },
     "execution_count": 6,
     "metadata": {},
     "output_type": "execute_result"
    }
   ],
   "source": [
    "result = 0\n",
    "for num in big_secret[:, 50]:\n",
    "    result+= num\n",
    "result_arr=big_secret[:, :5]\n",
    "result = result_arr[0][0]+result_arr[1][1]+result_arr[2][2]+result_arr[3][3]+result_arr[4][4]\n",
    "print(result_arr)\n",
    "round(result, 2)"
   ]
  },
  {
   "cell_type": "code",
   "execution_count": 7,
   "id": "0c313b9b",
   "metadata": {},
   "outputs": [
    {
     "name": "stdout",
     "output_type": "stream",
     "text": [
      "result\n",
      "341505315559.2347\n",
      "result2\n",
      "341505315559.2347\n"
     ]
    }
   ],
   "source": [
    "result = 1\n",
    "result_arr=big_secret[:, 46:]\n",
    "for i in range(5):\n",
    "    #print(i)\n",
    "    result*=result_arr[i][i]\n",
    "#result = result_arr[0][0]+result_arr[1][1]+result_arr[2][2]+result_arr[3][3]+result_arr[4][4]\n",
    "#print(result_arr)\n",
    "print(\"result\")\n",
    "print(result)\n",
    "result2 = result_arr[0][0]*result_arr[1][1]*result_arr[2][2]*result_arr[3][3]*result_arr[4][4]\n",
    "print(\"result2\")\n",
    "print(result2)"
   ]
  },
  {
   "cell_type": "code",
   "execution_count": 8,
   "id": "47a3585c",
   "metadata": {},
   "outputs": [
    {
     "name": "stdout",
     "output_type": "stream",
     "text": [
      "(5, 51)\n",
      "(5, 51)\n",
      "[[-1.00000000e+00  2.76000000e+02 -1.00000000e+00  4.90000000e+02\n",
      "  -1.00000000e+00]\n",
      " [ 3.30454233e+01  1.00000000e+00  3.31058907e+01  1.00000000e+00\n",
      "   3.31662479e+01]\n",
      " [-1.00000000e+00  2.20900000e+03 -1.00000000e+00  2.40100000e+03\n",
      "  -1.00000000e+00]\n",
      " [ 3.30454233e+01  1.00000000e+00  3.31058907e+01  1.00000000e+00\n",
      "   3.31662479e+01]\n",
      " [-1.00000000e+00  2.76000000e+02 -1.00000000e+00  4.90000000e+02\n",
      "  -1.00000000e+00]]\n",
      "Result:\n",
      "-1.0\n"
     ]
    }
   ],
   "source": [
    "result = 1\n",
    "print(np.shape(big_secret))\n",
    "for row in range(5):\n",
    "    for col in range(51):\n",
    "        value = big_secret[row][col]\n",
    "        if (row%2==0) and (col%2==0):\n",
    "            #print(\"Row:\",row,\"Col:\",col,\"Val:-1\")\n",
    "            big_secret[row][col] = -1\n",
    "        elif (row%2!=0) and (col%2!=0):\n",
    "            big_secret[row][col] = 1\n",
    "            #print(\"Row:\",row,\"Col:\",col,\"Val:1\")\n",
    "        else:\n",
    "            big_secret[row][col] = value\n",
    "            \n",
    "print(np.shape(big_secret))\n",
    "result_arr=big_secret[:, 46:]\n",
    "for i in range(5):\n",
    "    result*=result_arr[i][i]\n",
    "    \n",
    "print(result_arr)\n",
    "print(\"Result:\")\n",
    "print(result)\n"
   ]
  },
  {
   "cell_type": "code",
   "execution_count": 9,
   "id": "ef8f6560",
   "metadata": {},
   "outputs": [],
   "source": [
    "first = [x**(1/2) for x in range(100)]\n",
    "second = [x**(1/3) for x in range(100, 200)]\n",
    "third = [x/y for x in range(200,300,2) for y in [3,5]]\n",
    "\n",
    "great_secret = np.array([first, second, third]).T"
   ]
  },
  {
   "cell_type": "code",
   "execution_count": 10,
   "id": "b02b5235",
   "metadata": {},
   "outputs": [
    {
     "data": {
      "text/plain": [
       "(100, 3)"
      ]
     },
     "execution_count": 10,
     "metadata": {},
     "output_type": "execute_result"
    }
   ],
   "source": [
    "np.shape(great_secret)"
   ]
  },
  {
   "cell_type": "code",
   "execution_count": 11,
   "id": "1d908d51",
   "metadata": {},
   "outputs": [
    {
     "data": {
      "text/plain": [
       "0.16"
      ]
     },
     "execution_count": 11,
     "metadata": {},
     "output_type": "execute_result"
    }
   ],
   "source": [
    "result = round(np.cos(great_secret[0]).sum(), 2)\n",
    "result\n"
   ]
  },
  {
   "cell_type": "code",
   "execution_count": 12,
   "id": "3e01a3c0",
   "metadata": {},
   "outputs": [
    {
     "data": {
      "text/plain": [
       "5470.0"
      ]
     },
     "execution_count": 12,
     "metadata": {},
     "output_type": "execute_result"
    }
   ],
   "source": [
    "result = great_secret[great_secret>50].sum()\n",
    "result\n"
   ]
  },
  {
   "cell_type": "code",
   "execution_count": 13,
   "id": "362b9126",
   "metadata": {},
   "outputs": [
    {
     "data": {
      "text/plain": [
       "7.0710678118654755"
      ]
     },
     "execution_count": 13,
     "metadata": {},
     "output_type": "execute_result"
    }
   ],
   "source": [
    "result = great_secret.flatten()\n",
    "result[150]"
   ]
  },
  {
   "cell_type": "code",
   "execution_count": 14,
   "id": "c906d40f",
   "metadata": {},
   "outputs": [
    {
     "name": "stdout",
     "output_type": "stream",
     "text": [
      "(100, 3)\n",
      "115.12148016521353\n"
     ]
    }
   ],
   "source": [
    "new_arr = np.sort(great_secret, axis = 0)\n",
    "print(np.shape(new_arr))\n",
    "print(new_arr[99].sum())"
   ]
  },
  {
   "cell_type": "code",
   "execution_count": 15,
   "id": "d8acb5a4",
   "metadata": {},
   "outputs": [
    {
     "name": "stdout",
     "output_type": "stream",
     "text": [
      "[[  1.  135.   34.    4. ]\n",
      " [  2.  160.   43.    5. ]\n",
      " [  3.  163.   40.    4.3]\n",
      " [  4.  147.   44.    5. ]\n",
      " [  5.  138.   41.    4.7]\n",
      " [  6.  149.   54.    3.9]\n",
      " [  7.  136.   39.    4.2]\n",
      " [  8.  154.   48.    4.9]\n",
      " [  9.  137.   35.    3.7]\n",
      " [ 10.  165.   60.    4.6]]\n"
     ]
    }
   ],
   "source": [
    "import pandas as pd\n",
    "import numpy as np\n",
    "students_pd = pd.read_csv('~/Git/skillfactory/Unit2/datasheet/students.csv')\n",
    "students = students_pd.values\n",
    "print(students)"
   ]
  },
  {
   "cell_type": "code",
   "execution_count": 16,
   "id": "a5fae3f7",
   "metadata": {},
   "outputs": [
    {
     "name": "stdout",
     "output_type": "stream",
     "text": [
      "4.430000000000001\n"
     ]
    }
   ],
   "source": [
    "mean = np.mean(students[:,-1])\n",
    "print(mean)"
   ]
  },
  {
   "cell_type": "code",
   "execution_count": 17,
   "id": "ccc70379",
   "metadata": {},
   "outputs": [
    {
     "name": "stdout",
     "output_type": "stream",
     "text": [
      "4.449999999999999\n"
     ]
    }
   ],
   "source": [
    "median = np.median(students[:,-1])\n",
    "print(median)"
   ]
  },
  {
   "cell_type": "code",
   "execution_count": 18,
   "id": "42fac778",
   "metadata": {},
   "outputs": [
    {
     "name": "stdout",
     "output_type": "stream",
     "text": [
      "1.8\n"
     ]
    }
   ],
   "source": [
    "#Difference of Students Average to Median Mass rounded to 1 sign\n",
    "print(round((np.average(students[:,-2])-np.median(students[:,-2])), 1))"
   ]
  },
  {
   "cell_type": "code",
   "execution_count": 19,
   "id": "298c037a",
   "metadata": {},
   "outputs": [
    {
     "name": "stdout",
     "output_type": "stream",
     "text": [
      "[[1.         0.64314431]\n",
      " [0.64314431 1.        ]]\n"
     ]
    }
   ],
   "source": [
    "#Correlation between Length and Mass\n",
    "corr = np.corrcoef(students[:, 1], students[:, 2])\n",
    "print(corr)"
   ]
  },
  {
   "cell_type": "code",
   "execution_count": 20,
   "id": "7c3b9e37",
   "metadata": {},
   "outputs": [
    {
     "name": "stdout",
     "output_type": "stream",
     "text": [
      "[1.         0.64314431]\n",
      "[1.         0.46293714]\n",
      "[1.         0.29801325]\n"
     ]
    }
   ],
   "source": [
    "#Correlation between Length and Mass\n",
    "corr_lm = np.corrcoef(students[:, 1], students[:, 2])\n",
    "print(corr_lm[0])\n",
    "\n",
    "#Correlation between Length and Avg\n",
    "corr_la = np.corrcoef(students[:, 1], students[:, 3])\n",
    "print(corr_la[0])\n",
    "\n",
    "#Correlation between Mass and Avg\n",
    "corr_ma = np.corrcoef(students[:, 2], students[:, 3])\n",
    "print(corr_ma[0])"
   ]
  },
  {
   "cell_type": "code",
   "execution_count": 21,
   "id": "84f70487",
   "metadata": {},
   "outputs": [
    {
     "name": "stdout",
     "output_type": "stream",
     "text": [
      "11.083320801997928\n"
     ]
    }
   ],
   "source": [
    "#Standart Deviation in Length\n",
    "std = np.std(students[:, 1])\n",
    "print(std)"
   ]
  },
  {
   "cell_type": "code",
   "execution_count": 22,
   "id": "cffa41d5",
   "metadata": {},
   "outputs": [
    {
     "name": "stdout",
     "output_type": "stream",
     "text": [
      "0.4517742799230607\n"
     ]
    }
   ],
   "source": [
    "#Standart Deviation in Avg\n",
    "std = np.std(students[:, -1])\n",
    "print(std)"
   ]
  },
  {
   "cell_type": "code",
   "execution_count": 23,
   "id": "818060d6",
   "metadata": {},
   "outputs": [
    {
     "name": "stdout",
     "output_type": "stream",
     "text": [
      "60.36\n"
     ]
    }
   ],
   "source": [
    "#Dispersion in Mass\n",
    "std = np.std(students[:, 2])\n",
    "avg = np.average(students[:, 2])\n",
    "print(std**2)"
   ]
  },
  {
   "cell_type": "code",
   "execution_count": 24,
   "id": "3d2a58ce",
   "metadata": {},
   "outputs": [
    {
     "name": "stdout",
     "output_type": "stream",
     "text": [
      "(4, 4, 4, 4)\n",
      "[[[[1. 1. 1. 1.]\n",
      "   [1. 1. 1. 1.]\n",
      "   [1. 1. 1. 1.]\n",
      "   [1. 1. 1. 1.]]\n",
      "\n",
      "  [[1. 1. 1. 1.]\n",
      "   [1. 1. 1. 1.]\n",
      "   [1. 1. 1. 1.]\n",
      "   [1. 1. 1. 1.]]\n",
      "\n",
      "  [[1. 1. 1. 1.]\n",
      "   [1. 1. 1. 1.]\n",
      "   [1. 1. 1. 1.]\n",
      "   [1. 1. 1. 1.]]\n",
      "\n",
      "  [[1. 1. 1. 1.]\n",
      "   [1. 1. 1. 1.]\n",
      "   [1. 1. 1. 1.]\n",
      "   [1. 1. 1. 1.]]]\n",
      "\n",
      "\n",
      " [[[1. 1. 1. 1.]\n",
      "   [1. 1. 1. 1.]\n",
      "   [1. 1. 1. 1.]\n",
      "   [1. 1. 1. 1.]]\n",
      "\n",
      "  [[1. 1. 1. 1.]\n",
      "   [1. 1. 1. 1.]\n",
      "   [1. 1. 1. 1.]\n",
      "   [1. 1. 1. 1.]]\n",
      "\n",
      "  [[1. 1. 1. 1.]\n",
      "   [1. 1. 1. 1.]\n",
      "   [1. 1. 1. 1.]\n",
      "   [1. 1. 1. 1.]]\n",
      "\n",
      "  [[1. 1. 1. 1.]\n",
      "   [1. 1. 1. 1.]\n",
      "   [1. 1. 1. 1.]\n",
      "   [1. 1. 1. 1.]]]\n",
      "\n",
      "\n",
      " [[[1. 1. 1. 1.]\n",
      "   [1. 1. 1. 1.]\n",
      "   [1. 1. 1. 1.]\n",
      "   [1. 1. 1. 1.]]\n",
      "\n",
      "  [[1. 1. 1. 1.]\n",
      "   [1. 1. 1. 1.]\n",
      "   [1. 1. 1. 1.]\n",
      "   [1. 1. 1. 1.]]\n",
      "\n",
      "  [[1. 1. 1. 1.]\n",
      "   [1. 1. 1. 1.]\n",
      "   [1. 1. 1. 1.]\n",
      "   [1. 1. 1. 1.]]\n",
      "\n",
      "  [[1. 1. 1. 1.]\n",
      "   [1. 1. 1. 1.]\n",
      "   [1. 1. 1. 1.]\n",
      "   [1. 1. 1. 1.]]]\n",
      "\n",
      "\n",
      " [[[1. 1. 1. 1.]\n",
      "   [1. 1. 1. 1.]\n",
      "   [1. 1. 1. 1.]\n",
      "   [1. 1. 1. 1.]]\n",
      "\n",
      "  [[1. 1. 1. 1.]\n",
      "   [1. 1. 1. 1.]\n",
      "   [1. 1. 1. 1.]\n",
      "   [1. 1. 1. 1.]]\n",
      "\n",
      "  [[1. 1. 1. 1.]\n",
      "   [1. 1. 1. 1.]\n",
      "   [1. 1. 1. 1.]\n",
      "   [1. 1. 1. 1.]]\n",
      "\n",
      "  [[1. 1. 1. 1.]\n",
      "   [1. 1. 1. 1.]\n",
      "   [1. 1. 1. 1.]\n",
      "   [1. 1. 1. 1.]]]]\n",
      "(4, 4)\n",
      "[[1. 1. 1. 1.]\n",
      " [1. 1. 1. 1.]\n",
      " [1. 1. 1. 1.]\n",
      " [1. 1. 1. 1.]]\n"
     ]
    }
   ],
   "source": [
    "new_array = np.ones((4,4,4,4))\n",
    "print(np.shape(new_array))\n",
    "print(new_array)\n",
    "\n",
    "new_array = np.ones((4,4))\n",
    "print(np.shape(new_array))\n",
    "print(new_array)\n"
   ]
  },
  {
   "cell_type": "code",
   "execution_count": 25,
   "id": "516b7d8a",
   "metadata": {},
   "outputs": [
    {
     "data": {
      "text/plain": [
       "array([[1, 1, 1, 1, 1],\n",
       "       [1, 1, 1, 1, 1],\n",
       "       [1, 1, 1, 1, 1],\n",
       "       [1, 1, 1, 1, 1],\n",
       "       [1, 1, 1, 1, 1],\n",
       "       [1, 1, 1, 1, 1],\n",
       "       [1, 1, 1, 1, 1],\n",
       "       [1, 1, 1, 1, 1],\n",
       "       [1, 1, 1, 1, 1],\n",
       "       [1, 1, 1, 1, 1]])"
      ]
     },
     "execution_count": 25,
     "metadata": {},
     "output_type": "execute_result"
    }
   ],
   "source": [
    "np.full((10, 5), 1) #Module 9.7 - Task 2 - whats wrong??"
   ]
  },
  {
   "cell_type": "code",
   "execution_count": 26,
   "id": "cec3da37",
   "metadata": {},
   "outputs": [
    {
     "name": "stdout",
     "output_type": "stream",
     "text": [
      "(5, 5)\n",
      "[[ 7  8  9]\n",
      " [12 13 14]\n",
      " [17 18 19]]\n"
     ]
    }
   ],
   "source": [
    "my_array = np.array([[1,2,3,4,5],\n",
    "                     [6,7,8,9,10],\n",
    "                     [11,12,13,14,15],\n",
    "                     [16,17,18,19,20],\n",
    "                     [21,22,23,24,25]])\n",
    "print(np.shape(my_array))\n",
    "print(my_array[1:4, 1:4])"
   ]
  },
  {
   "cell_type": "code",
   "execution_count": 27,
   "id": "f18a204b",
   "metadata": {},
   "outputs": [
    {
     "name": "stdout",
     "output_type": "stream",
     "text": [
      "(5, 5)\n",
      "[[ 0.84147098  0.90929743  0.14112001 -0.7568025  -0.95892427]\n",
      " [-0.2794155   0.6569866   0.98935825  0.41211849 -0.54402111]\n",
      " [-0.99999021 -0.53657292  0.42016704  0.99060736  0.65028784]\n",
      " [-0.28790332 -0.96139749 -0.75098725  0.14987721  0.91294525]\n",
      " [ 0.83665564 -0.00885131 -0.8462204  -0.90557836 -0.13235175]]\n",
      "-0.058\n"
     ]
    }
   ],
   "source": [
    "my_array = np.array([[1,2,3,4,5],\n",
    "                     [6,7,8,9,10],\n",
    "                     [11,12,13,14,15],\n",
    "                     [16,17,18,19,20],\n",
    "                     [21,22,23,24,25]])\n",
    "my_sin = np.sin(my_array)\n",
    "print(np.shape(my_sin))\n",
    "print(my_sin)\n",
    "print(round(np.sum(my_sin), 3))"
   ]
  },
  {
   "cell_type": "code",
   "execution_count": 28,
   "id": "c25f571f",
   "metadata": {},
   "outputs": [
    {
     "name": "stdout",
     "output_type": "stream",
     "text": [
      "(5, 5)\n",
      "[[ 0.84147098  0.90929743  0.14112001 -0.7568025  -0.95892427]\n",
      " [-0.2794155   0.6569866   0.98935825  0.41211849 -0.54402111]\n",
      " [-0.99999021 -0.53657292  0.42016704  0.99060736  0.65028784]\n",
      " [-0.28790332 -0.96139749 -0.75098725  0.14987721  0.91294525]\n",
      " [ 0.83665564 -0.00885131 -0.8462204  -0.90557836 -0.13235175]]\n",
      "-0.058\n",
      "7.572\n"
     ]
    }
   ],
   "source": [
    "my_array = np.array([[1,2,3,4,5],\n",
    "                     [6,7,8,9,10],\n",
    "                     [11,12,13,14,15],\n",
    "                     [16,17,18,19,20],\n",
    "                     [21,22,23,24,25]])\n",
    "my_sin = np.sin(my_array)\n",
    "print(np.shape(my_sin))\n",
    "print(my_sin)\n",
    "print(round(np.sum(my_sin), 3))\n",
    "my_sin[1:4,1:4] = 1\n",
    "print(round(np.sum(my_sin), 3))"
   ]
  },
  {
   "cell_type": "code",
   "execution_count": 29,
   "id": "139faa94",
   "metadata": {},
   "outputs": [
    {
     "name": "stdout",
     "output_type": "stream",
     "text": [
      "(5, 5)\n",
      "[[ 0.84147098  0.90929743  0.14112001 -0.7568025  -0.95892427]\n",
      " [-0.2794155   0.6569866   0.98935825  0.41211849 -0.54402111]\n",
      " [-0.99999021 -0.53657292  0.42016704  0.99060736  0.65028784]\n",
      " [-0.28790332 -0.96139749 -0.75098725  0.14987721  0.91294525]\n",
      " [ 0.83665564 -0.00885131 -0.8462204  -0.90557836 -0.13235175]]\n",
      "-0.058\n",
      "7.572\n"
     ]
    }
   ],
   "source": [
    "my_array = np.array([[1,2,3,4,5],\n",
    "                     [6,7,8,9,10],\n",
    "                     [11,12,13,14,15],\n",
    "                     [16,17,18,19,20],\n",
    "                     [21,22,23,24,25]])\n",
    "my_sin = np.sin(my_array)\n",
    "print(np.shape(my_sin))\n",
    "print(my_sin)\n",
    "print(round(np.sum(my_sin), 3))\n",
    "my_sin[1:4,1:4] = 1\n",
    "print(round(np.sum(my_sin), 3))\n"
   ]
  },
  {
   "cell_type": "code",
   "execution_count": 56,
   "id": "7e6f70bc",
   "metadata": {},
   "outputs": [
    {
     "name": "stdout",
     "output_type": "stream",
     "text": [
      "array 1\n",
      "(5, 5)\n",
      "[[ 0.84147098  0.90929743  0.14112001 -0.7568025  -0.95892427]\n",
      " [-0.2794155   1.          1.          1.         -0.54402111]\n",
      " [-0.99999021  1.          1.          1.          0.65028784]\n",
      " [-0.28790332  1.          1.          1.          0.91294525]\n",
      " [ 0.83665564 -0.00885131 -0.8462204  -0.90557836 -0.13235175]]\n",
      "array new\n",
      "(20,)\n",
      "[ 0.84147098  0.90929743  0.14112001 -0.7568025  -0.2794155   1.\n",
      "  1.          1.         -0.99999021  1.          1.          1.\n",
      " -0.28790332  1.          1.          1.          0.83665564 -0.00885131\n",
      " -0.8462204  -0.90557836]\n",
      "array reshaped\n",
      "(10, 2)\n",
      "[[ 0.84147098  0.90929743]\n",
      " [ 0.14112001 -0.7568025 ]\n",
      " [-0.2794155   1.        ]\n",
      " [ 1.          1.        ]\n",
      " [-0.99999021  1.        ]\n",
      " [ 1.          1.        ]\n",
      " [-0.28790332  1.        ]\n",
      " [ 1.          1.        ]\n",
      " [ 0.83665564 -0.00885131]\n",
      " [-0.8462204  -0.90557836]]\n",
      "2.406\n"
     ]
    }
   ],
   "source": [
    "my_array = np.array([[1,2,3,4,5],\n",
    "                     [6,7,8,9,10],\n",
    "                     [11,12,13,14,15],\n",
    "                     [16,17,18,19,20],\n",
    "                     [21,22,23,24,25]])\n",
    "my_sin = np.sin(my_array)\n",
    "\n",
    "my_sin[1:4,1:4] = 1\n",
    "print(\"array 1\")\n",
    "print(np.shape(my_sin))\n",
    "print(my_sin)\n",
    "new_my_sin = my_sin[:,0:4].flatten()\n",
    "print(\"array new\")\n",
    "print(np.shape(new_my_sin))\n",
    "print(new_my_sin)\n",
    "new_reshaped_my_sin = new_my_sin.reshape((10,2))\n",
    "print(\"array reshaped\")\n",
    "print(np.shape(new_reshaped_my_sin))\n",
    "print(new_reshaped_my_sin)\n",
    "print(round(np.sum(new_reshaped_my_sin[:,0]), 3))"
   ]
  },
  {
   "cell_type": "code",
   "execution_count": 73,
   "id": "5218c20d",
   "metadata": {},
   "outputs": [
    {
     "name": "stdout",
     "output_type": "stream",
     "text": [
      "302501.0\n",
      "292095.0\n",
      "[[1.         0.99999973]\n",
      " [0.99999973 1.        ]]\n"
     ]
    }
   ],
   "source": [
    "import numpy as np\n",
    "data = [x**2 for x in range(101, 1000, 2)]\n",
    "bigdata = np.array(data)\n",
    "\n",
    "np.median(bigdata)\n",
    "print(np.median(bigdata))\n",
    "print(round(np.std(bigdata),0))\n",
    "test = bigdata.reshape((225,2))\n",
    "corr_coef=np.corrcoef(test[:, 0], test[:, 1])\n",
    "print(corr_coef)"
   ]
  },
  {
   "cell_type": "code",
   "execution_count": 74,
   "id": "f9c25c6b",
   "metadata": {},
   "outputs": [
    {
     "data": {
      "text/plain": [
       "array([[1, 1, 1, 1, 1],\n",
       "       [1, 1, 1, 1, 1],\n",
       "       [1, 1, 1, 1, 1],\n",
       "       [1, 1, 1, 1, 1],\n",
       "       [1, 1, 1, 1, 1],\n",
       "       [1, 1, 1, 1, 1],\n",
       "       [1, 1, 1, 1, 1],\n",
       "       [1, 1, 1, 1, 1],\n",
       "       [1, 1, 1, 1, 1],\n",
       "       [1, 1, 1, 1, 1]])"
      ]
     },
     "execution_count": 74,
     "metadata": {},
     "output_type": "execute_result"
    }
   ],
   "source": [
    "np.full((10, 5), 1)\n"
   ]
  }
 ],
 "metadata": {
  "kernelspec": {
   "display_name": "Python 3",
   "language": "python",
   "name": "python3"
  },
  "language_info": {
   "codemirror_mode": {
    "name": "ipython",
    "version": 3
   },
   "file_extension": ".py",
   "mimetype": "text/x-python",
   "name": "python",
   "nbconvert_exporter": "python",
   "pygments_lexer": "ipython3",
   "version": "3.8.8"
  }
 },
 "nbformat": 4,
 "nbformat_minor": 5
}
